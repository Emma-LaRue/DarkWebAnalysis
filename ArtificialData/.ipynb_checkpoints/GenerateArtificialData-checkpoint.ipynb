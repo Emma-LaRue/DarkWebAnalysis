{
 "cells": [
  {
   "cell_type": "code",
   "execution_count": 1,
   "metadata": {},
   "outputs": [],
   "source": [
    "import numpy as np\n",
    "import pandas as pd\n",
    "import matplotlib.pyplot as plt\n",
    "from itertools import compress\n",
    "\n",
    "import datetime\n",
    "from dateutil.parser import parse\n",
    "\n",
    "import math\n",
    "import os\n",
    "import copy\n",
    "import pickle"
   ]
  },
  {
   "cell_type": "markdown",
   "metadata": {},
   "source": [
    "## Load in data"
   ]
  },
  {
   "cell_type": "code",
   "execution_count": 2,
   "metadata": {},
   "outputs": [],
   "source": [
    "# Read in data (from pickle file)\n",
    "file = open('train_set_filtered','rb')\n",
    "train_set = pickle.load(file)\n",
    "\n",
    "file = open('test_set_filtered','rb')\n",
    "test_set = pickle.load(file)\n",
    "\n",
    "# Combine training/testing data into one dataframe\n",
    "data = pd.concat([train_set, test_set])"
   ]
  },
  {
   "cell_type": "code",
   "execution_count": 3,
   "metadata": {},
   "outputs": [],
   "source": [
    "start_date = data.iloc[0,:]['date'] # Get oldest date\n",
    "end_date = data.iloc[-1,:]['date'] # Get most recent date\n",
    "elapsed_time = (end_date-start_date).days # Get elapsed time in days"
   ]
  },
  {
   "cell_type": "markdown",
   "metadata": {},
   "source": [
    "## Get emission probabilities"
   ]
  },
  {
   "cell_type": "code",
   "execution_count": 17,
   "metadata": {},
   "outputs": [],
   "source": [
    "# Function gets tally of drugs sold for given vendor\n",
    "def get_Drugs4Vendor(vendor_name, data_df=data, fv='vendor_name', fd='drug_prediction'):\n",
    "    # Input: data_df(dataframe), vendor_name(string), features_name*2(string).\n",
    "    # Returns: series, representing proportion of total for each drug\n",
    "    vendor_subset = data_df[data_df[fv] == vendor_name]\n",
    "    vendor_drug_tally = vendor_subset[fd].groupby(vendor_subset[fd]).count()\n",
    "    return(vendor_drug_tally/np.sum(vendor_drug_tally))\n",
    "\n",
    "# Create emission probability table\n",
    "def build_EmsProbTable(rows, cols, row_name='Vendor_Name'):\n",
    "    # Input: rows/cols(list)-rows and columns for table, row_name(string).\n",
    "    # Return: emission probability table(dataframe)\n",
    "    ems_prob_table = pd.DataFrame(columns = cols) # Initilize the table with \"cols\" columns\n",
    "    ems_prob_table.insert(0, row_name, rows) # Insert vendor list in 1st column\n",
    "    ems_prob_table.iloc[:,1:] = ems_prob_table[row_name].apply(get_Drugs4Vendor)\n",
    "    # Sort by Vendor name and fill NA values with 0\n",
    "    ems_prob_table = ems_prob_table.sort_values(by = [row_name])\n",
    "    ems_prob_table = ems_prob_table.fillna(0)\n",
    "    ems_prob_table = ems_prob_table.set_index('Vendor_Name')\n",
    "    return ems_prob_table\n",
    "\n",
    "# Shift the ems_prob_table (dataframe) to array format\n",
    "def convert_EmsProbTable(ems_prob_table):\n",
    "    # Input: emission probability table(dataframe)\n",
    "    # Return: emission probability(array)\n",
    "    ems_prob = np.array(ems_prob_table)\n",
    "    ems_prob = np.array(list(ems_prob[:, :]), dtype=np.float) # convert to float\n",
    "    return ems_prob"
   ]
  },
  {
   "cell_type": "code",
   "execution_count": 18,
   "metadata": {},
   "outputs": [
    {
     "data": {
      "text/plain": [
       "(190, 15)"
      ]
     },
     "execution_count": 18,
     "metadata": {},
     "output_type": "execute_result"
    }
   ],
   "source": [
    "# Get the list of vendors and drugs\n",
    "vendor_list = data['vendor_name'].unique()\n",
    "drug_list = data['drug_prediction'].unique()\n",
    "\n",
    "# Compute emission probability\n",
    "ems_prob_table = build_EmsProbTable(vendor_list, drug_list, row_name='Vendor_Name')\n",
    "ems_prob = convert_EmsProbTable(ems_prob_table)\n",
    "ems_prob.shape"
   ]
  },
  {
   "cell_type": "markdown",
   "metadata": {},
   "source": [
    "## Compute lambda values for each vendor, for exponential distribution"
   ]
  },
  {
   "cell_type": "code",
   "execution_count": 4,
   "metadata": {},
   "outputs": [],
   "source": [
    "# Get lambda value (rate parameter) for each vendor: 1/E(x) for each\n",
    "# I.e. compute number of transactions per day\n",
    "lambda_vals = data['vendor_name'].groupby(data['vendor_name']).count()/elapsed_time"
   ]
  },
  {
   "cell_type": "markdown",
   "metadata": {},
   "source": [
    "## Functions to generate random sequence"
   ]
  },
  {
   "cell_type": "code",
   "execution_count": 194,
   "metadata": {},
   "outputs": [],
   "source": [
    "import datetime\n",
    "\n",
    "def get_exp_rv(lam):\n",
    "    # Function generates exponential random variable using inverse sampling\n",
    "#     Args: lam is the rate parameter for the distribution\n",
    "    U = np.random.uniform(low = 0, high = 1, size = lam.shape)\n",
    "    X = (-1/lam) * np.log(U)\n",
    "    return(X)\n",
    "\n",
    "# Might need to generate different sequence for each month (distribution not constant over time)\n",
    "# Function to generate artificial vendor sequence\n",
    "def gen_rand_vendor_seq(n_samples = data.shape[0], start_date = datetime.datetime(2018,4,1)):\n",
    "#     Args: n_samples is number of samples to generate\n",
    "#           start_date is initial date of the sequence\n",
    "    # Empty list to hold vendor sequence\n",
    "    vendor_names = []\n",
    "\n",
    "    # Empty list to hold time stamp sequence\n",
    "    time_stamps = []\n",
    "    prev = start_date # intialize time stamp\n",
    "    \n",
    "    # Empty list to hold drug sequence\n",
    "    drugs = []\n",
    "    drug_cats = list(ems_prob_table) # drug categories\n",
    "    \n",
    "    # For each sample\n",
    "    for idx in range(n_samples):\n",
    "        if idx % 1000 == 0:\n",
    "            print('Finished generating', idx, 'samples.')\n",
    "        \n",
    "        # Generate exponential random variable (time value) for each lambda value (corresponding to each vendor)\n",
    "        times = get_exp_rv(lambda_vals)\n",
    "        vendor = times.idxmin()\n",
    "        vendor_names.append(vendor) # get the name of the vendor with smallest time value\n",
    "        \n",
    "        # Get the timestamp of the vendor\n",
    "        stamp = prev + datetime.timedelta(times.min())\n",
    "        time_stamps.append(stamp) # append timestamp to list of time stamps\n",
    "        prev = stamp\n",
    "        \n",
    "        # Get the drug\n",
    "        drug_idx = np.random.multinomial(1, ems_prob_table.loc[vendor]).argmax()\n",
    "        drugs.append(drug_cats[drug_idx])\n",
    "        \n",
    "    # Return dataframe with vendor names and corresponding time_stamps\n",
    "    df = pd.DataFrame({'time_stamp' : time_stamps, 'vendor_name': vendor_names, 'drug' : drugs})\n",
    "    return(df)"
   ]
  },
  {
   "cell_type": "markdown",
   "metadata": {},
   "source": [
    "## Generate the sequence"
   ]
  },
  {
   "cell_type": "code",
   "execution_count": 195,
   "metadata": {
    "collapsed": true
   },
   "outputs": [
    {
     "name": "stdout",
     "output_type": "stream",
     "text": [
      "Finished generating 0 samples.\n",
      "Finished generating 1000 samples.\n",
      "Finished generating 2000 samples.\n",
      "Finished generating 3000 samples.\n",
      "Finished generating 4000 samples.\n",
      "Finished generating 5000 samples.\n",
      "Finished generating 6000 samples.\n",
      "Finished generating 7000 samples.\n",
      "Finished generating 8000 samples.\n",
      "Finished generating 9000 samples.\n",
      "Finished generating 10000 samples.\n",
      "Finished generating 11000 samples.\n",
      "Finished generating 12000 samples.\n",
      "Finished generating 13000 samples.\n",
      "Finished generating 14000 samples.\n",
      "Finished generating 15000 samples.\n",
      "Finished generating 16000 samples.\n",
      "Finished generating 17000 samples.\n",
      "Finished generating 18000 samples.\n",
      "Finished generating 19000 samples.\n",
      "Finished generating 20000 samples.\n",
      "Finished generating 21000 samples.\n",
      "Finished generating 22000 samples.\n",
      "Finished generating 23000 samples.\n",
      "Finished generating 24000 samples.\n",
      "Finished generating 25000 samples.\n",
      "Finished generating 26000 samples.\n",
      "Finished generating 27000 samples.\n",
      "Finished generating 28000 samples.\n",
      "Finished generating 29000 samples.\n",
      "Finished generating 30000 samples.\n",
      "Finished generating 31000 samples.\n",
      "Finished generating 32000 samples.\n",
      "Finished generating 33000 samples.\n",
      "Finished generating 34000 samples.\n",
      "Finished generating 35000 samples.\n"
     ]
    }
   ],
   "source": [
    "import time\n",
    "time1 = time.time()\n",
    "df = gen_rand_vendor_seq(36000)\n",
    "time2 = time.time()"
   ]
  },
  {
   "cell_type": "markdown",
   "metadata": {},
   "source": [
    "## Split into training and testing set"
   ]
  },
  {
   "cell_type": "code",
   "execution_count": 205,
   "metadata": {},
   "outputs": [],
   "source": [
    "# Get total number of samples, and number of train/test samples\n",
    "n_samples = df.shape[0]\n",
    "n_train = round(n_samples * .75)\n",
    "\n",
    "# Create training/test set\n",
    "train = df.iloc[:n_train,:]\n",
    "test = df.iloc[n_train:,:]"
   ]
  },
  {
   "cell_type": "markdown",
   "metadata": {},
   "source": [
    "## Export to file"
   ]
  },
  {
   "cell_type": "code",
   "execution_count": 211,
   "metadata": {},
   "outputs": [],
   "source": [
    "# Export to file\n",
    "import pickle\n",
    "file = open('art_data.pkl','wb')\n",
    "pickle.dump(df, file)\n",
    "file.close()\n",
    "\n",
    "file = open('art_train.pkl','wb')\n",
    "pickle.dump(train, file)\n",
    "file.close()\n",
    "\n",
    "file = open('art_test.pkl','wb')\n",
    "pickle.dump(test, file)\n",
    "file.close()"
   ]
  }
 ],
 "metadata": {
  "kernelspec": {
   "display_name": "Python 3",
   "language": "python",
   "name": "python3"
  },
  "language_info": {
   "codemirror_mode": {
    "name": "ipython",
    "version": 3
   },
   "file_extension": ".py",
   "mimetype": "text/x-python",
   "name": "python",
   "nbconvert_exporter": "python",
   "pygments_lexer": "ipython3",
   "version": "3.6.5"
  }
 },
 "nbformat": 4,
 "nbformat_minor": 2
}
