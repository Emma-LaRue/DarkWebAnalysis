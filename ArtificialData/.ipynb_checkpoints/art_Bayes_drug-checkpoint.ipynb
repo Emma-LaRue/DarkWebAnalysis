{
 "cells": [
  {
   "cell_type": "markdown",
   "metadata": {},
   "source": [
    "Predict vendor from artificially-generated sequence using Bayes' method."
   ]
  },
  {
   "cell_type": "code",
   "execution_count": 1,
   "metadata": {},
   "outputs": [],
   "source": [
    "import numpy as np\n",
    "import pandas as pd\n",
    "import matplotlib.pyplot as plt\n",
    "from itertools import compress\n",
    "\n",
    "import datetime\n",
    "from dateutil.parser import parse\n",
    "\n",
    "import math\n",
    "import os\n",
    "import copy\n",
    "import pickle"
   ]
  },
  {
   "cell_type": "code",
   "execution_count": 2,
   "metadata": {},
   "outputs": [],
   "source": [
    "# Import data\n",
    "import pickle\n",
    "file = open('art_data.pkl','rb')\n",
    "data = pickle.load(file)\n",
    "file.close()\n",
    "\n",
    "file = open('art_train.pkl','rb')\n",
    "train = pickle.load(file)\n",
    "file.close()\n",
    "\n",
    "file = open('art_test.pkl','rb')\n",
    "test = pickle.load(file)\n",
    "file.close()"
   ]
  },
  {
   "cell_type": "markdown",
   "metadata": {},
   "source": [
    "## \"Train\" Bayes' model"
   ]
  },
  {
   "cell_type": "code",
   "execution_count": 170,
   "metadata": {},
   "outputs": [],
   "source": [
    "# Get probability for a variable given another variable\n",
    "def get_cond_probDist(category, var = 'vendor_name', given_var = 'drug'):\n",
    "#     Function gets probability distribution of 'var' given 'given_var' is 'category'\n",
    "#     Args: 'category' is the class of given_var\n",
    "#           'var' is the random variable for which the prob. dist. is computed\n",
    "#           'given_var' is the random variable which is given\n",
    "#     Returns: series, representing proportion of total for each drug\n",
    "    subset = train[train[given_var] == category]\n",
    "    tally = subset[given_var].groupby(subset[var]).count()\n",
    "    return(tally/np.sum(tally))\n",
    "\n",
    "# Create dictionary to predict using Bayes' Rule (i.e. using conditional probability)\n",
    "def trainBayes(var = 'vendor_name', given_var = 'drug'):\n",
    "#     Function returns a dictionary with sorted probabilities for 'var' given 'given_var'\n",
    "#     Args: 'var' is the name of the variable to predict\n",
    "#           'given_var' is the name of the given variable\n",
    "#     Returns: dictionary with keys for each possible outcome of 'given_var', and values corresponding to \n",
    "#                 sorted probabilities for each outcome of 'var'\n",
    "    \n",
    "    # Get list of unique vendors and of unique drugs\n",
    "    cols = train[var].unique()\n",
    "    rows = train[given_var].unique()\n",
    "\n",
    "    #Create conditional probability dataframe\n",
    "    cond_prob_df = pd.DataFrame(columns = cols)\n",
    "    \n",
    "    #Insert given variable name column\n",
    "    cond_prob_df.insert(0, given_var, rows)\n",
    "    \n",
    "    # Apply function to dataframe\n",
    "    cond_prob_df.iloc[:,1:] = \\\n",
    "        cond_prob_df[given_var].apply(get_cond_probDist, var = 'vendor_name', given_var = 'drug')\n",
    "    \n",
    "    # fill NA values with 0\n",
    "    cond_prob_df = cond_prob_df.fillna(0)\n",
    "    \n",
    "    # Set index to be given variable\n",
    "    cond_prob_df = cond_prob_df.set_index(given_var)\n",
    "    \n",
    "    # Create dictionary with sorted predictions for each outcome of given variable\n",
    "#     First key is one of drugs\n",
    "#     Second key is either 'vendor' or 'prob'\n",
    "#     'vendor' are the most probable vendors, sorted by probability\n",
    "#     'prob' corresponds to the probability for each vendor\n",
    "    bayes_dict = {drug : {'vendor':list(cond_prob_df.loc[drug].sort_values(ascending = False).index),\\\n",
    "                          'prob':list(cond_prob_df.loc[drug].sort_values(ascending = False).values)} \\\n",
    "                  for drug in pvd.index}    \n",
    "\n",
    "    return(bayes_dict)"
   ]
  },
  {
   "cell_type": "markdown",
   "metadata": {},
   "source": [
    "## Evaluate model"
   ]
  },
  {
   "cell_type": "code",
   "execution_count": 171,
   "metadata": {},
   "outputs": [],
   "source": [
    "bayes_model = trainBayes()\n",
    "\n",
    "# Function to predict class for each drug in test set\n",
    "def bayesPredict(obs_seq):\n",
    "    preds = [bayes_model[obs]['vendor'] for obs in obs_seq]\n",
    "    return(preds)\n",
    "\n",
    "# Get times for testing\n",
    "d_test = list(test['drug'])\n",
    "\n",
    "# Make predictions\n",
    "test['vendor_pred'] = bayesPredict(d_test)"
   ]
  },
  {
   "cell_type": "code",
   "execution_count": 172,
   "metadata": {},
   "outputs": [],
   "source": [
    "# Compute 'top n' accuracy\n",
    "def get_top_n(n,df=test):\n",
    "    q = zip(df['vendor_name'], df['vendor_pred'])\n",
    "    if n == 1:\n",
    "        ar = [samp[0] == samp[1][0] for samp in q]\n",
    "    else:\n",
    "        ar = [samp[0] in samp[1][:n] for samp in q]\n",
    "    acc = np.sum(ar)/len(ar)\n",
    "    return(round(acc,4))"
   ]
  },
  {
   "cell_type": "code",
   "execution_count": 173,
   "metadata": {},
   "outputs": [
    {
     "name": "stdout",
     "output_type": "stream",
     "text": [
      "Top 1 accuracy: 0.1212\n",
      "Top 5 accuracy: 0.4303\n",
      "Top 10 accuracy: 0.6517\n"
     ]
    }
   ],
   "source": [
    "n_vals = [1,5,10]\n",
    "for n in n_vals:\n",
    "    print('Top',n,'accuracy:',get_top_n(n))"
   ]
  }
 ],
 "metadata": {
  "kernelspec": {
   "display_name": "Python 3",
   "language": "python",
   "name": "python3"
  },
  "language_info": {
   "codemirror_mode": {
    "name": "ipython",
    "version": 3
   },
   "file_extension": ".py",
   "mimetype": "text/x-python",
   "name": "python",
   "nbconvert_exporter": "python",
   "pygments_lexer": "ipython3",
   "version": "3.6.5"
  }
 },
 "nbformat": 4,
 "nbformat_minor": 2
}
