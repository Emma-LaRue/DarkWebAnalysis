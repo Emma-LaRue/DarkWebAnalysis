{
 "cells": [
  {
   "cell_type": "code",
   "execution_count": 3,
   "metadata": {},
   "outputs": [],
   "source": [
    "import numpy as np\n",
    "import pandas as pd\n",
    "import matplotlib.pyplot as plt\n",
    "from itertools import compress\n",
    "\n",
    "import datetime\n",
    "from dateutil.parser import parse\n",
    "\n",
    "import math\n",
    "import os\n",
    "import copy\n",
    "import pickle\n",
    "\n",
    "import drugLookup"
   ]
  },
  {
   "cell_type": "code",
   "execution_count": 4,
   "metadata": {},
   "outputs": [],
   "source": [
    "# Read in data (from pickle file)\n",
    "file = open('train_set_filtered','rb')\n",
    "train_set = pickle.load(file)\n",
    "\n",
    "file = open('test_set_filtered','rb')\n",
    "test_set = pickle.load(file)"
   ]
  },
  {
   "cell_type": "code",
   "execution_count": 5,
   "metadata": {},
   "outputs": [],
   "source": [
    "d_train = list(train_set['drug_prediction'])\n",
    "v_train = list(train_set['vendor_name'])\n",
    "\n",
    "d_test = list(test_set['drug_prediction'])\n",
    "v_test = list(test_set['vendor_name'])"
   ]
  },
  {
   "cell_type": "markdown",
   "metadata": {},
   "source": [
    "## Compute $P(t~|~v)$"
   ]
  },
  {
   "cell_type": "code",
   "execution_count": 6,
   "metadata": {},
   "outputs": [],
   "source": [
    "from datetime import datetime, date, time, timedelta\n",
    "\n",
    "start = time(0,0,0,0) # first interval start date\n",
    "interval = 30 # length of interval (minutes)\n",
    "\n",
    "def addTimes(start_time, duration):\n",
    "    # Function to add minutes to datetime.time() object\n",
    "    dt = datetime.combine(date.today(), start_time) # create arbitrary date\n",
    "    return((dt + timedelta(minutes = duration)).time())\n",
    "\n",
    "#  Function to check if time is in a time interval\n",
    "def timeInInterval(start_time, check_time, duration):\n",
    "    end_time = addTimes(start_time, duration)\n",
    "    cond1 = start_time <= check_time\n",
    "    cond2 = check_time < end_time\n",
    "    return(cond1 and cond2)\n",
    "\n",
    "# Function to classify given time into one of given bins\n",
    "def binTime(time1, start_times, duration = interval):\n",
    "    time_bin = [start_time for start_time in start_times if timeInInterval(start_time, time1.time(),duration)]\n",
    "    if len(time_bin) == 0:\n",
    "        return(start_times[-1])\n",
    "    else:\n",
    "        return(time_bin[0])\n",
    "    \n",
    "# Create list of time intervals\n",
    "# Get list of interval start dates\n",
    "n_intervals = int(24*60/interval) # compute number of intervals in 24 hour period\n",
    "slide_amount = interval # amount to slide window (if no overlap desired, set equal to interval)\n",
    "    \n",
    "# Get all intervals in 24 hour period\n",
    "interval_starts = [addTimes(start_time = start, duration = slide_amount * n) for n in range(n_intervals)]"
   ]
  },
  {
   "cell_type": "code",
   "execution_count": 7,
   "metadata": {},
   "outputs": [],
   "source": [
    "# For given vendor, count the number of transactions in each time_bin\n",
    "train_set['time_bin'] = train_set['date'].apply(binTime, start_times = interval_starts)"
   ]
  },
  {
   "cell_type": "code",
   "execution_count": 8,
   "metadata": {},
   "outputs": [],
   "source": [
    "# Get probability for each vendor given a specific time\n",
    "def getVendorsForTime(time_bin):\n",
    "#     Args: Name of a vendor (string)\n",
    "#     Returns: series, representing proportion of total for each drug\n",
    "    time_subset = train_set[train_set['time_bin'] == time_bin]\n",
    "    tally = time_subset['vendor_name'].groupby(time_subset['vendor_name']).count()\n",
    "    return(tally/np.sum(tally))"
   ]
  },
  {
   "cell_type": "code",
   "execution_count": 9,
   "metadata": {},
   "outputs": [],
   "source": [
    "# Get list of vendors\n",
    "_ , vendor_list = pd.factorize(v_train, sort = True)\n",
    "\n",
    "#Create inverse emission probability dataframe\n",
    "pvt = pd.DataFrame(columns = vendor_list)\n",
    "#Insert vendor name column\n",
    "pvt.insert(0, \"time_bin\", interval_starts)\n",
    "# Apply function to dataframe\n",
    "pvt.iloc[:,1:] = pvt['time_bin'].apply(getVendorsForTime)\n",
    "# Sort by Vendor name and fill NA values with 0\n",
    "pvt = pvt.fillna(0)\n",
    "# Set index to be time\n",
    "pvt = pvt.set_index('time_bin')"
   ]
  },
  {
   "cell_type": "code",
   "execution_count": 10,
   "metadata": {},
   "outputs": [],
   "source": [
    "# For time values with no samples, set probability equal to probability of vendor overall (?)\n",
    "# sum(pvt.iloc[7,1:])\n",
    "# pvt.head()\n",
    "# pvt['time_bin']"
   ]
  },
  {
   "cell_type": "markdown",
   "metadata": {},
   "source": [
    "## Make Bayes predictions"
   ]
  },
  {
   "cell_type": "code",
   "execution_count": 11,
   "metadata": {},
   "outputs": [],
   "source": [
    "# Get prior probabilities (i.e., probability of each vendor)\n",
    "vendor_probs = train_set['vendor_name'].value_counts()/np.sum(train_set['vendor_name'].value_counts())\n",
    "vendor_probs = vendor_probs.sort_index()"
   ]
  },
  {
   "cell_type": "code",
   "execution_count": 12,
   "metadata": {},
   "outputs": [],
   "source": [
    "# Create dictionary with best prediction for each drug\n",
    "pvt_dict = {time_bin : list(pvt.loc[time_bin].sort_values(ascending = False)[:10].index) for time_bin in pvt.index}"
   ]
  },
  {
   "cell_type": "code",
   "execution_count": 13,
   "metadata": {},
   "outputs": [],
   "source": [
    "# Function to predict class for each drug in test set\n",
    "def bayesPredict(obs_seq):\n",
    "    preds = [pvt_dict[obs] for obs in obs_seq]\n",
    "    return(preds)\n",
    "\n",
    "# Get times for testing\n",
    "test_set['time_bin'] = test_set['date'].apply(binTime, start_times = interval_starts)\n",
    "t_test = list(test_set['time_bin'])\n",
    "\n",
    "# Make predictions\n",
    "test_set['vendor_pred'] = bayesPredict(t_test)"
   ]
  },
  {
   "cell_type": "code",
   "execution_count": 14,
   "metadata": {},
   "outputs": [],
   "source": [
    "# Compute 'top n' accuracy\n",
    "def get_top_n(df, n):\n",
    "    q = zip(df['vendor_name'], df['vendor_pred'])\n",
    "    if n == 1:\n",
    "        ar = [samp[0] == samp[1][0] for samp in q]\n",
    "    else:\n",
    "        ar = [samp[0] in samp[1][:n] for samp in q]\n",
    "    acc = np.sum(ar)/len(ar)\n",
    "    return(round(acc,4))"
   ]
  },
  {
   "cell_type": "code",
   "execution_count": 15,
   "metadata": {},
   "outputs": [
    {
     "name": "stdout",
     "output_type": "stream",
     "text": [
      "Time interval for bin: 30 minutes.\n",
      "Top 1 accuracy : 0.0816\n",
      "Top 2 accuracy : 0.1444\n",
      "Top 3 accuracy : 0.2023\n",
      "Top 5 accuracy : 0.3025\n",
      "Top 10 accuracy: 0.5261\n"
     ]
    }
   ],
   "source": [
    "print('Time interval for bin:',interval, 'minutes.')\n",
    "print('Top 1 accuracy :',get_top_n(test_set, 1))\n",
    "print('Top 2 accuracy :',get_top_n(test_set, 2))\n",
    "print('Top 3 accuracy :',get_top_n(test_set, 3))\n",
    "print('Top 5 accuracy :',get_top_n(test_set, 5))\n",
    "print('Top 10 accuracy:',get_top_n(test_set, 10))"
   ]
  },
  {
   "cell_type": "markdown",
   "metadata": {},
   "source": [
    "## Perfect prediction"
   ]
  },
  {
   "cell_type": "code",
   "execution_count": 6,
   "metadata": {},
   "outputs": [],
   "source": [
    "_, uniques = pd.factorize(train_set['date'])"
   ]
  },
  {
   "cell_type": "code",
   "execution_count": 7,
   "metadata": {},
   "outputs": [
    {
     "data": {
      "text/plain": [
       "17570"
      ]
     },
     "execution_count": 7,
     "metadata": {},
     "output_type": "execute_result"
    }
   ],
   "source": [
    "len(uniques)"
   ]
  },
  {
   "cell_type": "code",
   "execution_count": 8,
   "metadata": {},
   "outputs": [
    {
     "data": {
      "text/plain": [
       "24553"
      ]
     },
     "execution_count": 8,
     "metadata": {},
     "output_type": "execute_result"
    }
   ],
   "source": [
    "len(train_set)"
   ]
  },
  {
   "cell_type": "code",
   "execution_count": 9,
   "metadata": {},
   "outputs": [
    {
     "data": {
      "text/plain": [
       "1440"
      ]
     },
     "execution_count": 9,
     "metadata": {},
     "output_type": "execute_result"
    }
   ],
   "source": [
    "24*60"
   ]
  },
  {
   "cell_type": "code",
   "execution_count": null,
   "metadata": {},
   "outputs": [],
   "source": []
  }
 ],
 "metadata": {
  "kernelspec": {
   "display_name": "Python 3",
   "language": "python",
   "name": "python3"
  },
  "language_info": {
   "codemirror_mode": {
    "name": "ipython",
    "version": 3
   },
   "file_extension": ".py",
   "mimetype": "text/x-python",
   "name": "python",
   "nbconvert_exporter": "python",
   "pygments_lexer": "ipython3",
   "version": "3.6.5"
  }
 },
 "nbformat": 4,
 "nbformat_minor": 2
}
