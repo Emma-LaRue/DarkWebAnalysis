{
 "cells": [
  {
   "cell_type": "markdown",
   "metadata": {},
   "source": [
    "# Reading in file and converting timestamps"
   ]
  },
  {
   "cell_type": "code",
   "execution_count": 2,
   "metadata": {},
   "outputs": [],
   "source": [
    "import numpy as np\n",
    "import pandas as pd\n",
    "import matplotlib.pyplot as plt\n",
    "from itertools import compress\n",
    "\n",
    "from datetime import datetime\n",
    "from dateutil.parser import parse\n",
    "\n",
    "import math\n",
    "import os\n",
    "import copy"
   ]
  },
  {
   "cell_type": "code",
   "execution_count": 3,
   "metadata": {},
   "outputs": [
    {
     "ename": "FileNotFoundError",
     "evalue": "[Errno 2] No such file or directory: 'product_rating_modified.txt'",
     "output_type": "error",
     "traceback": [
      "\u001b[0;31m---------------------------------------------------------------------------\u001b[0m",
      "\u001b[0;31mFileNotFoundError\u001b[0m                         Traceback (most recent call last)",
      "\u001b[0;32m<ipython-input-3-e0bc8e802f05>\u001b[0m in \u001b[0;36m<module>\u001b[0;34m()\u001b[0m\n\u001b[1;32m      1\u001b[0m \u001b[0;31m# Reading the text file\u001b[0m\u001b[0;34m\u001b[0m\u001b[0;34m\u001b[0m\u001b[0m\n\u001b[0;32m----> 2\u001b[0;31m \u001b[0mproduct_descriptions\u001b[0m \u001b[0;34m=\u001b[0m \u001b[0mpd\u001b[0m\u001b[0;34m.\u001b[0m\u001b[0mread_csv\u001b[0m\u001b[0;34m(\u001b[0m\u001b[0;34m'product_rating_modified.txt'\u001b[0m\u001b[0;34m,\u001b[0m \u001b[0mheader\u001b[0m \u001b[0;34m=\u001b[0m \u001b[0;32mNone\u001b[0m\u001b[0;34m,\u001b[0m \u001b[0msep\u001b[0m \u001b[0;34m=\u001b[0m \u001b[0;34m'\\', \\''\u001b[0m\u001b[0;34m,\u001b[0m \u001b[0mengine\u001b[0m \u001b[0;34m=\u001b[0m \u001b[0;34m'python'\u001b[0m\u001b[0;34m)\u001b[0m\u001b[0;34m\u001b[0m\u001b[0m\n\u001b[0m",
      "\u001b[0;32m/anaconda3/lib/python3.6/site-packages/pandas/io/parsers.py\u001b[0m in \u001b[0;36mparser_f\u001b[0;34m(filepath_or_buffer, sep, delimiter, header, names, index_col, usecols, squeeze, prefix, mangle_dupe_cols, dtype, engine, converters, true_values, false_values, skipinitialspace, skiprows, skipfooter, nrows, na_values, keep_default_na, na_filter, verbose, skip_blank_lines, parse_dates, infer_datetime_format, keep_date_col, date_parser, dayfirst, iterator, chunksize, compression, thousands, decimal, lineterminator, quotechar, quoting, doublequote, escapechar, comment, encoding, dialect, tupleize_cols, error_bad_lines, warn_bad_lines, delim_whitespace, low_memory, memory_map, float_precision)\u001b[0m\n\u001b[1;32m    700\u001b[0m                     skip_blank_lines=skip_blank_lines)\n\u001b[1;32m    701\u001b[0m \u001b[0;34m\u001b[0m\u001b[0m\n\u001b[0;32m--> 702\u001b[0;31m         \u001b[0;32mreturn\u001b[0m \u001b[0m_read\u001b[0m\u001b[0;34m(\u001b[0m\u001b[0mfilepath_or_buffer\u001b[0m\u001b[0;34m,\u001b[0m \u001b[0mkwds\u001b[0m\u001b[0;34m)\u001b[0m\u001b[0;34m\u001b[0m\u001b[0m\n\u001b[0m\u001b[1;32m    703\u001b[0m \u001b[0;34m\u001b[0m\u001b[0m\n\u001b[1;32m    704\u001b[0m     \u001b[0mparser_f\u001b[0m\u001b[0;34m.\u001b[0m\u001b[0m__name__\u001b[0m \u001b[0;34m=\u001b[0m \u001b[0mname\u001b[0m\u001b[0;34m\u001b[0m\u001b[0m\n",
      "\u001b[0;32m/anaconda3/lib/python3.6/site-packages/pandas/io/parsers.py\u001b[0m in \u001b[0;36m_read\u001b[0;34m(filepath_or_buffer, kwds)\u001b[0m\n\u001b[1;32m    427\u001b[0m \u001b[0;34m\u001b[0m\u001b[0m\n\u001b[1;32m    428\u001b[0m     \u001b[0;31m# Create the parser.\u001b[0m\u001b[0;34m\u001b[0m\u001b[0;34m\u001b[0m\u001b[0m\n\u001b[0;32m--> 429\u001b[0;31m     \u001b[0mparser\u001b[0m \u001b[0;34m=\u001b[0m \u001b[0mTextFileReader\u001b[0m\u001b[0;34m(\u001b[0m\u001b[0mfilepath_or_buffer\u001b[0m\u001b[0;34m,\u001b[0m \u001b[0;34m**\u001b[0m\u001b[0mkwds\u001b[0m\u001b[0;34m)\u001b[0m\u001b[0;34m\u001b[0m\u001b[0m\n\u001b[0m\u001b[1;32m    430\u001b[0m \u001b[0;34m\u001b[0m\u001b[0m\n\u001b[1;32m    431\u001b[0m     \u001b[0;32mif\u001b[0m \u001b[0mchunksize\u001b[0m \u001b[0;32mor\u001b[0m \u001b[0miterator\u001b[0m\u001b[0;34m:\u001b[0m\u001b[0;34m\u001b[0m\u001b[0m\n",
      "\u001b[0;32m/anaconda3/lib/python3.6/site-packages/pandas/io/parsers.py\u001b[0m in \u001b[0;36m__init__\u001b[0;34m(self, f, engine, **kwds)\u001b[0m\n\u001b[1;32m    893\u001b[0m             \u001b[0mself\u001b[0m\u001b[0;34m.\u001b[0m\u001b[0moptions\u001b[0m\u001b[0;34m[\u001b[0m\u001b[0;34m'has_index_names'\u001b[0m\u001b[0;34m]\u001b[0m \u001b[0;34m=\u001b[0m \u001b[0mkwds\u001b[0m\u001b[0;34m[\u001b[0m\u001b[0;34m'has_index_names'\u001b[0m\u001b[0;34m]\u001b[0m\u001b[0;34m\u001b[0m\u001b[0m\n\u001b[1;32m    894\u001b[0m \u001b[0;34m\u001b[0m\u001b[0m\n\u001b[0;32m--> 895\u001b[0;31m         \u001b[0mself\u001b[0m\u001b[0;34m.\u001b[0m\u001b[0m_make_engine\u001b[0m\u001b[0;34m(\u001b[0m\u001b[0mself\u001b[0m\u001b[0;34m.\u001b[0m\u001b[0mengine\u001b[0m\u001b[0;34m)\u001b[0m\u001b[0;34m\u001b[0m\u001b[0m\n\u001b[0m\u001b[1;32m    896\u001b[0m \u001b[0;34m\u001b[0m\u001b[0m\n\u001b[1;32m    897\u001b[0m     \u001b[0;32mdef\u001b[0m \u001b[0mclose\u001b[0m\u001b[0;34m(\u001b[0m\u001b[0mself\u001b[0m\u001b[0;34m)\u001b[0m\u001b[0;34m:\u001b[0m\u001b[0;34m\u001b[0m\u001b[0m\n",
      "\u001b[0;32m/anaconda3/lib/python3.6/site-packages/pandas/io/parsers.py\u001b[0m in \u001b[0;36m_make_engine\u001b[0;34m(self, engine)\u001b[0m\n\u001b[1;32m   1130\u001b[0m                                  ' \"c\", \"python\", or' ' \"python-fwf\")'.format(\n\u001b[1;32m   1131\u001b[0m                                      engine=engine))\n\u001b[0;32m-> 1132\u001b[0;31m             \u001b[0mself\u001b[0m\u001b[0;34m.\u001b[0m\u001b[0m_engine\u001b[0m \u001b[0;34m=\u001b[0m \u001b[0mklass\u001b[0m\u001b[0;34m(\u001b[0m\u001b[0mself\u001b[0m\u001b[0;34m.\u001b[0m\u001b[0mf\u001b[0m\u001b[0;34m,\u001b[0m \u001b[0;34m**\u001b[0m\u001b[0mself\u001b[0m\u001b[0;34m.\u001b[0m\u001b[0moptions\u001b[0m\u001b[0;34m)\u001b[0m\u001b[0;34m\u001b[0m\u001b[0m\n\u001b[0m\u001b[1;32m   1133\u001b[0m \u001b[0;34m\u001b[0m\u001b[0m\n\u001b[1;32m   1134\u001b[0m     \u001b[0;32mdef\u001b[0m \u001b[0m_failover_to_python\u001b[0m\u001b[0;34m(\u001b[0m\u001b[0mself\u001b[0m\u001b[0;34m)\u001b[0m\u001b[0;34m:\u001b[0m\u001b[0;34m\u001b[0m\u001b[0m\n",
      "\u001b[0;32m/anaconda3/lib/python3.6/site-packages/pandas/io/parsers.py\u001b[0m in \u001b[0;36m__init__\u001b[0;34m(self, f, **kwds)\u001b[0m\n\u001b[1;32m   2223\u001b[0m         f, handles = _get_handle(f, mode, encoding=self.encoding,\n\u001b[1;32m   2224\u001b[0m                                  \u001b[0mcompression\u001b[0m\u001b[0;34m=\u001b[0m\u001b[0mself\u001b[0m\u001b[0;34m.\u001b[0m\u001b[0mcompression\u001b[0m\u001b[0;34m,\u001b[0m\u001b[0;34m\u001b[0m\u001b[0m\n\u001b[0;32m-> 2225\u001b[0;31m                                  memory_map=self.memory_map)\n\u001b[0m\u001b[1;32m   2226\u001b[0m         \u001b[0mself\u001b[0m\u001b[0;34m.\u001b[0m\u001b[0mhandles\u001b[0m\u001b[0;34m.\u001b[0m\u001b[0mextend\u001b[0m\u001b[0;34m(\u001b[0m\u001b[0mhandles\u001b[0m\u001b[0;34m)\u001b[0m\u001b[0;34m\u001b[0m\u001b[0m\n\u001b[1;32m   2227\u001b[0m \u001b[0;34m\u001b[0m\u001b[0m\n",
      "\u001b[0;32m/anaconda3/lib/python3.6/site-packages/pandas/io/common.py\u001b[0m in \u001b[0;36m_get_handle\u001b[0;34m(path_or_buf, mode, encoding, compression, memory_map, is_text)\u001b[0m\n\u001b[1;32m    425\u001b[0m         \u001b[0;32melif\u001b[0m \u001b[0mis_text\u001b[0m\u001b[0;34m:\u001b[0m\u001b[0;34m\u001b[0m\u001b[0m\n\u001b[1;32m    426\u001b[0m             \u001b[0;31m# Python 3 and no explicit encoding\u001b[0m\u001b[0;34m\u001b[0m\u001b[0;34m\u001b[0m\u001b[0m\n\u001b[0;32m--> 427\u001b[0;31m             \u001b[0mf\u001b[0m \u001b[0;34m=\u001b[0m \u001b[0mopen\u001b[0m\u001b[0;34m(\u001b[0m\u001b[0mpath_or_buf\u001b[0m\u001b[0;34m,\u001b[0m \u001b[0mmode\u001b[0m\u001b[0;34m,\u001b[0m \u001b[0merrors\u001b[0m\u001b[0;34m=\u001b[0m\u001b[0;34m'replace'\u001b[0m\u001b[0;34m,\u001b[0m \u001b[0mnewline\u001b[0m\u001b[0;34m=\u001b[0m\u001b[0;34m\"\"\u001b[0m\u001b[0;34m)\u001b[0m\u001b[0;34m\u001b[0m\u001b[0m\n\u001b[0m\u001b[1;32m    428\u001b[0m         \u001b[0;32melse\u001b[0m\u001b[0;34m:\u001b[0m\u001b[0;34m\u001b[0m\u001b[0m\n\u001b[1;32m    429\u001b[0m             \u001b[0;31m# Python 3 and binary mode\u001b[0m\u001b[0;34m\u001b[0m\u001b[0;34m\u001b[0m\u001b[0m\n",
      "\u001b[0;31mFileNotFoundError\u001b[0m: [Errno 2] No such file or directory: 'product_rating_modified.txt'"
     ]
    }
   ],
   "source": [
    "# Reading the text file\n",
    "product_descriptions = pd.read_csv('product_rating_modified.txt', header = None, sep = '\\', \\'', engine = 'python')"
   ]
  },
  {
   "cell_type": "code",
   "execution_count": 4,
   "metadata": {},
   "outputs": [
    {
     "name": "stdout",
     "output_type": "stream",
     "text": [
      "/Users/theocarr/IUPUI/DarkWeb/OldCode\r\n"
     ]
    }
   ],
   "source": [
    "!pwd"
   ]
  },
  {
   "cell_type": "code",
   "execution_count": 3,
   "metadata": {
    "scrolled": true
   },
   "outputs": [],
   "source": [
    "# Function to convert numeric time to datetime object\n",
    "def parseDate(raw_date, pattern = '%Y%m%d%H%M%S'):\n",
    "    string_date = str(raw_date)\n",
    "    return(datetime.strptime(string_date, pattern))\n",
    "\n",
    "# Parse the dates, and place in new column\n",
    "product_descriptions['dates'] = product_descriptions.iloc[:,7].apply(parseDate)"
   ]
  },
  {
   "cell_type": "markdown",
   "metadata": {},
   "source": [
    "# Tokenizing Product Description"
   ]
  },
  {
   "cell_type": "code",
   "execution_count": 4,
   "metadata": {},
   "outputs": [],
   "source": [
    "import spacy\n",
    "from spacy.lang.en import English\n",
    "parser = English()"
   ]
  },
  {
   "cell_type": "code",
   "execution_count": 5,
   "metadata": {},
   "outputs": [],
   "source": [
    "# Function to tokenize titles\n",
    "def tokenize_1(title):\n",
    "    tokens = parser(title.lower())\n",
    "    tokens = [token.orth_ for token in tokens if not token.orth_.isspace()]\n",
    "    return(tokens)"
   ]
  },
  {
   "cell_type": "code",
   "execution_count": 6,
   "metadata": {},
   "outputs": [],
   "source": [
    "# Apply tokenizer to the titles in the dataframe\n",
    "product_descriptions['tokenized_titles'] = product_descriptions.iloc[:,15].apply(tokenize_1)"
   ]
  },
  {
   "cell_type": "code",
   "execution_count": 7,
   "metadata": {},
   "outputs": [],
   "source": [
    "# Alternative tokenizer\n",
    "special_char =['`','\\'','=','-','~','!','@','#','$','^','&','*','(',')','_','+','[',']','{','}',';','\\\\',':','|','<','<','>','?','//']\n",
    "\n",
    "def remove_special_char(string):\n",
    "    for char in special_char:\n",
    "        string = string.replace(char,' ')\n",
    "    return(string)\n",
    "\n",
    "def tokenize(string):\n",
    "    return remove_special_char(string).split()"
   ]
  },
  {
   "cell_type": "markdown",
   "metadata": {},
   "source": [
    "# Categorize drugs"
   ]
  },
  {
   "cell_type": "code",
   "execution_count": 8,
   "metadata": {},
   "outputs": [],
   "source": [
    "import drugLookup"
   ]
  },
  {
   "cell_type": "markdown",
   "metadata": {},
   "source": [
    "Get list of slang phrases that are multiple words"
   ]
  },
  {
   "cell_type": "code",
   "execution_count": 9,
   "metadata": {
    "scrolled": true
   },
   "outputs": [],
   "source": [
    "# Load drugs dictionary\n",
    "drugs_dict = drugLookup.get_drugs_dict()\n",
    "\n",
    "complete_multi_word_list = []\n",
    "\n",
    "drug_index = 0\n",
    "#For loop that gets all the synonyms of drugs with more than one word\n",
    "for drug in drugs_dict.keys():\n",
    "    slang_words = drugs_dict[drug]\n",
    "    multi_word_list = []\n",
    "    for slang_word in slang_words:\n",
    "        if ' ' in slang_word:\n",
    "            multi_word_list.append(slang_word)\n",
    "    complete_multi_word_list.append(multi_word_list)"
   ]
  },
  {
   "cell_type": "code",
   "execution_count": 10,
   "metadata": {},
   "outputs": [],
   "source": [
    "# Create multi_word dictionary\n",
    "drug_cats = list(drugs_dict.keys())\n",
    "multi_drug_dict = dict(zip(drug_cats, complete_multi_word_list))"
   ]
  },
  {
   "cell_type": "code",
   "execution_count": 11,
   "metadata": {},
   "outputs": [],
   "source": [
    "# Load dictionary of drugs\n",
    "drugs_dict = drugLookup.get_drugs_dict()\n",
    "\n",
    "# Get list of possible drugs for each listing\n",
    "def categorize_listing(title_set):\n",
    "#     Function takes in set of two: first entry is raw_title, second is tokenized_title\n",
    "    possible_drugs = set()\n",
    "    raw_title = title_set[0]\n",
    "    tokenized_title = title_set[1]\n",
    "    for drug in drugs_dict.keys():\n",
    "        if any(token in drugs_dict[drug] for token in tokenized_title): # uses tokenization\n",
    "            possible_drugs.add(drug)\n",
    "        if any(multi_word in raw_title for multi_word in multi_drug_dict[drug]):\n",
    "            possible_drugs.add(drug)\n",
    "    return possible_drugs"
   ]
  },
  {
   "cell_type": "code",
   "execution_count": 12,
   "metadata": {},
   "outputs": [],
   "source": [
    "# Categorize each listing\n",
    "product_descriptions['drug_prediction'] = product_descriptions.iloc[:,[15,17]].apply(categorize_listing, axis = 1)"
   ]
  },
  {
   "cell_type": "markdown",
   "metadata": {},
   "source": [
    "# Remove bad dates"
   ]
  },
  {
   "cell_type": "code",
   "execution_count": 13,
   "metadata": {},
   "outputs": [
    {
     "data": {
      "image/png": "[encoded data removed]",
      "text/plain": [
       "<Figure size 432x288 with 1 Axes>"
      ]
     },
     "metadata": {},
     "output_type": "display_data"
    }
   ],
   "source": [
    "# Look at distribution of dates\n",
    "product_descriptions['dates'].groupby(product_descriptions[\"dates\"].dt.year).count().plot(kind='bar')\n",
    "plt.show()"
   ]
  },
  {
   "cell_type": "code",
   "execution_count": 14,
   "metadata": {},
   "outputs": [
    {
     "data": {
      "image/png": "[encoded data removed]",
      "text/plain": [
       "<Figure size 432x288 with 1 Axes>"
      ]
     },
     "metadata": {},
     "output_type": "display_data"
    }
   ],
   "source": [
    "# Plot the 2019 dates\n",
    "after_2019 = product_descriptions['dates'] > datetime(2019,1,1)\n",
    "after_2019_df = product_descriptions[after_2019]\n",
    "after_2019_df['dates'].groupby(after_2019_df[\"dates\"].dt.month).count().plot(kind='bar')\n",
    "plt.show()"
   ]
  },
  {
   "cell_type": "code",
   "execution_count": 15,
   "metadata": {},
   "outputs": [
    {
     "data": {
      "image/png": "[encoded data removed]",
      "text/plain": [
       "<Figure size 432x288 with 1 Axes>"
      ]
     },
     "metadata": {},
     "output_type": "display_data"
    }
   ],
   "source": [
    "# Plot the 2017 dates\n",
    "before_2018 = product_descriptions['dates'] < datetime(2018,1,1)\n",
    "after_2016 = product_descriptions['dates'] > datetime(2016,12,31)\n",
    "in_2017_df = product_descriptions[after_2016 & before_2018]\n",
    "in_2017_df['dates'].groupby(in_2017_df[\"dates\"].dt.month).count().plot(kind='bar')\n",
    "plt.show()"
   ]
  },
  {
   "cell_type": "code",
   "execution_count": 16,
   "metadata": {},
   "outputs": [],
   "source": [
    "# Filter out the 1969/1970/2019 dates\n",
    "# good_dates = product_desci\n",
    "before_2019 = product_descriptions['dates'] < datetime(2019,1,1)\n",
    "after_2017 = product_descriptions['dates'] > datetime(2017,12,31)\n",
    "df = product_descriptions[before_2019 & after_2017]"
   ]
  },
  {
   "cell_type": "code",
   "execution_count": 17,
   "metadata": {},
   "outputs": [
    {
     "data": {
      "text/html": [
       "<div>\n",
       "<style scoped>\n",
       "    .dataframe tbody tr th:only-of-type {\n",
       "        vertical-align: middle;\n",
       "    }\n",
       "\n",
       "    .dataframe tbody tr th {\n",
       "        vertical-align: top;\n",
       "    }\n",
       "\n",
       "    .dataframe thead th {\n",
       "        text-align: right;\n",
       "    }\n",
       "</style>\n",
       "<table border=\"1\" class=\"dataframe\">\n",
       "  <thead>\n",
       "    <tr style=\"text-align: right;\">\n",
       "      <th></th>\n",
       "      <th>0</th>\n",
       "      <th>1</th>\n",
       "      <th>2</th>\n",
       "      <th>3</th>\n",
       "      <th>4</th>\n",
       "      <th>5</th>\n",
       "      <th>6</th>\n",
       "      <th>7</th>\n",
       "      <th>8</th>\n",
       "      <th>9</th>\n",
       "      <th>10</th>\n",
       "      <th>11</th>\n",
       "      <th>12</th>\n",
       "      <th>13</th>\n",
       "      <th>14</th>\n",
       "      <th>15</th>\n",
       "      <th>dates</th>\n",
       "      <th>tokenized_titles</th>\n",
       "      <th>drug_prediction</th>\n",
       "    </tr>\n",
       "  </thead>\n",
       "  <tbody>\n",
       "    <tr>\n",
       "      <th>1</th>\n",
       "      <td>'1099</td>\n",
       "      <td>3</td>\n",
       "      <td>1927</td>\n",
       "      <td>HeinekenExpress</td>\n",
       "      <td>B*****u</td>\n",
       "      <td>5.0</td>\n",
       "      <td>No feedback comment</td>\n",
       "      <td>20181217000000</td>\n",
       "      <td>-1.0</td>\n",
       "      <td>13.06</td>\n",
       "      <td>-1.0</td>\n",
       "      <td>-1</td>\n",
       "      <td>-1</td>\n",
       "      <td>4410</td>\n",
       "      <td>1162_88_173</td>\n",
       "      <td>? MDMA very high QUALITY 87%?The Best MDMA for...</td>\n",
       "      <td>2018-12-17</td>\n",
       "      <td>[?, mdma, very, high, quality, 87%?the, best, ...</td>\n",
       "      <td>{ecstasy}</td>\n",
       "    </tr>\n",
       "    <tr>\n",
       "      <th>2</th>\n",
       "      <td>'1100</td>\n",
       "      <td>3</td>\n",
       "      <td>1927</td>\n",
       "      <td>HeinekenExpress</td>\n",
       "      <td>z*****d</td>\n",
       "      <td>5.0</td>\n",
       "      <td>Thank y bro</td>\n",
       "      <td>20181217000000</td>\n",
       "      <td>-1.0</td>\n",
       "      <td>12.90</td>\n",
       "      <td>-1.0</td>\n",
       "      <td>-1</td>\n",
       "      <td>-1</td>\n",
       "      <td>4410</td>\n",
       "      <td>1162_88_173</td>\n",
       "      <td>? MDMA very high QUALITY 87%?The Best MDMA for...</td>\n",
       "      <td>2018-12-17</td>\n",
       "      <td>[?, mdma, very, high, quality, 87%?the, best, ...</td>\n",
       "      <td>{ecstasy}</td>\n",
       "    </tr>\n",
       "    <tr>\n",
       "      <th>3</th>\n",
       "      <td>'1101</td>\n",
       "      <td>3</td>\n",
       "      <td>1927</td>\n",
       "      <td>HeinekenExpress</td>\n",
       "      <td>b*****4</td>\n",
       "      <td>5.0</td>\n",
       "      <td>Seems pretty nice, weighed 1g and got a free p...</td>\n",
       "      <td>20181216000000</td>\n",
       "      <td>-1.0</td>\n",
       "      <td>12.88</td>\n",
       "      <td>-1.0</td>\n",
       "      <td>-1</td>\n",
       "      <td>-1</td>\n",
       "      <td>4410</td>\n",
       "      <td>1162_88_173</td>\n",
       "      <td>? MDMA very high QUALITY 87%?The Best MDMA for...</td>\n",
       "      <td>2018-12-16</td>\n",
       "      <td>[?, mdma, very, high, quality, 87%?the, best, ...</td>\n",
       "      <td>{ecstasy}</td>\n",
       "    </tr>\n",
       "    <tr>\n",
       "      <th>4</th>\n",
       "      <td>'1102</td>\n",
       "      <td>3</td>\n",
       "      <td>1927</td>\n",
       "      <td>HeinekenExpress</td>\n",
       "      <td>K*****z</td>\n",
       "      <td>5.0</td>\n",
       "      <td>I just now saw your return policy says you don...</td>\n",
       "      <td>20181211000000</td>\n",
       "      <td>-1.0</td>\n",
       "      <td>50.44</td>\n",
       "      <td>-1.0</td>\n",
       "      <td>-1</td>\n",
       "      <td>-1</td>\n",
       "      <td>4410</td>\n",
       "      <td>1162_88_173</td>\n",
       "      <td>? MDMA very high QUALITY 87%?The Best MDMA for...</td>\n",
       "      <td>2018-12-11</td>\n",
       "      <td>[?, mdma, very, high, quality, 87%?the, best, ...</td>\n",
       "      <td>{ecstasy}</td>\n",
       "    </tr>\n",
       "    <tr>\n",
       "      <th>5</th>\n",
       "      <td>'1103</td>\n",
       "      <td>3</td>\n",
       "      <td>1927</td>\n",
       "      <td>HeinekenExpress</td>\n",
       "      <td>M*****h</td>\n",
       "      <td>5.0</td>\n",
       "      <td>Slightly overweight - Fast Shipping (7 Days UK...</td>\n",
       "      <td>20181209000000</td>\n",
       "      <td>-1.0</td>\n",
       "      <td>50.54</td>\n",
       "      <td>-1.0</td>\n",
       "      <td>-1</td>\n",
       "      <td>-1</td>\n",
       "      <td>4410</td>\n",
       "      <td>1162_88_173</td>\n",
       "      <td>? MDMA very high QUALITY 87%?The Best MDMA for...</td>\n",
       "      <td>2018-12-09</td>\n",
       "      <td>[?, mdma, very, high, quality, 87%?the, best, ...</td>\n",
       "      <td>{ecstasy}</td>\n",
       "    </tr>\n",
       "  </tbody>\n",
       "</table>\n",
       "</div>"
      ],
      "text/plain": [
       "       0  1     2                3        4    5  \\\n",
       "1  '1099  3  1927  HeinekenExpress  B*****u  5.0   \n",
       "2  '1100  3  1927  HeinekenExpress  z*****d  5.0   \n",
       "3  '1101  3  1927  HeinekenExpress  b*****4  5.0   \n",
       "4  '1102  3  1927  HeinekenExpress  K*****z  5.0   \n",
       "5  '1103  3  1927  HeinekenExpress  M*****h  5.0   \n",
       "\n",
       "                                                   6               7    8  \\\n",
       "1                                No feedback comment  20181217000000 -1.0   \n",
       "2                                       Thank y bro   20181217000000 -1.0   \n",
       "3  Seems pretty nice, weighed 1g and got a free p...  20181216000000 -1.0   \n",
       "4  I just now saw your return policy says you don...  20181211000000 -1.0   \n",
       "5  Slightly overweight - Fast Shipping (7 Days UK...  20181209000000 -1.0   \n",
       "\n",
       "       9   10  11  12    13           14  \\\n",
       "1  13.06 -1.0  -1  -1  4410  1162_88_173   \n",
       "2  12.90 -1.0  -1  -1  4410  1162_88_173   \n",
       "3  12.88 -1.0  -1  -1  4410  1162_88_173   \n",
       "4  50.44 -1.0  -1  -1  4410  1162_88_173   \n",
       "5  50.54 -1.0  -1  -1  4410  1162_88_173   \n",
       "\n",
       "                                                  15      dates  \\\n",
       "1  ? MDMA very high QUALITY 87%?The Best MDMA for... 2018-12-17   \n",
       "2  ? MDMA very high QUALITY 87%?The Best MDMA for... 2018-12-17   \n",
       "3  ? MDMA very high QUALITY 87%?The Best MDMA for... 2018-12-16   \n",
       "4  ? MDMA very high QUALITY 87%?The Best MDMA for... 2018-12-11   \n",
       "5  ? MDMA very high QUALITY 87%?The Best MDMA for... 2018-12-09   \n",
       "\n",
       "                                    tokenized_titles drug_prediction  \n",
       "1  [?, mdma, very, high, quality, 87%?the, best, ...       {ecstasy}  \n",
       "2  [?, mdma, very, high, quality, 87%?the, best, ...       {ecstasy}  \n",
       "3  [?, mdma, very, high, quality, 87%?the, best, ...       {ecstasy}  \n",
       "4  [?, mdma, very, high, quality, 87%?the, best, ...       {ecstasy}  \n",
       "5  [?, mdma, very, high, quality, 87%?the, best, ...       {ecstasy}  "
      ]
     },
     "execution_count": 17,
     "metadata": {},
     "output_type": "execute_result"
    }
   ],
   "source": [
    "df.head()"
   ]
  },
  {
   "cell_type": "code",
   "execution_count": 17,
   "metadata": {},
   "outputs": [
    {
     "data": {
      "image/png": "[encoded data removed]",
      "text/plain": [
       "<Figure size 432x288 with 1 Axes>"
      ]
     },
     "metadata": {},
     "output_type": "display_data"
    }
   ],
   "source": [
    "# Plot 2018 dates\n",
    "df['dates'].groupby(df[\"dates\"].dt.month).count().plot(kind='bar')\n",
    "plt.show()"
   ]
  },
  {
   "cell_type": "markdown",
   "metadata": {},
   "source": [
    "# Distribution of sales among vendors"
   ]
  },
  {
   "cell_type": "code",
   "execution_count": 42,
   "metadata": {},
   "outputs": [],
   "source": [
    "# Get subset of columns that we care about\n",
    "drug_data = df.iloc[:,[3,15,16,17,18]]\n",
    "drug_data.columns = ['vendor_name', 'title', 'date','tokenized_title', 'drug_prediction']"
   ]
  },
  {
   "cell_type": "code",
   "execution_count": 43,
   "metadata": {
    "scrolled": true
   },
   "outputs": [
    {
     "data": {
      "image/png": "[encoded data removed]",
      "text/plain": [
       "<Figure size 432x288 with 1 Axes>"
      ]
     },
     "metadata": {},
     "output_type": "display_data"
    }
   ],
   "source": [
    "# Count number of listings for each vendor and create histogram\n",
    "sales_by_vendor = drug_data['vendor_name'].groupby(drug_data['vendor_name']).count()\n",
    "plt.hist(sales_by_vendor, bins = 20)\n",
    "plt.xlabel('Number of listings')\n",
    "plt.ylabel('Number of vendors')\n",
    "plt.show()\n"
   ]
  },
  {
   "cell_type": "code",
   "execution_count": 44,
   "metadata": {},
   "outputs": [],
   "source": [
    "# Sort vendors by number of sales\n",
    "sorted_sales_by_vendor = sales_by_vendor.sort_values(ascending = False)\n",
    "at_least_100_sales = np.where(sorted_sales_by_vendor == 100)[0][-1]\n",
    "at_least_50_sales = np.where(sorted_sales_by_vendor == 50)[0][-1]\n",
    "at_least_20_sales = np.where(sorted_sales_by_vendor == 20)[0][-1]"
   ]
  },
  {
   "cell_type": "code",
   "execution_count": 45,
   "metadata": {},
   "outputs": [],
   "source": [
    "# Get cumulative sum of series\n",
    "cumulative_sales = [np.sum(sorted_sales_by_vendor[:i]) for i in range(len(sorted_sales_by_vendor))]"
   ]
  },
  {
   "cell_type": "code",
   "execution_count": 46,
   "metadata": {},
   "outputs": [
    {
     "data": {
      "image/png": "[encoded data removed]",
      "text/plain": [
       "<Figure size 432x288 with 1 Axes>"
      ]
     },
     "metadata": {},
     "output_type": "display_data"
    }
   ],
   "source": [
    "# Plot number of vendors vs. number of listings\n",
    "plt.plot(cumulative_sales)\n",
    "plt.axvline(x=at_least_100_sales, color = 'r',linestyle = ':', label = 'At least 100 sales')\n",
    "plt.axvline(x=at_least_50_sales, color = 'g',linestyle = ':', label = 'At least 50 sales')\n",
    "plt.axvline(x=at_least_20_sales, color = 'k',linestyle = ':', label = 'At least 20 sales')\n",
    "plt.xlabel('Vendor # (descending order of sales)')\n",
    "plt.ylabel('Cumulative listings')\n",
    "plt.title('Distribution of sales by vendors')\n",
    "plt.legend()\n",
    "plt.show()"
   ]
  },
  {
   "cell_type": "markdown",
   "metadata": {},
   "source": [
    "# Thresholding out low-frequency vendors"
   ]
  },
  {
   "cell_type": "code",
   "execution_count": 47,
   "metadata": {},
   "outputs": [
    {
     "name": "stdout",
     "output_type": "stream",
     "text": [
      "Vendors before thresholding: 2660\n",
      "Vendors after thresholding: 286\n"
     ]
    }
   ],
   "source": [
    "# Threshold out vendors with less than given threshold of listings\n",
    "thresh = 100\n",
    "hi_freq_vendors = sales_by_vendor[sales_by_vendor > 100]\n",
    "print('Vendors before thresholding:', len(sales_by_vendor))\n",
    "print('Vendors after thresholding:', len(hi_freq_vendors))"
   ]
  },
  {
   "cell_type": "code",
   "execution_count": 48,
   "metadata": {},
   "outputs": [
    {
     "name": "stdout",
     "output_type": "stream",
     "text": [
      "Percent of listings: 0.5160599156527219\n",
      "Percent of vendors : 0.10751879699248121\n"
     ]
    }
   ],
   "source": [
    "#Calculate the ratio of listings for vendors > threshold\n",
    "percentage_of_listings = np.sum(hi_freq_vendors)/np.sum(sales_by_vendor)\n",
    "percent_of_vendors = len(hi_freq_vendors)/len(sales_by_vendor)\n",
    "print('Percent of listings:',percentage_of_listings)\n",
    "print('Percent of vendors :',percent_of_vendors)"
   ]
  },
  {
   "cell_type": "code",
   "execution_count": 49,
   "metadata": {},
   "outputs": [],
   "source": [
    "# Function checks if item is in the set\n",
    "def isInSet(item, myset):\n",
    "    return(item in myset)\n",
    "\n",
    "hi_freq_vendor_names = list(hi_freq_vendors.index)\n",
    "\n",
    "# For every row, check if the vendor is in high-frequency set\n",
    "is_hi_freq_row = drug_data['vendor_name'].apply(isInSet, myset = hi_freq_vendors.index)\n",
    "\n",
    "# Get dataframe with just the high-frequency set\n",
    "hi_freq_df = drug_data[is_hi_freq_row]"
   ]
  },
  {
   "cell_type": "markdown",
   "metadata": {},
   "source": [
    "Now analyze distribution for thresholded dataframe"
   ]
  },
  {
   "cell_type": "code",
   "execution_count": 50,
   "metadata": {},
   "outputs": [
    {
     "data": {
      "image/png": "[encoded data removed]",
      "text/plain": [
       "<Figure size 432x288 with 1 Axes>"
      ]
     },
     "metadata": {},
     "output_type": "display_data"
    }
   ],
   "source": [
    "# Count number of listings for each vendor and create histogram\n",
    "sales_by_vendor = hi_freq_df['vendor_name'].groupby(hi_freq_df['vendor_name']).count()\n",
    "plt.hist(sales_by_vendor, bins = 20)\n",
    "plt.xlabel('Number of listings')\n",
    "plt.ylabel('Number of vendors')\n",
    "plt.title('Sales per vendor')\n",
    "plt.show()"
   ]
  },
  {
   "cell_type": "markdown",
   "metadata": {},
   "source": [
    "Filter out listings with no labels or with multiple labels"
   ]
  },
  {
   "cell_type": "code",
   "execution_count": 51,
   "metadata": {},
   "outputs": [
    {
     "name": "stdout",
     "output_type": "stream",
     "text": [
      "Count number of categories for each listing:\n",
      "drug_prediction\n",
      "0    52152\n",
      "2     1077\n",
      "Name: drug_prediction, dtype: int64\n"
     ]
    }
   ],
   "source": [
    "# Plot number of categories per listing\n",
    "print('Count number of categories for each listing:')\n",
    "print(hi_freq_df['drug_prediction'].apply(len).groupby(hi_freq_df['drug_prediction'].apply(len)).count())\n",
    "\n",
    "# Get listings with fewer than 1 category\n",
    "cond1 = hi_freq_df['drug_prediction'].apply(len) < 2\n",
    "cond2 = hi_freq_df['drug_prediction'].apply(len) > 0\n",
    "drug_df = copy.deepcopy(hi_freq_df[cond1 & cond2])"
   ]
  },
  {
   "cell_type": "code",
   "execution_count": 52,
   "metadata": {},
   "outputs": [],
   "source": [
    "# Function to pop element from a set\n",
    "# Will be applied to column of dataframe\n",
    "def mypop(myset):\n",
    "    return(myset.pop())\n",
    "\n",
    "temp = copy.deepcopy(drug_df['drug_prediction'])\n",
    "drug_df['drug_prediction'] = temp.apply(mypop)"
   ]
  },
  {
   "cell_type": "markdown",
   "metadata": {},
   "source": [
    "# Drug Category analysis"
   ]
  },
  {
   "cell_type": "code",
   "execution_count": 53,
   "metadata": {},
   "outputs": [
    {
     "name": "stdout",
     "output_type": "stream",
     "text": [
      "Series([], Name: drug_prediction, dtype: float64)\n"
     ]
    },
    {
     "ename": "TypeError",
     "evalue": "Empty 'DataFrame': no numeric data to plot",
     "output_type": "error",
     "traceback": [
      "\u001b[0;31m---------------------------------------------------------------------------\u001b[0m",
      "\u001b[0;31mTypeError\u001b[0m                                 Traceback (most recent call last)",
      "\u001b[0;32m<ipython-input-53-95a9cd95a31a>\u001b[0m in \u001b[0;36m<module>\u001b[0;34m()\u001b[0m\n\u001b[1;32m      6\u001b[0m \u001b[0;34m\u001b[0m\u001b[0m\n\u001b[1;32m      7\u001b[0m \u001b[0;31m# Plot results\u001b[0m\u001b[0;34m\u001b[0m\u001b[0;34m\u001b[0m\u001b[0m\n\u001b[0;32m----> 8\u001b[0;31m \u001b[0mdrug_counts\u001b[0m\u001b[0;34m.\u001b[0m\u001b[0mplot\u001b[0m\u001b[0;34m(\u001b[0m\u001b[0mkind\u001b[0m \u001b[0;34m=\u001b[0m \u001b[0;34m'bar'\u001b[0m\u001b[0;34m)\u001b[0m\u001b[0;34m\u001b[0m\u001b[0m\n\u001b[0m\u001b[1;32m      9\u001b[0m \u001b[0mplt\u001b[0m\u001b[0;34m.\u001b[0m\u001b[0mylabel\u001b[0m\u001b[0;34m(\u001b[0m\u001b[0;34m'frequency'\u001b[0m\u001b[0;34m)\u001b[0m\u001b[0;34m\u001b[0m\u001b[0m\n\u001b[1;32m     10\u001b[0m \u001b[0mplt\u001b[0m\u001b[0;34m.\u001b[0m\u001b[0mtitle\u001b[0m\u001b[0;34m(\u001b[0m\u001b[0;34m'drug frequencies'\u001b[0m\u001b[0;34m)\u001b[0m\u001b[0;34m\u001b[0m\u001b[0m\n",
      "\u001b[0;32m/anaconda3/lib/python3.6/site-packages/pandas/plotting/_core.py\u001b[0m in \u001b[0;36m__call__\u001b[0;34m(self, kind, ax, figsize, use_index, title, grid, legend, style, logx, logy, loglog, xticks, yticks, xlim, ylim, rot, fontsize, colormap, table, yerr, xerr, label, secondary_y, **kwds)\u001b[0m\n\u001b[1;32m   2739\u001b[0m                            \u001b[0mcolormap\u001b[0m\u001b[0;34m=\u001b[0m\u001b[0mcolormap\u001b[0m\u001b[0;34m,\u001b[0m \u001b[0mtable\u001b[0m\u001b[0;34m=\u001b[0m\u001b[0mtable\u001b[0m\u001b[0;34m,\u001b[0m \u001b[0myerr\u001b[0m\u001b[0;34m=\u001b[0m\u001b[0myerr\u001b[0m\u001b[0;34m,\u001b[0m\u001b[0;34m\u001b[0m\u001b[0m\n\u001b[1;32m   2740\u001b[0m                            \u001b[0mxerr\u001b[0m\u001b[0;34m=\u001b[0m\u001b[0mxerr\u001b[0m\u001b[0;34m,\u001b[0m \u001b[0mlabel\u001b[0m\u001b[0;34m=\u001b[0m\u001b[0mlabel\u001b[0m\u001b[0;34m,\u001b[0m \u001b[0msecondary_y\u001b[0m\u001b[0;34m=\u001b[0m\u001b[0msecondary_y\u001b[0m\u001b[0;34m,\u001b[0m\u001b[0;34m\u001b[0m\u001b[0m\n\u001b[0;32m-> 2741\u001b[0;31m                            **kwds)\n\u001b[0m\u001b[1;32m   2742\u001b[0m     \u001b[0m__call__\u001b[0m\u001b[0;34m.\u001b[0m\u001b[0m__doc__\u001b[0m \u001b[0;34m=\u001b[0m \u001b[0mplot_series\u001b[0m\u001b[0;34m.\u001b[0m\u001b[0m__doc__\u001b[0m\u001b[0;34m\u001b[0m\u001b[0m\n\u001b[1;32m   2743\u001b[0m \u001b[0;34m\u001b[0m\u001b[0m\n",
      "\u001b[0;32m/anaconda3/lib/python3.6/site-packages/pandas/plotting/_core.py\u001b[0m in \u001b[0;36mplot_series\u001b[0;34m(data, kind, ax, figsize, use_index, title, grid, legend, style, logx, logy, loglog, xticks, yticks, xlim, ylim, rot, fontsize, colormap, table, yerr, xerr, label, secondary_y, **kwds)\u001b[0m\n\u001b[1;32m   2000\u001b[0m                  \u001b[0myerr\u001b[0m\u001b[0;34m=\u001b[0m\u001b[0myerr\u001b[0m\u001b[0;34m,\u001b[0m \u001b[0mxerr\u001b[0m\u001b[0;34m=\u001b[0m\u001b[0mxerr\u001b[0m\u001b[0;34m,\u001b[0m\u001b[0;34m\u001b[0m\u001b[0m\n\u001b[1;32m   2001\u001b[0m                  \u001b[0mlabel\u001b[0m\u001b[0;34m=\u001b[0m\u001b[0mlabel\u001b[0m\u001b[0;34m,\u001b[0m \u001b[0msecondary_y\u001b[0m\u001b[0;34m=\u001b[0m\u001b[0msecondary_y\u001b[0m\u001b[0;34m,\u001b[0m\u001b[0;34m\u001b[0m\u001b[0m\n\u001b[0;32m-> 2002\u001b[0;31m                  **kwds)\n\u001b[0m\u001b[1;32m   2003\u001b[0m \u001b[0;34m\u001b[0m\u001b[0m\n\u001b[1;32m   2004\u001b[0m \u001b[0;34m\u001b[0m\u001b[0m\n",
      "\u001b[0;32m/anaconda3/lib/python3.6/site-packages/pandas/plotting/_core.py\u001b[0m in \u001b[0;36m_plot\u001b[0;34m(data, x, y, subplots, ax, kind, **kwds)\u001b[0m\n\u001b[1;32m   1802\u001b[0m         \u001b[0mplot_obj\u001b[0m \u001b[0;34m=\u001b[0m \u001b[0mklass\u001b[0m\u001b[0;34m(\u001b[0m\u001b[0mdata\u001b[0m\u001b[0;34m,\u001b[0m \u001b[0msubplots\u001b[0m\u001b[0;34m=\u001b[0m\u001b[0msubplots\u001b[0m\u001b[0;34m,\u001b[0m \u001b[0max\u001b[0m\u001b[0;34m=\u001b[0m\u001b[0max\u001b[0m\u001b[0;34m,\u001b[0m \u001b[0mkind\u001b[0m\u001b[0;34m=\u001b[0m\u001b[0mkind\u001b[0m\u001b[0;34m,\u001b[0m \u001b[0;34m**\u001b[0m\u001b[0mkwds\u001b[0m\u001b[0;34m)\u001b[0m\u001b[0;34m\u001b[0m\u001b[0m\n\u001b[1;32m   1803\u001b[0m \u001b[0;34m\u001b[0m\u001b[0m\n\u001b[0;32m-> 1804\u001b[0;31m     \u001b[0mplot_obj\u001b[0m\u001b[0;34m.\u001b[0m\u001b[0mgenerate\u001b[0m\u001b[0;34m(\u001b[0m\u001b[0;34m)\u001b[0m\u001b[0;34m\u001b[0m\u001b[0m\n\u001b[0m\u001b[1;32m   1805\u001b[0m     \u001b[0mplot_obj\u001b[0m\u001b[0;34m.\u001b[0m\u001b[0mdraw\u001b[0m\u001b[0;34m(\u001b[0m\u001b[0;34m)\u001b[0m\u001b[0;34m\u001b[0m\u001b[0m\n\u001b[1;32m   1806\u001b[0m     \u001b[0;32mreturn\u001b[0m \u001b[0mplot_obj\u001b[0m\u001b[0;34m.\u001b[0m\u001b[0mresult\u001b[0m\u001b[0;34m\u001b[0m\u001b[0m\n",
      "\u001b[0;32m/anaconda3/lib/python3.6/site-packages/pandas/plotting/_core.py\u001b[0m in \u001b[0;36mgenerate\u001b[0;34m(self)\u001b[0m\n\u001b[1;32m    256\u001b[0m     \u001b[0;32mdef\u001b[0m \u001b[0mgenerate\u001b[0m\u001b[0;34m(\u001b[0m\u001b[0mself\u001b[0m\u001b[0;34m)\u001b[0m\u001b[0;34m:\u001b[0m\u001b[0;34m\u001b[0m\u001b[0m\n\u001b[1;32m    257\u001b[0m         \u001b[0mself\u001b[0m\u001b[0;34m.\u001b[0m\u001b[0m_args_adjust\u001b[0m\u001b[0;34m(\u001b[0m\u001b[0;34m)\u001b[0m\u001b[0;34m\u001b[0m\u001b[0m\n\u001b[0;32m--> 258\u001b[0;31m         \u001b[0mself\u001b[0m\u001b[0;34m.\u001b[0m\u001b[0m_compute_plot_data\u001b[0m\u001b[0;34m(\u001b[0m\u001b[0;34m)\u001b[0m\u001b[0;34m\u001b[0m\u001b[0m\n\u001b[0m\u001b[1;32m    259\u001b[0m         \u001b[0mself\u001b[0m\u001b[0;34m.\u001b[0m\u001b[0m_setup_subplots\u001b[0m\u001b[0;34m(\u001b[0m\u001b[0;34m)\u001b[0m\u001b[0;34m\u001b[0m\u001b[0m\n\u001b[1;32m    260\u001b[0m         \u001b[0mself\u001b[0m\u001b[0;34m.\u001b[0m\u001b[0m_make_plot\u001b[0m\u001b[0;34m(\u001b[0m\u001b[0;34m)\u001b[0m\u001b[0;34m\u001b[0m\u001b[0m\n",
      "\u001b[0;32m/anaconda3/lib/python3.6/site-packages/pandas/plotting/_core.py\u001b[0m in \u001b[0;36m_compute_plot_data\u001b[0;34m(self)\u001b[0m\n\u001b[1;32m    371\u001b[0m         \u001b[0;32mif\u001b[0m \u001b[0mis_empty\u001b[0m\u001b[0;34m:\u001b[0m\u001b[0;34m\u001b[0m\u001b[0m\n\u001b[1;32m    372\u001b[0m             raise TypeError('Empty {0!r}: no numeric data to '\n\u001b[0;32m--> 373\u001b[0;31m                             'plot'.format(numeric_data.__class__.__name__))\n\u001b[0m\u001b[1;32m    374\u001b[0m \u001b[0;34m\u001b[0m\u001b[0m\n\u001b[1;32m    375\u001b[0m         \u001b[0mself\u001b[0m\u001b[0;34m.\u001b[0m\u001b[0mdata\u001b[0m \u001b[0;34m=\u001b[0m \u001b[0mnumeric_data\u001b[0m\u001b[0;34m\u001b[0m\u001b[0m\n",
      "\u001b[0;31mTypeError\u001b[0m: Empty 'DataFrame': no numeric data to plot"
     ]
    }
   ],
   "source": [
    "# Plot drug categories by popularity\n",
    "drug_counts = drug_df['drug_prediction'].groupby(drug_df['drug_prediction']).count().sort_values(ascending = False)\n",
    "\n",
    "# For each drug, get percentage of the whole\n",
    "print(round(100 * drug_counts/np.sum(drug_counts),2))\n",
    "\n",
    "# Plot results\n",
    "drug_counts.plot(kind = 'bar')\n",
    "plt.ylabel('frequency')\n",
    "plt.title('drug frequencies')\n",
    "plt.show()"
   ]
  },
  {
   "cell_type": "code",
   "execution_count": 35,
   "metadata": {},
   "outputs": [],
   "source": [
    "# Remove all non-drug listings\n",
    "drug_rows = drug_df['drug_prediction'] != 'not_drugs'\n",
    "drug_df = drug_df[drug_rows]"
   ]
  },
  {
   "cell_type": "code",
   "execution_count": 36,
   "metadata": {},
   "outputs": [
    {
     "name": "stdout",
     "output_type": "stream",
     "text": [
      "drug_prediction\n",
      "marijuana          16.60\n",
      "cocaine            13.85\n",
      "benzodiazepines    13.43\n",
      "ecstasy             8.63\n",
      "methamphetamine     7.45\n",
      "heroin              6.44\n",
      "ketamine            5.70\n",
      "lsd                 4.89\n",
      "others              4.72\n",
      "hashish             4.08\n",
      "psilocybin          3.75\n",
      "dmt                 2.58\n",
      "amphetamine         1.62\n",
      "buprenorphine       1.50\n",
      "oxycodone           1.49\n",
      "methadone           1.09\n",
      "two_cb              0.59\n",
      "inhalants           0.54\n",
      "methylphenidate     0.52\n",
      "codeine             0.15\n",
      "morphine            0.14\n",
      "fentanyl            0.11\n",
      "oxymorphone         0.07\n",
      "khat                0.04\n",
      "mescaline           0.01\n",
      "Name: drug_prediction, dtype: float64\n"
     ]
    },
    {
     "data": {
      "image/png": "[encoded data removed]",
      "text/plain": [
       "<Figure size 432x288 with 1 Axes>"
      ]
     },
     "metadata": {},
     "output_type": "display_data"
    }
   ],
   "source": [
    "# Plot drug categories by popularity\n",
    "drug_counts = drug_df['drug_prediction'].groupby(drug_df['drug_prediction']).count().sort_values(ascending = False)\n",
    "\n",
    "# For each drug, get percentage of the whole\n",
    "print(round(100 * drug_counts/np.sum(drug_counts),2))\n",
    "\n",
    "# Plot results\n",
    "drug_counts.plot(kind = 'bar')\n",
    "plt.ylabel('frequency')\n",
    "plt.title('drug frequencies')\n",
    "plt.show()"
   ]
  },
  {
   "cell_type": "markdown",
   "metadata": {},
   "source": [
    "Plot number of drugs sold per vendor (histogram)"
   ]
  },
  {
   "cell_type": "code",
   "execution_count": 37,
   "metadata": {},
   "outputs": [],
   "source": [
    "# Get list of vendors in dataframe\n",
    "_ , vendor_list = pd.factorize(drug_df['vendor_name'])\n",
    "\n",
    "# Function to count number of drugs per vendor\n",
    "def countDrugsForVendor(vendor_name):\n",
    "    return(len(drug_df[drug_df['vendor_name'] == vendor_name].groupby('drug_prediction').count().index))\n",
    "\n",
    "# Get number of drugs sold for each vendor\n",
    "vendor_drug_counts = {vendor : countDrugsForVendor(vendor) for vendor in vendor_list}"
   ]
  },
  {
   "cell_type": "code",
   "execution_count": 38,
   "metadata": {},
   "outputs": [
    {
     "data": {
      "image/png": "[encoded data removed]",
      "text/plain": [
       "<Figure size 432x288 with 1 Axes>"
      ]
     },
     "metadata": {},
     "output_type": "display_data"
    }
   ],
   "source": [
    "# Make histogram of vendor_drug_counts\n",
    "bins = range(1,max(vendor_drug_counts.values()))\n",
    "plt.hist(vendor_drug_counts.values(), bins = bins)\n",
    "plt.xlabel('Number of drug categories')\n",
    "plt.ylabel('Number of vendors')\n",
    "plt.title('Number of categories for each vendor')\n",
    "plt.show()"
   ]
  },
  {
   "cell_type": "markdown",
   "metadata": {},
   "source": [
    "# Purity / Quantity extraction"
   ]
  },
  {
   "cell_type": "code",
   "execution_count": 38,
   "metadata": {},
   "outputs": [],
   "source": [
    "import re"
   ]
  },
  {
   "cell_type": "code",
   "execution_count": 21,
   "metadata": {},
   "outputs": [
    {
     "data": {
      "text/plain": [
       "['hello', 'world', '', 'credits', '', 'cards', '', '', '']"
      ]
     },
     "execution_count": 21,
     "metadata": {},
     "output_type": "execute_result"
    }
   ],
   "source": [
    "a = 'hello/world-\\\\credits$$cards***'\n",
    "re.split(r'[`\\-=~!@#$%^&*()_+\\[\\]{};\\'\\\\:\"|<,./<>?]', a)"
   ]
  },
  {
   "cell_type": "code",
   "execution_count": 178,
   "metadata": {
    "collapsed": true,
    "scrolled": true
   },
   "outputs": [
    {
     "data": {
      "text/plain": [
       "['MDMA',\n",
       " 'very',\n",
       " 'high',\n",
       " 'QUALITY',\n",
       " '87%',\n",
       " 'The',\n",
       " 'Best',\n",
       " 'MDMA',\n",
       " 'for',\n",
       " 'the',\n",
       " 'Cheapest',\n",
       " 'Price',\n",
       " '‚Ç¨3.50',\n",
       " ',',\n",
       " 'Speed',\n",
       " 'High',\n",
       " 'Quality',\n",
       " '72%',\n",
       " 'BULK',\n",
       " 'PRICES',\n",
       " '‚Ç¨',\n",
       " '1.30',\n",
       " ',',\n",
       " 'LSD',\n",
       " 'Anonymous',\n",
       " 'Mask',\n",
       " '220ug',\n",
       " 'BULK',\n",
       " 'PRICES',\n",
       " '‚Ç¨2.75',\n",
       " ',',\n",
       " 'LSD',\n",
       " '5x',\n",
       " '250ug',\n",
       " 'Maya',\n",
       " 'white',\n",
       " 'fluff',\n",
       " 'tabs',\n",
       " 'FREE',\n",
       " 'SHIP',\n",
       " 'ESCROW',\n",
       " 'TOP',\n",
       " 'QUALITY',\n",
       " ',',\n",
       " 'NN',\n",
       " 'DMT',\n",
       " 'The',\n",
       " 'Spirit',\n",
       " 'Molecule',\n",
       " '1gram',\n",
       " 'Dream',\n",
       " 'Sand',\n",
       " ',',\n",
       " 'HANDS',\n",
       " 'DOWN',\n",
       " '7',\n",
       " 'ONLY',\n",
       " 'FOR',\n",
       " '2',\n",
       " 'PURE',\n",
       " 'LSD',\n",
       " 'TABS',\n",
       " '200mcg',\n",
       " 'EACH',\n",
       " 'NL',\n",
       " 'LABS',\n",
       " 'FREE',\n",
       " 'WW',\n",
       " '2',\n",
       " '4D',\n",
       " 'XPRESS',\n",
       " 'SHIPPI',\n",
       " ',',\n",
       " '1GR',\n",
       " 'PURE',\n",
       " 'HEROIN',\n",
       " 'FIRST',\n",
       " 'HAND',\n",
       " 'QUALITY',\n",
       " 'ROCKS',\n",
       " ',',\n",
       " 'FREE',\n",
       " 'SAMPLE',\n",
       " 'CRAZY',\n",
       " 'INTRO',\n",
       " 'OFFER',\n",
       " '2',\n",
       " 'x',\n",
       " '200ug',\n",
       " 'PURE',\n",
       " 'LSD',\n",
       " 'ACID',\n",
       " 'BLOTTER',\n",
       " 'NL',\n",
       " 'MADE',\n",
       " 'pay',\n",
       " 'only',\n",
       " 'shippi',\n",
       " ',',\n",
       " 'N,N',\n",
       " 'DMT',\n",
       " 'crystals',\n",
       " '.25grams',\n",
       " ',',\n",
       " '1',\n",
       " '2',\n",
       " 'ozMaster',\n",
       " 'Kush',\n",
       " 'New',\n",
       " 'Vendor',\n",
       " 'Special',\n",
       " ',',\n",
       " '1.',\n",
       " 'Gram',\n",
       " 'Of',\n",
       " 'the',\n",
       " 'Shard',\n",
       " ',',\n",
       " 'XANAX',\n",
       " 'ALPRAZOLAM',\n",
       " '2mg',\n",
       " 'tab',\n",
       " '90',\n",
       " 'tabs',\n",
       " 'FARMAPRAM',\n",
       " ',',\n",
       " '1GR',\n",
       " 'PURE',\n",
       " 'UNCUT',\n",
       " 'COCAINE',\n",
       " 'PURE',\n",
       " 'COKE',\n",
       " 'BEST',\n",
       " 'OF',\n",
       " 'DARK',\n",
       " 'NET',\n",
       " ',',\n",
       " 'Maya',\n",
       " 'LSD',\n",
       " '180ug',\n",
       " 'BULK',\n",
       " 'PRICES',\n",
       " '‚Ç¨2.5']"
      ]
     },
     "execution_count": 178,
     "metadata": {},
     "output_type": "execute_result"
    }
   ],
   "source": [
    "title = \"? MDMA very high QUALITY 87%?The Best MDMA for the Cheapest Price?‚Ç¨3.50','? Speed High Quality 72%?BULK PRICES?‚Ç¨ 1.30?','?LSD Anonymous Mask 220ug ?BULK PRICES?‚Ç¨2.75','[LSD] 5x 250ug+- Maya white fluff tabs + FREE SHIP + ESCROW + TOP QUALITY','NN-DMT The Spirit Molecule 1gram Dream Sand','?HANDS DOWN! ! !? 7$ ONLY FOR 2 PURE LSD TABS 200mcg EACH! NL LABS!?FREE WW 2-4D XPRESS SHIPPI','1GR PURE HEROIN!! FIRST HAND QUALITY ROCKS!','?FREE SAMPLE? CRAZY INTRO OFFER? 2 x 200ug PURE LSD ACID BLOTTER NL MADE?pay only shippi',' N,N--DMT crystals .25grams','1/2 ozMaster Kush! New Vendor Special','1. Gram Of the Shard','XANAX ALPRAZOLAM 2mg/tab 90 tabs FARMAPRAM','1GR PURE UNCUT COCAINE! PURE COKE BEST OF DARK NET!','? Maya LSD 180ug ?BULK PRICES ?‚Ç¨2.5 ?\"\n",
    "\n",
    "tokens = (parser(title.lower()))\n",
    "tokens = [token.orth_ for token in tokens if not token.orth_.isspace()]\n",
    "# print(tokens)\n",
    "tokenize(title)"
   ]
  },
  {
   "cell_type": "code",
   "execution_count": 39,
   "metadata": {},
   "outputs": [
    {
     "name": "stdout",
     "output_type": "stream",
     "text": [
      "['87.5', 'mcg']\n",
      "['MDMA', 'very', 'high', 'QUALITY', '87', '%', 'The', 'Best', 'MDMA', 'for', 'the', 'Cheapest', 'Price', '‚Ç¨3.50', ',', 'Speed', 'High', 'Quality', '72', '%', 'BULK', 'PRICES', '‚Ç¨', '1.30', ',', 'LSD', 'Anonymous', 'Mask', '220', 'ug', 'BULK', 'PRICES', '‚Ç¨2.75', ',', 'LSD', '5', 'x', '250', 'ug', 'Maya', 'white', 'fluff', 'tabs', 'FREE', 'SHIP', 'ESCROW', 'TOP', 'QUALITY', ',', 'NN', 'DMT', 'The', 'Spirit', 'Molecule', '1', 'gram', 'Dream', 'Sand', ',', 'HANDS', 'DOWN', '7', 'ONLY', 'FOR', '2', 'PURE', 'LSD', 'TABS', '200', 'mcg', 'EACH', 'NL', 'LABS', 'FREE', 'WW', '2', '4', 'D', 'XPRESS', 'SHIPPI', ',', '1', 'GR', 'PURE', 'HEROIN', 'FIRST', 'HAND', 'QUALITY', 'ROCKS', ',', 'FREE', 'SAMPLE', 'CRAZY', 'INTRO', 'OFFER', '2', 'x', '200', 'ug', 'PURE', 'LSD', 'ACID', 'BLOTTER', 'NL', 'MADE', 'pay', 'only', 'shippi', ',', 'N,N', 'DMT', 'crystals', '.25', 'grams', ',', '1/2', 'ozMaster', 'Kush', 'New', 'Vendor', 'Special', ',', '1.', 'Gram', 'Of', 'the', 'Shard', ',', 'XANAX', 'ALPRAZOLAM', '2', 'mg', '90', 'tabs', 'FARMAPRAM', ',', '1', 'GR', 'PURE', 'UNCUT', 'COCAINE', 'PURE', 'COKE', 'BEST', 'OF', 'DARK', 'NET', ',', 'Maya', 'LSD', '180', 'ug', 'BULK', 'PRICES', '‚Ç¨2.5']\n"
     ]
    }
   ],
   "source": [
    "import re\n",
    "match = re.match(r\"([0-9,.]+)([a-z,%]+)\", '87.5mcg', re.I)\n",
    "if match is not None:\n",
    "    print([match.group(1),match.group(2)])\n",
    "\n",
    "sent = \"? MDMA very high QUALITY 87%?The Best MDMA for the Cheapest Price?‚Ç¨3.50','? Speed High Quality 72%?BULK PRICES?‚Ç¨ 1.30?','?LSD Anonymous Mask 220ug ?BULK PRICES?‚Ç¨2.75','[LSD] 5x 250ug+- Maya white fluff tabs + FREE SHIP + ESCROW + TOP QUALITY','NN-DMT The Spirit Molecule 1gram Dream Sand','?HANDS DOWN! ! !? 7$ ONLY FOR 2 PURE LSD TABS 200mcg EACH! NL LABS!?FREE WW 2-4D XPRESS SHIPPI','1GR PURE HEROIN!! FIRST HAND QUALITY ROCKS!','?FREE SAMPLE? CRAZY INTRO OFFER? 2 x 200ug PURE LSD ACID BLOTTER NL MADE?pay only shippi',' N,N--DMT crystals .25grams','1/2 ozMaster Kush! New Vendor Special','1. Gram Of the Shard','XANAX ALPRAZOLAM 2mg/tab 90 tabs FARMAPRAM','1GR PURE UNCUT COCAINE! PURE COKE BEST OF DARK NET!','? Maya LSD 180ug ?BULK PRICES ?‚Ç¨2.5 ?\"\n",
    "\n",
    "tokenized_sent = tokenize(sent)\n",
    "# print(tokenized_sent)\n",
    "\n",
    "new_tokens = []\n",
    "for token in tokenized_sent:\n",
    "    match = re.match(r\"([0-9,.]+)([a-z,%]+)\", token, re.I)\n",
    "    if match is not None:\n",
    "        temp = [match.group(1),match.group(2)]\n",
    "        new_tokens += temp\n",
    "    else:\n",
    "        new_tokens.append(token)\n",
    "print(new_tokens)"
   ]
  },
  {
   "cell_type": "code",
   "execution_count": 76,
   "metadata": {},
   "outputs": [],
   "source": [
    "import re\n",
    "\n",
    "# Special characters to be removed\n",
    "special_char =['`','\\'','=','-','~','!','@','#','$','^','&','*','(',')','_','+','[',']','{','}',';','\\\\',':','|','<','<','>','?','//']\n",
    "\n",
    "# Function to remove special characters\n",
    "def remove_special_char(string):\n",
    "    for char in special_char:\n",
    "        string = string.replace(char,' ')\n",
    "    return(string)\n",
    "\n",
    "# Tokenize the title (including measurements)\n",
    "def tokenize(string):\n",
    "    # First remove special characters and split words\n",
    "    old_tokens = remove_special_char(string.lower()).split()\n",
    "    new_tokens = [] # list to hold refined tokens\n",
    "    for token in old_tokens:\n",
    "        match = re.match(r\"([0-9,.]+)([a-z,%]+)\", token, re.I) # look for measurements\n",
    "        if match is not None: # if there is a match\n",
    "            temp = [match.group(1),match.group(2)] # get the groups\n",
    "            new_tokens += temp # add to the list of new tokens\n",
    "        else:\n",
    "            new_tokens.append(token) # otherwise keep the old token\n",
    "    return(new_tokens)\n",
    "\n",
    "# Get purity\n",
    "purity_metrics = ['%','percent']\n",
    "def getPurity(tokenized_title):\n",
    "    prev = '' # initialize previous token\n",
    "    purity = '' # initialize quantity\n",
    "    for token in tokenized_title:\n",
    "        if token in purity_metrics:\n",
    "            purity = prev+token # assume previous token is quantity\n",
    "        prev = token\n",
    "    return purity\n",
    "\n",
    "# Get quantity\n",
    "quantity_metrics = ['kg','g','g.','mg','mcg','ug','oz','lb', 'gram', 'gr','gr.', 'grams','pound','kilogram','ml']\n",
    "def getQuantity(tokenized_title):\n",
    "    prev = '' # initialize previous token\n",
    "    quantity = '' # initialize quantity\n",
    "    for token in tokenized_title:\n",
    "        if token in quantity_metrics:\n",
    "            quantity = prev+token # assume previous token is quantity\n",
    "        prev = token\n",
    "    return quantity"
   ]
  },
  {
   "cell_type": "code",
   "execution_count": 70,
   "metadata": {},
   "outputs": [
    {
     "name": "stdout",
     "output_type": "stream",
     "text": [
      "['7', 'Grame']\n"
     ]
    }
   ],
   "source": [
    "token = '7Grame'\n",
    "# pattern = re.compile(r\"([0-9.]+)([a-z%]+)\")\n",
    "match = re.match(r\"([0-9,.]+)([a-z,%]+)\", token, re.I)\n",
    "# match = re.search(pattern, token, re.I) # look for measurements\n",
    "if match is not None: # if there is a match\n",
    "    print([match.group(1),match.group(2)]) # get the groups"
   ]
  },
  {
   "cell_type": "code",
   "execution_count": 77,
   "metadata": {},
   "outputs": [
    {
     "data": {
      "text/plain": [
       "['7', 'gram']"
      ]
     },
     "execution_count": 77,
     "metadata": {},
     "output_type": "execute_result"
    }
   ],
   "source": [
    "tokenize('7gram')"
   ]
  },
  {
   "cell_type": "code",
   "execution_count": 5,
   "metadata": {},
   "outputs": [],
   "source": [
    "word = 'hiLSDABD there'\n",
    "# match = re.search(r'([a-z]+)([A-Z]+)', word, re.I)\n",
    "# if match is not None:\n",
    "#     print(match.groups())"
   ]
  },
  {
   "cell_type": "code",
   "execution_count": 6,
   "metadata": {
    "scrolled": true
   },
   "outputs": [
    {
     "name": "stdout",
     "output_type": "stream",
     "text": [
      "hiLSDABD there\n",
      "['hiLSDABD', 'there']\n"
     ]
    }
   ],
   "source": [
    "print(word)\n",
    "print(tokenize(word))"
   ]
  },
  {
   "cell_type": "code",
   "execution_count": 111,
   "metadata": {},
   "outputs": [
    {
     "name": "stdout",
     "output_type": "stream",
     "text": [
      "('20 ', 'O')\n"
     ]
    }
   ],
   "source": [
    "word = '20 OzYes'\n",
    "pattern = re.compile(r'([^(.*?)a-z]+)([A-Z]+)')\n",
    "match = re.search(pattern,word)\n",
    "if match is not None:\n",
    "    print(match.groups())\n",
    "# re.split(pattern,word)"
   ]
  },
  {
   "cell_type": "code",
   "execution_count": 81,
   "metadata": {},
   "outputs": [
    {
     "data": {
      "text/plain": [
       "['n,n', 'dmt', 'crystals', '0.5', 'grams']"
      ]
     },
     "execution_count": 81,
     "metadata": {},
     "output_type": "execute_result"
    }
   ],
   "source": [
    "tokenize(' N,N--DMT crystals - 0.5 grams')"
   ]
  },
  {
   "cell_type": "code",
   "execution_count": 0,
   "metadata": {},
   "outputs": [],
   "source": []
  },
  {
   "cell_type": "code",
   "execution_count": 79,
   "metadata": {},
   "outputs": [],
   "source": [
    "hi_freq_vendor_listings['tokenized_titles'] = hi_freq_vendor_listings['description'].apply(tokenize)\n",
    "hi_freq_vendor_listings['quantity'] = hi_freq_vendor_listings['tokenized_titles'].apply(getQuantity)\n",
    "hi_freq_vendor_listings['purity'] = hi_freq_vendor_listings['tokenized_titles'].apply(getPurity)"
   ]
  },
  {
   "cell_type": "code",
   "execution_count": 80,
   "metadata": {},
   "outputs": [],
   "source": [
    "hi_freq_vendor_listings.to_csv('updated_file.csv')"
   ]
  },
  {
   "cell_type": "code",
   "execution_count": 48,
   "metadata": {},
   "outputs": [
    {
     "data": {
      "text/plain": [
       "['1/4', '.', 'oz', 'shards']"
      ]
     },
     "execution_count": 48,
     "metadata": {},
     "output_type": "execute_result"
    }
   ],
   "source": [
    "string = 'WARLOCK - 3,5 Gram - HIGH QUALITY'\n",
    "remove_special_char(string.lower()).split()\n",
    "re.match(r\"([0-9,.]+)([a-z%]+)\", '3,5mg', re.I).groups()\n",
    "tokenize('1/4 .Oz Shards')"
   ]
  },
  {
   "cell_type": "code",
   "execution_count": 182,
   "metadata": {},
   "outputs": [
    {
     "data": {
      "text/plain": [
       "'10gr'"
      ]
     },
     "execution_count": 182,
     "metadata": {},
     "output_type": "execute_result"
    }
   ],
   "source": [
    "# check if a string is a number (from stackoverflow)\n",
    "def is_number(str):\n",
    "    try:\n",
    "        float(str)\n",
    "        return True\n",
    "    except ValueError:\n",
    "        return False\n",
    "\n",
    "# Function to check for quantity\n",
    "metrics = ['kg','g','mg','ug','oz','lb', 'gram', 'gr', 'grams']\n",
    "def getQuantity(title):\n",
    "    tokens = (parser(title.lower()))\n",
    "    tokenized_title = [token.orth_ for token in tokens if not token.orth_.isspace()]\n",
    "    prev = '' # initialize previous token\n",
    "    quantity = '' # initialize quantity\n",
    "    for token in tokenized_title:\n",
    "        if token in metrics:\n",
    "            quantity = prev+token # assume previous token is quantity\n",
    "        prev = token\n",
    "    return quantity\n",
    "\n",
    "purity_metrics = ['%','percent']\n",
    "def getPurity(title):\n",
    "    tokens = (parser(title.lower()))\n",
    "    tokenized_title = [token.orth_ for token in tokens if not token.orth_.isspace()]\n",
    "    prev = '' # initialize previous token\n",
    "    quantity = '' # initialize quantity\n",
    "    for token in tokenized_title:\n",
    "        if token in purity_metrics:\n",
    "            quantity = prev+token # assume previous token is quantity\n",
    "        prev = token\n",
    "    return quantity\n",
    "\n",
    "# Function to check for purity\n",
    "title = '10 gr Purple Kush / Haze quality=B+ (Outdoor & Organic)'\n",
    "tokens = (parser(title.lower()))\n",
    "tokens = [token.orth_ for token in tokens if not token.orth_.isspace()]\n",
    "\n",
    "getQuantity(title)"
   ]
  },
  {
   "cell_type": "code",
   "execution_count": 63,
   "metadata": {
    "scrolled": true
   },
   "outputs": [],
   "source": [
    "hi_freq_vendor_listings['quantity'] = hi_freq_vendor_listings['description'].apply(getQuantity)\n",
    "hi_freq_vendor_listings['purity'] = hi_freq_vendor_listings['description'].apply(getPurity)"
   ]
  },
  {
   "cell_type": "code",
   "execution_count": 64,
   "metadata": {},
   "outputs": [],
   "source": [
    "hi_freq_vendor_listings.to_csv(path_or_buf = 'quantity_labeling_test.csv')"
   ]
  },
  {
   "cell_type": "code",
   "execution_count": 32,
   "metadata": {},
   "outputs": [
    {
     "data": {
      "text/plain": [
       "['warlock', '3', ',', 'gram', 'high', 'quality']"
      ]
     },
     "execution_count": 32,
     "metadata": {},
     "output_type": "execute_result"
    }
   ],
   "source": []
  },
  {
   "cell_type": "code",
   "execution_count": 10,
   "metadata": {},
   "outputs": [
    {
     "name": "stdout",
     "output_type": "stream",
     "text": [
      "token cocaine\n",
      "token methamphetamine\n",
      "['cocaine', 'methamphetamine']\n"
     ]
    }
   ],
   "source": [
    "description = \"Amazing Crystal Meth *0.3g* WE BEAT ANY PRICE\"\n",
    "\n",
    "# Function to check for purity\n",
    "tokens = (parser(description.lower()))\n",
    "tokens = [token.orth_ for token in tokens if not token.orth_.isspace()]\n",
    "\n",
    "title = [tokens, description]\n",
    "\n",
    "tokenized_title = title[0] # Get tokenized title\n",
    "non_tokenized_title = title[1].lower() # get non-tokenized title\n",
    "possible_drugs = [] # empty list to hold drug predictions\n",
    "drug_index = 0\n",
    "for drug in drugs_dict.keys(): # for every drug category\n",
    "    if any(token in drugs_dict[drug] for token in tokenized_title): # uses tokenization\n",
    "        print('token',drug)\n",
    "        possible_drugs.append(drug)\n",
    "    if any(multi_word in non_tokenized_title for multi_word in multi_drug_dict[drug]):\n",
    "        print('multi_word',drug)\n",
    "        possible_drugs.append(drug)\n",
    "print(possible_drugs)"
   ]
  },
  {
   "cell_type": "code",
   "execution_count": 47,
   "metadata": {},
   "outputs": [],
   "source": [
    "import drugLookup\n"
   ]
  },
  {
   "cell_type": "code",
   "execution_count": 48,
   "metadata": {},
   "outputs": [],
   "source": [
    "#print drugLookup.get_drugs_dict()"
   ]
  },
  {
   "cell_type": "code",
   "execution_count": 49,
   "metadata": {},
   "outputs": [],
   "source": [
    "# Load drugs dictionary\n",
    "drugs_dict = drugLookup.get_drugs_dict()\n",
    "\n",
    "complete_multi_word_list = []\n",
    "\n",
    "drug_index = 0\n",
    "#For loop that gets all the synonyms of drugs with more than one word\n",
    "for drug in drugs_dict.keys():\n",
    "    slang_words = drugs_dict[drug]\n",
    "    multi_word_list = []\n",
    "    for slang_word in slang_words:\n",
    "        if ' ' in slang_word:\n",
    "            multi_word_list.append(slang_word)\n",
    "    complete_multi_word_list.append(multi_word_list)\n",
    "         \n",
    "#complete_multi_word_list\n",
    "\n",
    "# Create multi_word dictionary\n",
    "drug_cats = list(drugs_dict.keys())\n",
    "multi_drug_dict = dict(zip(drug_cats, complete_multi_word_list))"
   ]
  },
  {
   "cell_type": "code",
   "execution_count": 23,
   "metadata": {},
   "outputs": [],
   "source": [
    "test_titles = ['? MDMA very high QUALITY 87%?The Best MDMA for the Cheapest Price?‚Ç¨3.50',\n",
    "'? Speed High Quality 72%?BULK PRICES?‚Ç¨ 1.30?',\n",
    "'?LSD Anonymous Mask 220ug ?BULK PRICES?‚Ç¨2.75',\n",
    "'[LSD] 5x 250ug+- Maya white fluff tabs + FREE SHIP + ESCROW + TOP QUALITY',\n",
    "'NN-DMT The Spirit Molecule 1gram Dream Sand',\n",
    "'?HANDS DOWN! ! !? 7$ ONLY FOR 2 PURE LSD TABS 200mcg EACH! NL LABS!?FREE WW 2-4D XPRESS SHIPPI',\n",
    "'1GR PURE HEROIN!! FIRST HAND QUALITY ROCKS!',\n",
    "'?FREE SAMPLE? CRAZY INTRO OFFER? 2 x 200ug PURE LSD ACID BLOTTER NL MADE?pay only shippi',\n",
    "' N,N--DMT crystals .25grams',\n",
    "'1/2 ozMaster Kush! New Vendor Special',\n",
    "'1. Gram Of the Shard',\n",
    "'XANAX ALPRAZOLAM 2mg/tab 90 tabs FARMAPRAM',\n",
    "'1GR PURE UNCUT COCAINE! PURE COKE BEST OF DARK NET!',\n",
    "'? Maya LSD 180ug ?BULK PRICES ?‚Ç¨2.5 ?']\n",
    "test_df = pd.DataFrame(test_titles)"
   ]
  },
  {
   "cell_type": "code",
   "execution_count": 24,
   "metadata": {},
   "outputs": [],
   "source": [
    "test_df.columns = ['title']"
   ]
  },
  {
   "cell_type": "code",
   "execution_count": 37,
   "metadata": {},
   "outputs": [],
   "source": [
    "def parse_titles(title):\n",
    "    tokens = parser(title.lower())\n",
    "    tokens = [token.orth_ for token in tokens if not token.orth_.isspace()]\n",
    "    return(tokens)\n",
    "\n",
    "import re\n",
    "\n",
    "metrics = ['kg ','g ','mg ','ug ','oz ','lb ', 'gram ', 'gr ', 'grams ','mcg ']\n",
    "\n",
    "def parse_titles2(title):\n",
    "    quantity = []\n",
    "    for metric in metrics:\n",
    "        match_index = title.find(metric)\n",
    "        quantity.append(title[match_index-4:match_index+len(metric)-1])\n",
    "    return(quantity)\n",
    "\n",
    "\n",
    "def parse_titles3(title):\n",
    "    return title[title.find('%')-2:title.find('%')+1]"
   ]
  },
  {
   "cell_type": "code",
   "execution_count": 0,
   "metadata": {},
   "outputs": [],
   "source": [
    "'Pure 100 oz'"
   ]
  },
  {
   "cell_type": "code",
   "execution_count": 38,
   "metadata": {},
   "outputs": [],
   "source": [
    "test_df['parse1'] = test_df['title'].apply(parse_titles2)\n",
    "test_df['parse2'] = test_df['title'].apply(parse_titles3)"
   ]
  },
  {
   "cell_type": "code",
   "execution_count": 39,
   "metadata": {},
   "outputs": [],
   "source": [
    "test_df.to_csv('parsing.csv')"
   ]
  },
  {
   "cell_type": "code",
   "execution_count": 16,
   "metadata": {},
   "outputs": [
    {
     "data": {
      "text/plain": [
       "''"
      ]
     },
     "execution_count": 16,
     "metadata": {},
     "output_type": "execute_result"
    }
   ],
   "source": [
    "myString = '? Speed High Quality 72?BULK PRICES?‚Ç¨ 1.30?'\n",
    "myString[myString.find('%')-2:myString.find('%')+1]"
   ]
  },
  {
   "cell_type": "code",
   "execution_count": 52,
   "metadata": {},
   "outputs": [],
   "source": [
    "test_df['parse3'] = test_df['parse1'].apply(max,key = len)"
   ]
  },
  {
   "cell_type": "code",
   "execution_count": 54,
   "metadata": {},
   "outputs": [],
   "source": [
    "test_df.to_csv('parsing_test.csv')"
   ]
  },
  {
   "cell_type": "code",
   "execution_count": 43,
   "metadata": {},
   "outputs": [
    {
     "data": {
      "text/plain": [
       "'bb'"
      ]
     },
     "execution_count": 43,
     "metadata": {},
     "output_type": "execute_result"
    }
   ],
   "source": [
    "l = ['a','bb','c']\n",
    "max(l, key=len)"
   ]
  },
  {
   "cell_type": "code",
   "execution_count": 50,
   "metadata": {},
   "outputs": [
    {
     "ename": "TypeError",
     "evalue": "replace() argument 1 must be str, not list",
     "output_type": "error",
     "traceback": [
      "\u001b[0;31m---------------------------------------------------------------------------\u001b[0m",
      "\u001b[0;31mTypeError\u001b[0m                                 Traceback (most recent call last)",
      "\u001b[0;32m<ipython-input-50-264a42ecbfff>\u001b[0m in \u001b[0;36m<module>\u001b[0;34m()\u001b[0m\n\u001b[1;32m      1\u001b[0m \u001b[0mmyString\u001b[0m \u001b[0;34m=\u001b[0m \u001b[0;34m'john is looking for you'\u001b[0m\u001b[0;34m\u001b[0m\u001b[0;34m\u001b[0m\u001b[0m\n\u001b[0;32m----> 2\u001b[0;31m \u001b[0mmyString\u001b[0m\u001b[0;34m.\u001b[0m\u001b[0mreplace\u001b[0m\u001b[0;34m(\u001b[0m\u001b[0;34m[\u001b[0m\u001b[0;34m\"is\"\u001b[0m\u001b[0;34m,\u001b[0m\u001b[0;34m'looking'\u001b[0m\u001b[0;34m]\u001b[0m\u001b[0;34m,\u001b[0m \u001b[0;34m\"was\"\u001b[0m\u001b[0;34m)\u001b[0m\u001b[0;34m\u001b[0m\u001b[0;34m\u001b[0m\u001b[0m\n\u001b[0m",
      "\u001b[0;31mTypeError\u001b[0m: replace() argument 1 must be str, not list"
     ]
    }
   ],
   "source": [
    "myString = 'john is looking for you'\n",
    "myString.replace([\"is\",'looking'], \"was\")"
   ]
  },
  {
   "cell_type": "code",
   "execution_count": 134,
   "metadata": {},
   "outputs": [],
   "source": [
    "special_char =['`','\\'','=','-','~','!','@','#','$','^','&','*','(',')','_','+','[',']','{','}',';','\\\\',':','|','<','<','>','?','/']"
   ]
  },
  {
   "cell_type": "code",
   "execution_count": 124,
   "metadata": {},
   "outputs": [],
   "source": [
    "title = \"? MDMA very high QUALITY 87%?The Best MDMA for the Cheapest Price?‚Ç¨3.50 10\"\n",
    "def remove_special_char(string):\n",
    "    for char in special_char:\n",
    "        string = string.replace(char,' ')\n",
    "    return(string)"
   ]
  },
  {
   "cell_type": "code",
   "execution_count": 174,
   "metadata": {},
   "outputs": [
    {
     "name": "stdout",
     "output_type": "stream",
     "text": [
      "['MDMA', 'very', 'high', 'QUALITY', '87%', 'The', 'Best', 'MDMA', 'for', 'the', 'Cheapest', 'Price', '‚Ç¨3.50', ',', 'Speed', 'High', 'Quality', '72%', 'BULK', 'PRICES', '‚Ç¨', '1.30', ',', 'LSD', 'Anonymous', 'Mask', '220ug', 'BULK', 'PRICES', '‚Ç¨2.75', ',', 'LSD', '5x', '250ug', 'Maya', 'white', 'fluff', 'tabs', 'FREE', 'SHIP', 'ESCROW', 'TOP', 'QUALITY', ',', 'NN', 'DMT', 'The', 'Spirit', 'Molecule', '1gram', 'Dream', 'Sand', ',', 'HANDS', 'DOWN', '7', 'ONLY', 'FOR', '2', 'PURE', 'LSD', 'TABS', '200mcg', 'EACH', 'NL', 'LABS', 'FREE', 'WW', '2', '4D', 'XPRESS', 'SHIPPI', ',', '1GR', 'PURE', 'HEROIN', 'FIRST', 'HAND', 'QUALITY', 'ROCKS', ',', 'FREE', 'SAMPLE', 'CRAZY', 'INTRO', 'OFFER', '2', 'x', '200ug', 'PURE', 'LSD', 'ACID', 'BLOTTER', 'NL', 'MADE', 'pay', 'only', 'shippi', ',', 'N,N', 'DMT', 'crystals', '.25grams', ',', '1', '2', 'ozMaster', 'Kush', 'New', 'Vendor', 'Special', ',', '1.', 'Gram', 'Of', 'the', 'Shard', ',', 'XANAX', 'ALPRAZOLAM', '2mg', 'tab', '90', 'tabs', 'FARMAPRAM', ',', '1GR', 'PURE', 'UNCUT', 'COCAINE', 'PURE', 'COKE', 'BEST', 'OF', 'DARK', 'NET', ',', 'Maya', 'LSD', '180ug', 'BULK', 'PRICES', '‚Ç¨2.5']\n"
     ]
    }
   ],
   "source": [
    "word = '?HANDS DOWN! ! !? 7$ ONLY 3.5 gr kush//indoor*** F*OR 2 PURE 2C-B LSD TABS 200mcg EACH 90% purity! NL LABS!?FREE WW 2-4D XPRESS SHIPPI'\n",
    "new = remove_special_char(test_title1)\n",
    "print(new.split())"
   ]
  },
  {
   "cell_type": "code",
   "execution_count": 164,
   "metadata": {},
   "outputs": [],
   "source": [
    "test_title1 = \"? MDMA very high QUALITY 87%?The Best MDMA for the Cheapest Price?‚Ç¨3.50','? Speed High Quality 72%?BULK PRICES?‚Ç¨ 1.30?','?LSD Anonymous Mask 220ug ?BULK PRICES?‚Ç¨2.75','[LSD] 5x 250ug+- Maya white fluff tabs + FREE SHIP + ESCROW + TOP QUALITY','NN-DMT The Spirit Molecule 1gram Dream Sand','?HANDS DOWN! ! !? 7$ ONLY FOR 2 PURE LSD TABS 200mcg EACH! NL LABS!?FREE WW 2-4D XPRESS SHIPPI','1GR PURE HEROIN!! FIRST HAND QUALITY ROCKS!','?FREE SAMPLE? CRAZY INTRO OFFER? 2 x 200ug PURE LSD ACID BLOTTER NL MADE?pay only shippi',' N,N--DMT crystals .25grams','1/2 ozMaster Kush! New Vendor Special','1. Gram Of the Shard','XANAX ALPRAZOLAM 2mg/tab 90 tabs FARMAPRAM','1GR PURE UNCUT COCAINE! PURE COKE BEST OF DARK NET!','? Maya LSD 180ug ?BULK PRICES ?‚Ç¨2.5 ?\"\n"
   ]
  },
  {
   "cell_type": "code",
   "execution_count": 165,
   "metadata": {
    "scrolled": true
   },
   "outputs": [
    {
     "name": "stdout",
     "output_type": "stream",
     "text": [
      "['87', '3', '50', '72', '1', '30', '220', '2', '75', '5', '250', '1', '7', '2', '200', '2', '4', '1', '2', '200', '25', '1', '2', '1', '2', '90', '1', '180', '2', '5']\n"
     ]
    }
   ],
   "source": [
    "\n",
    "# Function to extract all the numbers from the given string \n",
    "def getNumbers(str): \n",
    "    digits = re.findall(r'[0-9]+', str) \n",
    "#     digits_index = re.\n",
    "    return digits\n",
    "\n",
    "array_of_numbers = getNumbers(test_title1) \n",
    "\n",
    "print (array_of_numbers)\n",
    "\n",
    "\n"
   ]
  },
  {
   "cell_type": "code",
   "execution_count": 173,
   "metadata": {},
   "outputs": [
    {
     "data": {
      "text/plain": [
       "['2', '2', '90']"
      ]
     },
     "execution_count": 173,
     "metadata": {},
     "output_type": "execute_result"
    }
   ],
   "source": [
    "[s for s in test_title1.split() if s.isdigit()]"
   ]
  },
  {
   "cell_type": "code",
   "execution_count": 56,
   "metadata": {},
   "outputs": [],
   "source": [
    "tokens = parser('2C-B')\n",
    "tokens = [token.orth_ for token in tokens if not token.orth_.isspace()]"
   ]
  },
  {
   "cell_type": "code",
   "execution_count": 57,
   "metadata": {},
   "outputs": [
    {
     "data": {
      "text/plain": [
       "['2C', '-', 'B']"
      ]
     },
     "execution_count": 57,
     "metadata": {},
     "output_type": "execute_result"
    }
   ],
   "source": [
    "tokens"
   ]
  },
  {
   "cell_type": "markdown",
   "metadata": {},
   "source": [
    "# Probability Distribution"
   ]
  },
  {
   "cell_type": "code",
   "execution_count": 0,
   "metadata": {},
   "outputs": [],
   "source": [
    "hi_freq_vendor_listings['vendor_name']"
   ]
  },
  {
   "cell_type": "code",
   "execution_count": 0,
   "metadata": {},
   "outputs": [],
   "source": []
  }
 ],
 "metadata": {
  "kernelspec": {
   "display_name": "Python 3",
   "language": "python",
   "name": "python3"
  },
  "language_info": {
   "codemirror_mode": {
    "name": "ipython",
    "version": 3
   },
   "file_extension": ".py",
   "mimetype": "text/x-python",
   "name": "python",
   "nbconvert_exporter": "python",
   "pygments_lexer": "ipython3",
   "version": "3.6.5"
  }
 },
 "nbformat": 4,
 "nbformat_minor": 1
}
