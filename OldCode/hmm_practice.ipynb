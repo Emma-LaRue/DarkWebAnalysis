{
 "cells": [
  {
   "cell_type": "code",
   "execution_count": 55,
   "metadata": {},
   "outputs": [],
   "source": [
    "import numpy as np\n",
    "import pandas as pd\n",
    "import matplotlib.pyplot as plt\n",
    "from datetime import datetime\n",
    "import math\n",
    "import os\n",
    "import hmm1\n",
    "import sklearn\n",
    "import pickle\n",
    "import time"
   ]
  },
  {
   "cell_type": "markdown",
   "metadata": {},
   "source": [
    "# Read in files"
   ]
  },
  {
   "cell_type": "code",
   "execution_count": 56,
   "metadata": {},
   "outputs": [],
   "source": [
    "# Load emission probability table\n",
    "ems_prob = pd.read_csv('ems_prob.csv')"
   ]
  },
  {
   "cell_type": "code",
   "execution_count": 57,
   "metadata": {},
   "outputs": [],
   "source": [
    "# Read in data (from pickle file)\n",
    "file = open('drug_df_filtered','rb')\n",
    "drug_df = pickle.load(file)"
   ]
  },
  {
   "cell_type": "markdown",
   "metadata": {},
   "source": [
    "# Get subset for training"
   ]
  },
  {
   "cell_type": "code",
   "execution_count": 58,
   "metadata": {},
   "outputs": [],
   "source": [
    "december_sales = drug_df[drug_df['date'] > datetime(2018,12,30)]\n",
    "split_idx = 100\n",
    "train = december_sales.sort_values(by = 'date').iloc[:split_idx, :]\n",
    "test = december_sales.sort_values(by = 'date').iloc[split_idx:, :]"
   ]
  },
  {
   "cell_type": "code",
   "execution_count": 59,
   "metadata": {},
   "outputs": [],
   "source": [
    "#Training set\n",
    "train_hidden = list(train['vendor_name'])\n",
    "train_observed = list(train['drug_prediction'])\n",
    "\n",
    "#Testing set\n",
    "test_hidden = list(test['vendor_name'])\n",
    "test_observed = list(test['drug_prediction'])"
   ]
  },
  {
   "cell_type": "markdown",
   "metadata": {},
   "source": [
    "# Format Data"
   ]
  },
  {
   "cell_type": "code",
   "execution_count": 79,
   "metadata": {},
   "outputs": [],
   "source": [
    "# Get unique drugs and vendors\n",
    "_, unique_vendors = pd.factorize(train_hidden, sort = True)\n",
    "_, unique_drugs = pd.factorize(train_observed, sort = True)\n",
    "\n",
    "# Function checks if item is in the set\n",
    "def isInSet(item, myset):\n",
    "    return(item in myset)\n",
    "\n",
    "# Get subset of emission probability rows\n",
    "vendor_in_set = ems_prob['Vendor Name'].apply(isInSet, myset = unique_vendors)\n",
    "ems_prob_subset = ems_prob[vendor_in_set]\n",
    "\n",
    "# Get subset of emission probability cols\n",
    "ems_prob_subset = ems_prob_subset[unique_drugs]"
   ]
  },
  {
   "cell_type": "code",
   "execution_count": 87,
   "metadata": {},
   "outputs": [
    {
     "data": {
      "text/plain": [
       "{0: '-Lenas-BioLaden-',\n",
       " 1: '0a74ad41873d53e50e9dce228c96433c',\n",
       " 2: '550d05ab240ec337038af814ff0de287',\n",
       " 3: 'Alagbada726',\n",
       " 4: 'AlanCuring420_UK',\n",
       " 5: 'BlackSheepSquadron',\n",
       " 6: 'CaptainPirate',\n",
       " 7: 'ChillChem',\n",
       " 8: 'CryptoICE',\n",
       " 9: 'DCdutchconnectionUK',\n",
       " 10: 'DMT-lovestore',\n",
       " 11: 'DRUGPOOL',\n",
       " 12: 'ETHER_MART',\n",
       " 13: 'GRUENEWALDSCAVE',\n",
       " 14: 'GreenSupreme',\n",
       " 15: 'GrimReefer420',\n",
       " 16: 'HeinekenExpress',\n",
       " 17: 'HonestTrader',\n",
       " 18: 'Kman3000',\n",
       " 19: 'MoonBanana',\n",
       " 20: 'Multi',\n",
       " 21: 'NordicBars',\n",
       " 22: 'Perfect.Shrooms',\n",
       " 23: 'PopeyeUK',\n",
       " 24: 'Recettear',\n",
       " 25: 'ScarlettsK',\n",
       " 26: 'Shiny.Flakes',\n",
       " 27: 'Smokey1884',\n",
       " 28: 'WA2018',\n",
       " 29: 'YOURDEALER',\n",
       " 30: 'bangalow',\n",
       " 31: 'blueviking',\n",
       " 32: 'fun-gee',\n",
       " 33: 'g00d00',\n",
       " 34: 'sthompson',\n",
       " 35: 'tinyrock'}"
      ]
     },
     "execution_count": 87,
     "metadata": {},
     "output_type": "execute_result"
    }
   ],
   "source": [
    "vendor_dict = dict(zip(list(range(0,len(unique_vendors))),unique_vendors))\n",
    "vendor_dict"
   ]
  },
  {
   "cell_type": "code",
   "execution_count": 61,
   "metadata": {},
   "outputs": [],
   "source": [
    "# Create data frame to be used by Baum Welch (one-hot encoding)\n",
    "train_hidden_encoded = pd.get_dummies(train_hidden)\n",
    "train_hidden_encoded = np.matrix(train_hidden_encoded)\n",
    "\n",
    "train_observed_array, _ = pd.factorize(train_observed)\n",
    "train_observed_array = train_observed_array.reshape(-1,1)"
   ]
  },
  {
   "cell_type": "code",
   "execution_count": 77,
   "metadata": {},
   "outputs": [
    {
     "data": {
      "text/plain": [
       "array(['WA2018', 'BlackSheepSquadron', 'Perfect.Shrooms',\n",
       "       '-Lenas-BioLaden-', 'sthompson', 'YOURDEALER', 'tinyrock',\n",
       "       'GrimReefer420', 'HonestTrader', 'ChillChem', 'Alagbada726',\n",
       "       'Kman3000', 'CryptoICE', 'DCdutchconnectionUK', 'PopeyeUK',\n",
       "       'MoonBanana', 'NordicBars', '0a74ad41873d53e50e9dce228c96433c',\n",
       "       'HeinekenExpress', 'DMT-lovestore', 'Recettear', 'Shiny.Flakes',\n",
       "       '550d05ab240ec337038af814ff0de287', 'Smokey1884', 'blueviking',\n",
       "       'g00d00', 'Multi', 'ETHER_MART', 'bangalow', 'GRUENEWALDSCAVE',\n",
       "       'AlanCuring420_UK', 'CaptainPirate', 'GreenSupreme', 'ScarlettsK',\n",
       "       'DRUGPOOL', 'fun-gee'], dtype=object)"
      ]
     },
     "execution_count": 77,
     "metadata": {},
     "output_type": "execute_result"
    }
   ],
   "source": [
    "labs, u = pd.factorize(train_hidden)\n",
    "u"
   ]
  },
  {
   "cell_type": "code",
   "execution_count": 62,
   "metadata": {},
   "outputs": [],
   "source": [
    "new_hmm = hmm1.Hmm(states = unique_vendors, observations = unique_drugs, ems_prob = ems_prob_subset)"
   ]
  },
  {
   "cell_type": "markdown",
   "metadata": {},
   "source": [
    "# Apply Baum-Welch algorithm"
   ]
  },
  {
   "cell_type": "code",
   "execution_count": 67,
   "metadata": {},
   "outputs": [
    {
     "name": "stdout",
     "output_type": "stream",
     "text": [
      "12.690099000930786\n"
     ]
    }
   ],
   "source": [
    "# Parameters for Baum-Welch\n",
    "n_iter = 10\n",
    "n_train = 5\n",
    "\n",
    "# Run Baum-Welch algorithm\n",
    "start = time.time()\n",
    "start_prob, trans_prob = new_hmm.hmm_BaumWelch(data = train_hidden_encoded, n_iter = n_iter, n_train = n_train)\n",
    "stop = time.time()\n",
    "elapsed = stop-start\n",
    "print(elapsed)"
   ]
  },
  {
   "cell_type": "code",
   "execution_count": 68,
   "metadata": {},
   "outputs": [
    {
     "name": "stdout",
     "output_type": "stream",
     "text": [
      "[[0.04574929 0.02593045 0.03482071 ... 0.02195449 0.02276143 0.021077  ]\n",
      " [0.04582816 0.02592235 0.03485163 ... 0.02192894 0.02273941 0.02104759]\n",
      " [0.04578163 0.02592713 0.03483339 ... 0.02194401 0.0227524  0.02106494]\n",
      " ...\n",
      " [0.04586124 0.02591895 0.03486459 ... 0.02191822 0.02273018 0.02103526]\n",
      " [0.04585358 0.02591973 0.03486159 ... 0.0219207  0.02273232 0.02103811]\n",
      " [0.04587023 0.02591802 0.03486811 ... 0.02191531 0.02272767 0.0210319 ]]\n"
     ]
    }
   ],
   "source": [
    "print(trans_prob)"
   ]
  },
  {
   "cell_type": "markdown",
   "metadata": {},
   "source": [
    "# Apply Viterbi algorithm"
   ]
  },
  {
   "cell_type": "code",
   "execution_count": 70,
   "metadata": {
    "scrolled": true
   },
   "outputs": [
    {
     "name": "stdout",
     "output_type": "stream",
     "text": [
      "The best logprob is:  -355.8788277256775\n"
     ]
    },
    {
     "name": "stderr",
     "output_type": "stream",
     "text": [
      "/anaconda3/lib/python3.6/site-packages/hmmlearn/hmm.py:412: RuntimeWarning: divide by zero encountered in log\n",
      "  return np.log(self.emissionprob_)[:, np.concatenate(X)].T\n",
      "/anaconda3/lib/python3.6/site-packages/hmmlearn/hmm.py:412: RuntimeWarning: divide by zero encountered in log\n",
      "  return np.log(self.emissionprob_)[:, np.concatenate(X)].T\n",
      "/anaconda3/lib/python3.6/site-packages/hmmlearn/hmm.py:412: RuntimeWarning: divide by zero encountered in log\n",
      "  return np.log(self.emissionprob_)[:, np.concatenate(X)].T\n",
      "/anaconda3/lib/python3.6/site-packages/hmmlearn/hmm.py:412: RuntimeWarning: divide by zero encountered in log\n",
      "  return np.log(self.emissionprob_)[:, np.concatenate(X)].T\n",
      "/anaconda3/lib/python3.6/site-packages/hmmlearn/hmm.py:412: RuntimeWarning: divide by zero encountered in log\n",
      "  return np.log(self.emissionprob_)[:, np.concatenate(X)].T\n",
      "/anaconda3/lib/python3.6/site-packages/hmmlearn/hmm.py:412: RuntimeWarning: divide by zero encountered in log\n",
      "  return np.log(self.emissionprob_)[:, np.concatenate(X)].T\n",
      "/anaconda3/lib/python3.6/site-packages/hmmlearn/hmm.py:412: RuntimeWarning: divide by zero encountered in log\n",
      "  return np.log(self.emissionprob_)[:, np.concatenate(X)].T\n",
      "/anaconda3/lib/python3.6/site-packages/hmmlearn/hmm.py:412: RuntimeWarning: divide by zero encountered in log\n",
      "  return np.log(self.emissionprob_)[:, np.concatenate(X)].T\n",
      "/anaconda3/lib/python3.6/site-packages/hmmlearn/hmm.py:412: RuntimeWarning: divide by zero encountered in log\n",
      "  return np.log(self.emissionprob_)[:, np.concatenate(X)].T\n",
      "/anaconda3/lib/python3.6/site-packages/hmmlearn/hmm.py:412: RuntimeWarning: divide by zero encountered in log\n",
      "  return np.log(self.emissionprob_)[:, np.concatenate(X)].T\n"
     ]
    }
   ],
   "source": [
    "vendor_preds = new_hmm.hmm_Viterbi(obs_seq = train_observed_array, start_prob = start_prob, trans_prob = trans_prob)"
   ]
  },
  {
   "cell_type": "code",
   "execution_count": 71,
   "metadata": {},
   "outputs": [
    {
     "data": {
      "text/plain": [
       "array([ 4,  4,  5, 32, 32,  4,  4,  4,  4, 11, 11, 11, 11, 11, 11, 11, 26,\n",
       "       14, 14, 14,  4, 11, 26, 26,  4,  4,  4,  4,  4,  4, 10,  6,  6,  6,\n",
       "        6, 25,  4,  4, 11,  9,  9,  9, 26, 25, 25,  6,  4, 26, 26, 26,  4,\n",
       "        4,  4,  4,  4, 14,  4, 14,  4,  4, 14, 14, 14, 14,  4,  4,  4,  9,\n",
       "       10, 10,  9, 26, 26, 26,  4, 31,  6, 26, 30, 30, 12,  4, 30, 30,  9,\n",
       "       31, 31,  4,  6,  6,  4, 25, 11, 11, 11, 11, 11, 32, 26, 26])"
      ]
     },
     "execution_count": 71,
     "metadata": {},
     "output_type": "execute_result"
    }
   ],
   "source": [
    "vendor_preds"
   ]
  }
 ],
 "metadata": {
  "kernelspec": {
   "display_name": "Python 3",
   "language": "python",
   "name": "python3"
  },
  "language_info": {
   "codemirror_mode": {
    "name": "ipython",
    "version": 3
   },
   "file_extension": ".py",
   "mimetype": "text/x-python",
   "name": "python",
   "nbconvert_exporter": "python",
   "pygments_lexer": "ipython3",
   "version": "3.6.5"
  }
 },
 "nbformat": 4,
 "nbformat_minor": 1
}
