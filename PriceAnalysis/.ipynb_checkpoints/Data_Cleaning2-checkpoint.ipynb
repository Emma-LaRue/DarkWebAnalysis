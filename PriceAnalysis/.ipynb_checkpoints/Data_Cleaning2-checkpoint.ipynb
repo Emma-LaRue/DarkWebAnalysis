{
 "cells": [
  {
   "cell_type": "markdown",
   "metadata": {},
   "source": [
    "# Reading in file and converting timestamps"
   ]
  },
  {
   "cell_type": "code",
   "execution_count": 1,
   "metadata": {},
   "outputs": [],
   "source": [
    "import numpy as np\n",
    "import pandas as pd\n",
    "import matplotlib.pyplot as plt\n",
    "from itertools import compress\n",
    "\n",
    "from datetime import datetime\n",
    "from dateutil.parser import parse\n",
    "\n",
    "import math\n",
    "import os\n",
    "import copy"
   ]
  },
  {
   "cell_type": "code",
   "execution_count": 2,
   "metadata": {},
   "outputs": [
    {
     "ename": "FileNotFoundError",
     "evalue": "[Errno 2] No such file or directory: 'product_rating_modified.txt'",
     "output_type": "error",
     "traceback": [
      "\u001b[0;31m---------------------------------------------------------------------------\u001b[0m",
      "\u001b[0;31mFileNotFoundError\u001b[0m                         Traceback (most recent call last)",
      "\u001b[0;32m<ipython-input-2-e0bc8e802f05>\u001b[0m in \u001b[0;36m<module>\u001b[0;34m()\u001b[0m\n\u001b[1;32m      1\u001b[0m \u001b[0;31m# Reading the text file\u001b[0m\u001b[0;34m\u001b[0m\u001b[0;34m\u001b[0m\u001b[0m\n\u001b[0;32m----> 2\u001b[0;31m \u001b[0mproduct_descriptions\u001b[0m \u001b[0;34m=\u001b[0m \u001b[0mpd\u001b[0m\u001b[0;34m.\u001b[0m\u001b[0mread_csv\u001b[0m\u001b[0;34m(\u001b[0m\u001b[0;34m'product_rating_modified.txt'\u001b[0m\u001b[0;34m,\u001b[0m \u001b[0mheader\u001b[0m \u001b[0;34m=\u001b[0m \u001b[0;32mNone\u001b[0m\u001b[0;34m,\u001b[0m \u001b[0msep\u001b[0m \u001b[0;34m=\u001b[0m \u001b[0;34m'\\', \\''\u001b[0m\u001b[0;34m,\u001b[0m \u001b[0mengine\u001b[0m \u001b[0;34m=\u001b[0m \u001b[0;34m'python'\u001b[0m\u001b[0;34m)\u001b[0m\u001b[0;34m\u001b[0m\u001b[0m\n\u001b[0m",
      "\u001b[0;32m/anaconda3/lib/python3.6/site-packages/pandas/io/parsers.py\u001b[0m in \u001b[0;36mparser_f\u001b[0;34m(filepath_or_buffer, sep, delimiter, header, names, index_col, usecols, squeeze, prefix, mangle_dupe_cols, dtype, engine, converters, true_values, false_values, skipinitialspace, skiprows, skipfooter, nrows, na_values, keep_default_na, na_filter, verbose, skip_blank_lines, parse_dates, infer_datetime_format, keep_date_col, date_parser, dayfirst, iterator, chunksize, compression, thousands, decimal, lineterminator, quotechar, quoting, doublequote, escapechar, comment, encoding, dialect, tupleize_cols, error_bad_lines, warn_bad_lines, delim_whitespace, low_memory, memory_map, float_precision)\u001b[0m\n\u001b[1;32m    700\u001b[0m                     skip_blank_lines=skip_blank_lines)\n\u001b[1;32m    701\u001b[0m \u001b[0;34m\u001b[0m\u001b[0m\n\u001b[0;32m--> 702\u001b[0;31m         \u001b[0;32mreturn\u001b[0m \u001b[0m_read\u001b[0m\u001b[0;34m(\u001b[0m\u001b[0mfilepath_or_buffer\u001b[0m\u001b[0;34m,\u001b[0m \u001b[0mkwds\u001b[0m\u001b[0;34m)\u001b[0m\u001b[0;34m\u001b[0m\u001b[0m\n\u001b[0m\u001b[1;32m    703\u001b[0m \u001b[0;34m\u001b[0m\u001b[0m\n\u001b[1;32m    704\u001b[0m     \u001b[0mparser_f\u001b[0m\u001b[0;34m.\u001b[0m\u001b[0m__name__\u001b[0m \u001b[0;34m=\u001b[0m \u001b[0mname\u001b[0m\u001b[0;34m\u001b[0m\u001b[0m\n",
      "\u001b[0;32m/anaconda3/lib/python3.6/site-packages/pandas/io/parsers.py\u001b[0m in \u001b[0;36m_read\u001b[0;34m(filepath_or_buffer, kwds)\u001b[0m\n\u001b[1;32m    427\u001b[0m \u001b[0;34m\u001b[0m\u001b[0m\n\u001b[1;32m    428\u001b[0m     \u001b[0;31m# Create the parser.\u001b[0m\u001b[0;34m\u001b[0m\u001b[0;34m\u001b[0m\u001b[0m\n\u001b[0;32m--> 429\u001b[0;31m     \u001b[0mparser\u001b[0m \u001b[0;34m=\u001b[0m \u001b[0mTextFileReader\u001b[0m\u001b[0;34m(\u001b[0m\u001b[0mfilepath_or_buffer\u001b[0m\u001b[0;34m,\u001b[0m \u001b[0;34m**\u001b[0m\u001b[0mkwds\u001b[0m\u001b[0;34m)\u001b[0m\u001b[0;34m\u001b[0m\u001b[0m\n\u001b[0m\u001b[1;32m    430\u001b[0m \u001b[0;34m\u001b[0m\u001b[0m\n\u001b[1;32m    431\u001b[0m     \u001b[0;32mif\u001b[0m \u001b[0mchunksize\u001b[0m \u001b[0;32mor\u001b[0m \u001b[0miterator\u001b[0m\u001b[0;34m:\u001b[0m\u001b[0;34m\u001b[0m\u001b[0m\n",
      "\u001b[0;32m/anaconda3/lib/python3.6/site-packages/pandas/io/parsers.py\u001b[0m in \u001b[0;36m__init__\u001b[0;34m(self, f, engine, **kwds)\u001b[0m\n\u001b[1;32m    893\u001b[0m             \u001b[0mself\u001b[0m\u001b[0;34m.\u001b[0m\u001b[0moptions\u001b[0m\u001b[0;34m[\u001b[0m\u001b[0;34m'has_index_names'\u001b[0m\u001b[0;34m]\u001b[0m \u001b[0;34m=\u001b[0m \u001b[0mkwds\u001b[0m\u001b[0;34m[\u001b[0m\u001b[0;34m'has_index_names'\u001b[0m\u001b[0;34m]\u001b[0m\u001b[0;34m\u001b[0m\u001b[0m\n\u001b[1;32m    894\u001b[0m \u001b[0;34m\u001b[0m\u001b[0m\n\u001b[0;32m--> 895\u001b[0;31m         \u001b[0mself\u001b[0m\u001b[0;34m.\u001b[0m\u001b[0m_make_engine\u001b[0m\u001b[0;34m(\u001b[0m\u001b[0mself\u001b[0m\u001b[0;34m.\u001b[0m\u001b[0mengine\u001b[0m\u001b[0;34m)\u001b[0m\u001b[0;34m\u001b[0m\u001b[0m\n\u001b[0m\u001b[1;32m    896\u001b[0m \u001b[0;34m\u001b[0m\u001b[0m\n\u001b[1;32m    897\u001b[0m     \u001b[0;32mdef\u001b[0m \u001b[0mclose\u001b[0m\u001b[0;34m(\u001b[0m\u001b[0mself\u001b[0m\u001b[0;34m)\u001b[0m\u001b[0;34m:\u001b[0m\u001b[0;34m\u001b[0m\u001b[0m\n",
      "\u001b[0;32m/anaconda3/lib/python3.6/site-packages/pandas/io/parsers.py\u001b[0m in \u001b[0;36m_make_engine\u001b[0;34m(self, engine)\u001b[0m\n\u001b[1;32m   1130\u001b[0m                                  ' \"c\", \"python\", or' ' \"python-fwf\")'.format(\n\u001b[1;32m   1131\u001b[0m                                      engine=engine))\n\u001b[0;32m-> 1132\u001b[0;31m             \u001b[0mself\u001b[0m\u001b[0;34m.\u001b[0m\u001b[0m_engine\u001b[0m \u001b[0;34m=\u001b[0m \u001b[0mklass\u001b[0m\u001b[0;34m(\u001b[0m\u001b[0mself\u001b[0m\u001b[0;34m.\u001b[0m\u001b[0mf\u001b[0m\u001b[0;34m,\u001b[0m \u001b[0;34m**\u001b[0m\u001b[0mself\u001b[0m\u001b[0;34m.\u001b[0m\u001b[0moptions\u001b[0m\u001b[0;34m)\u001b[0m\u001b[0;34m\u001b[0m\u001b[0m\n\u001b[0m\u001b[1;32m   1133\u001b[0m \u001b[0;34m\u001b[0m\u001b[0m\n\u001b[1;32m   1134\u001b[0m     \u001b[0;32mdef\u001b[0m \u001b[0m_failover_to_python\u001b[0m\u001b[0;34m(\u001b[0m\u001b[0mself\u001b[0m\u001b[0;34m)\u001b[0m\u001b[0;34m:\u001b[0m\u001b[0;34m\u001b[0m\u001b[0m\n",
      "\u001b[0;32m/anaconda3/lib/python3.6/site-packages/pandas/io/parsers.py\u001b[0m in \u001b[0;36m__init__\u001b[0;34m(self, f, **kwds)\u001b[0m\n\u001b[1;32m   2223\u001b[0m         f, handles = _get_handle(f, mode, encoding=self.encoding,\n\u001b[1;32m   2224\u001b[0m                                  \u001b[0mcompression\u001b[0m\u001b[0;34m=\u001b[0m\u001b[0mself\u001b[0m\u001b[0;34m.\u001b[0m\u001b[0mcompression\u001b[0m\u001b[0;34m,\u001b[0m\u001b[0;34m\u001b[0m\u001b[0m\n\u001b[0;32m-> 2225\u001b[0;31m                                  memory_map=self.memory_map)\n\u001b[0m\u001b[1;32m   2226\u001b[0m         \u001b[0mself\u001b[0m\u001b[0;34m.\u001b[0m\u001b[0mhandles\u001b[0m\u001b[0;34m.\u001b[0m\u001b[0mextend\u001b[0m\u001b[0;34m(\u001b[0m\u001b[0mhandles\u001b[0m\u001b[0;34m)\u001b[0m\u001b[0;34m\u001b[0m\u001b[0m\n\u001b[1;32m   2227\u001b[0m \u001b[0;34m\u001b[0m\u001b[0m\n",
      "\u001b[0;32m/anaconda3/lib/python3.6/site-packages/pandas/io/common.py\u001b[0m in \u001b[0;36m_get_handle\u001b[0;34m(path_or_buf, mode, encoding, compression, memory_map, is_text)\u001b[0m\n\u001b[1;32m    425\u001b[0m         \u001b[0;32melif\u001b[0m \u001b[0mis_text\u001b[0m\u001b[0;34m:\u001b[0m\u001b[0;34m\u001b[0m\u001b[0m\n\u001b[1;32m    426\u001b[0m             \u001b[0;31m# Python 3 and no explicit encoding\u001b[0m\u001b[0;34m\u001b[0m\u001b[0;34m\u001b[0m\u001b[0m\n\u001b[0;32m--> 427\u001b[0;31m             \u001b[0mf\u001b[0m \u001b[0;34m=\u001b[0m \u001b[0mopen\u001b[0m\u001b[0;34m(\u001b[0m\u001b[0mpath_or_buf\u001b[0m\u001b[0;34m,\u001b[0m \u001b[0mmode\u001b[0m\u001b[0;34m,\u001b[0m \u001b[0merrors\u001b[0m\u001b[0;34m=\u001b[0m\u001b[0;34m'replace'\u001b[0m\u001b[0;34m,\u001b[0m \u001b[0mnewline\u001b[0m\u001b[0;34m=\u001b[0m\u001b[0;34m\"\"\u001b[0m\u001b[0;34m)\u001b[0m\u001b[0;34m\u001b[0m\u001b[0m\n\u001b[0m\u001b[1;32m    428\u001b[0m         \u001b[0;32melse\u001b[0m\u001b[0;34m:\u001b[0m\u001b[0;34m\u001b[0m\u001b[0m\n\u001b[1;32m    429\u001b[0m             \u001b[0;31m# Python 3 and binary mode\u001b[0m\u001b[0;34m\u001b[0m\u001b[0;34m\u001b[0m\u001b[0m\n",
      "\u001b[0;31mFileNotFoundError\u001b[0m: [Errno 2] No such file or directory: 'product_rating_modified.txt'"
     ]
    }
   ],
   "source": [
    "# Reading the text file\n",
    "product_descriptions = pd.read_csv('product_rating_modified.txt', header = None, sep = '\\', \\'', engine = 'python')"
   ]
  },
  {
   "cell_type": "code",
   "execution_count": 6,
   "metadata": {},
   "outputs": [],
   "source": [
    "# Only get transactions in Market 1\n",
    "product_descriptions = product_descriptions[product_descriptions.iloc[:,1] == 1]"
   ]
  },
  {
   "cell_type": "code",
   "execution_count": 7,
   "metadata": {},
   "outputs": [
    {
     "data": {
      "text/html": [
       "<div>\n",
       "<style scoped>\n",
       "    .dataframe tbody tr th:only-of-type {\n",
       "        vertical-align: middle;\n",
       "    }\n",
       "\n",
       "    .dataframe tbody tr th {\n",
       "        vertical-align: top;\n",
       "    }\n",
       "\n",
       "    .dataframe thead th {\n",
       "        text-align: right;\n",
       "    }\n",
       "</style>\n",
       "<table border=\"1\" class=\"dataframe\">\n",
       "  <thead>\n",
       "    <tr style=\"text-align: right;\">\n",
       "      <th></th>\n",
       "      <th>0</th>\n",
       "      <th>2</th>\n",
       "      <th>3</th>\n",
       "      <th>4</th>\n",
       "      <th>5</th>\n",
       "      <th>6</th>\n",
       "      <th>7</th>\n",
       "      <th>8</th>\n",
       "      <th>9</th>\n",
       "      <th>10</th>\n",
       "      <th>11</th>\n",
       "      <th>12</th>\n",
       "      <th>13</th>\n",
       "      <th>14</th>\n",
       "      <th>15</th>\n",
       "    </tr>\n",
       "    <tr>\n",
       "      <th>1</th>\n",
       "      <th></th>\n",
       "      <th></th>\n",
       "      <th></th>\n",
       "      <th></th>\n",
       "      <th></th>\n",
       "      <th></th>\n",
       "      <th></th>\n",
       "      <th></th>\n",
       "      <th></th>\n",
       "      <th></th>\n",
       "      <th></th>\n",
       "      <th></th>\n",
       "      <th></th>\n",
       "      <th></th>\n",
       "      <th></th>\n",
       "    </tr>\n",
       "  </thead>\n",
       "  <tbody>\n",
       "    <tr>\n",
       "      <th>1</th>\n",
       "      <td>92388</td>\n",
       "      <td>92388</td>\n",
       "      <td>92388</td>\n",
       "      <td>92388</td>\n",
       "      <td>92388</td>\n",
       "      <td>92388</td>\n",
       "      <td>92388</td>\n",
       "      <td>92388</td>\n",
       "      <td>92388</td>\n",
       "      <td>92388</td>\n",
       "      <td>92388</td>\n",
       "      <td>92388</td>\n",
       "      <td>92388</td>\n",
       "      <td>92388</td>\n",
       "      <td>92388</td>\n",
       "    </tr>\n",
       "  </tbody>\n",
       "</table>\n",
       "</div>"
      ],
      "text/plain": [
       "      0      2      3      4      5      6      7      8      9      10  \\\n",
       "1                                                                         \n",
       "1  92388  92388  92388  92388  92388  92388  92388  92388  92388  92388   \n",
       "\n",
       "      11     12     13     14     15  \n",
       "1                                     \n",
       "1  92388  92388  92388  92388  92388  "
      ]
     },
     "execution_count": 7,
     "metadata": {},
     "output_type": "execute_result"
    }
   ],
   "source": [
    "product_descriptions.groupby(1).count()"
   ]
  },
  {
   "cell_type": "code",
   "execution_count": 9,
   "metadata": {
    "scrolled": true
   },
   "outputs": [],
   "source": [
    "# Function to convert numeric time to datetime object\n",
    "def parseDate(raw_date, pattern = '%Y%m%d%H%M%S'):\n",
    "    string_date = str(raw_date)\n",
    "    return(datetime.strptime(string_date, pattern))\n",
    "\n",
    "# Parse the dates, and place in new column\n",
    "product_descriptions['dates'] = product_descriptions.iloc[:,7].apply(parseDate)"
   ]
  },
  {
   "cell_type": "markdown",
   "metadata": {},
   "source": [
    "# Tokenizing Product Description"
   ]
  },
  {
   "cell_type": "code",
   "execution_count": 10,
   "metadata": {},
   "outputs": [],
   "source": [
    "import spacy\n",
    "from spacy.lang.en import English\n",
    "parser = English()"
   ]
  },
  {
   "cell_type": "code",
   "execution_count": 11,
   "metadata": {},
   "outputs": [],
   "source": [
    "# Function to tokenize titles\n",
    "def tokenize_1(title):\n",
    "    tokens = parser(title.lower())\n",
    "    tokens = [token.orth_ for token in tokens if not token.orth_.isspace()]\n",
    "    return(tokens)"
   ]
  },
  {
   "cell_type": "code",
   "execution_count": 13,
   "metadata": {},
   "outputs": [],
   "source": [
    "# Apply tokenizer to the titles in the dataframe\n",
    "product_descriptions['tokenized_titles'] = product_descriptions.iloc[:,15].apply(tokenize_1)"
   ]
  },
  {
   "cell_type": "code",
   "execution_count": 14,
   "metadata": {},
   "outputs": [],
   "source": [
    "# Alternative tokenizer\n",
    "special_char =['`','\\'','=','-','~','!','@','#','$','^','&','*','(',')','_','+','[',']','{','}',';','\\\\',':','|','<','<','>','?','//']\n",
    "\n",
    "def remove_special_char(string):\n",
    "    for char in special_char:\n",
    "        string = string.replace(char,' ')\n",
    "    return(string)\n",
    "\n",
    "def tokenize(string):\n",
    "    return remove_special_char(string).split()"
   ]
  },
  {
   "cell_type": "markdown",
   "metadata": {},
   "source": [
    "# Categorize drugs"
   ]
  },
  {
   "cell_type": "code",
   "execution_count": 15,
   "metadata": {},
   "outputs": [],
   "source": [
    "import drugLookup"
   ]
  },
  {
   "cell_type": "markdown",
   "metadata": {},
   "source": [
    "Get list of slang phrases that are multiple words"
   ]
  },
  {
   "cell_type": "code",
   "execution_count": 16,
   "metadata": {
    "scrolled": true
   },
   "outputs": [],
   "source": [
    "# Load drugs dictionary\n",
    "drugs_dict = drugLookup.get_drugs_dict()\n",
    "\n",
    "complete_multi_word_list = []\n",
    "\n",
    "drug_index = 0\n",
    "#For loop that gets all the synonyms of drugs with more than one word\n",
    "for drug in drugs_dict.keys():\n",
    "    slang_words = drugs_dict[drug]\n",
    "    multi_word_list = []\n",
    "    for slang_word in slang_words:\n",
    "        if ' ' in slang_word:\n",
    "            multi_word_list.append(slang_word)\n",
    "    complete_multi_word_list.append(multi_word_list)"
   ]
  },
  {
   "cell_type": "code",
   "execution_count": 17,
   "metadata": {},
   "outputs": [],
   "source": [
    "# Create multi_word dictionary\n",
    "drug_cats = list(drugs_dict.keys())\n",
    "multi_drug_dict = dict(zip(drug_cats, complete_multi_word_list))"
   ]
  },
  {
   "cell_type": "code",
   "execution_count": 18,
   "metadata": {},
   "outputs": [],
   "source": [
    "# Load dictionary of drugs\n",
    "drugs_dict = drugLookup.get_drugs_dict()\n",
    "\n",
    "\n",
    "# Get list of possible drugs for each listing\n",
    "def categorize_listing(title_set):\n",
    "    #     Function takes in set of two: first entry is raw_title, second is tokenized_title\n",
    "    possible_drugs = []\n",
    "    list_title_set = list(title_set)\n",
    "    raw_title = list_title_set[0]\n",
    "    tokenized_title = list_title_set[1]\n",
    "    for drug in drugs_dict.keys():\n",
    "        if any(token in drugs_dict[drug]\n",
    "               for token in tokenized_title):  # uses tokenization\n",
    "            possible_drugs.append(drug)\n",
    "        if any(multi_word in raw_title\n",
    "               for multi_word in multi_drug_dict[drug]):\n",
    "            possible_drugs.append(drug)\n",
    "    return possible_drugs"
   ]
  },
  {
   "cell_type": "code",
   "execution_count": 19,
   "metadata": {
    "scrolled": true
   },
   "outputs": [],
   "source": [
    "# Categorize each listing\n",
    "product_descriptions['drug_prediction'] = product_descriptions.iloc[:,[15,17]].apply(categorize_listing, axis = 1)"
   ]
  },
  {
   "cell_type": "markdown",
   "metadata": {},
   "source": [
    "# Remove bad dates"
   ]
  },
  {
   "cell_type": "code",
   "execution_count": 20,
   "metadata": {},
   "outputs": [
    {
     "data": {
      "image/png": "[encoded data removed]",
      "text/plain": [
       "<Figure size 432x288 with 1 Axes>"
      ]
     },
     "metadata": {},
     "output_type": "display_data"
    },
    {
     "data": {
      "text/plain": [
       "dates\n",
       "1969     2457\n",
       "1970        2\n",
       "2017       25\n",
       "2018    84014\n",
       "2019     5890\n",
       "Name: dates, dtype: int64"
      ]
     },
     "execution_count": 20,
     "metadata": {},
     "output_type": "execute_result"
    }
   ],
   "source": [
    "# Look at distribution of dates\n",
    "product_descriptions['dates'].groupby(product_descriptions[\"dates\"].dt.year).count().plot(kind='bar')\n",
    "plt.show()\n",
    "product_descriptions['dates'].groupby(product_descriptions[\"dates\"].dt.year).count()"
   ]
  },
  {
   "cell_type": "code",
   "execution_count": 21,
   "metadata": {},
   "outputs": [
    {
     "data": {
      "image/png": "[encoded data removed]",
      "text/plain": [
       "<Figure size 432x288 with 1 Axes>"
      ]
     },
     "metadata": {},
     "output_type": "display_data"
    },
    {
     "data": {
      "text/plain": [
       "dates\n",
       "1    5890\n",
       "Name: dates, dtype: int64"
      ]
     },
     "execution_count": 21,
     "metadata": {},
     "output_type": "execute_result"
    }
   ],
   "source": [
    "# Plot the 2019 dates\n",
    "after_2019 = product_descriptions['dates'] > datetime(2019,1,1)\n",
    "after_2019_df = product_descriptions[after_2019]\n",
    "after_2019_df['dates'].groupby(after_2019_df[\"dates\"].dt.month).count().plot(kind='bar')\n",
    "plt.show()\n",
    "\n",
    "after_2019_df['dates'].groupby(after_2019_df[\"dates\"].dt.month).count()\n",
    "\n",
    "#after_2019"
   ]
  },
  {
   "cell_type": "code",
   "execution_count": 22,
   "metadata": {},
   "outputs": [
    {
     "data": {
      "image/png": "[encoded data removed]",
      "text/plain": [
       "<Figure size 432x288 with 1 Axes>"
      ]
     },
     "metadata": {},
     "output_type": "display_data"
    }
   ],
   "source": [
    "# Plot the 2017 dates\n",
    "before_2018 = product_descriptions['dates'] < datetime(2018,1,1)\n",
    "after_2016 = product_descriptions['dates'] > datetime(2016,12,31)\n",
    "in_2017_df = product_descriptions[after_2016 & before_2018]\n",
    "in_2017_df['dates'].groupby(in_2017_df[\"dates\"].dt.month).count().plot(kind='bar')\n",
    "plt.ylabel('Number of Listings')\n",
    "plt.xlabel('Month')\n",
    "plt.show()"
   ]
  },
  {
   "cell_type": "code",
   "execution_count": 23,
   "metadata": {},
   "outputs": [],
   "source": [
    "# Filter out the 1969/1970/2019 dates\n",
    "# good_dates = product_desci\n",
    "before_2019 = product_descriptions['dates'] < datetime(2019,2,1)\n",
    "after_2017 = product_descriptions['dates'] > datetime(2018,4,1)\n",
    "df = product_descriptions[before_2019 & after_2017]"
   ]
  },
  {
   "cell_type": "code",
   "execution_count": 24,
   "metadata": {},
   "outputs": [
    {
     "data": {
      "image/png": "[encoded data removed]",
      "text/plain": [
       "<Figure size 432x288 with 1 Axes>"
      ]
     },
     "metadata": {},
     "output_type": "display_data"
    },
    {
     "name": "stdout",
     "output_type": "stream",
     "text": [
      "dates\n",
      "1      5890\n",
      "4      2103\n",
      "5      4164\n",
      "6      4316\n",
      "7      4786\n",
      "8      8382\n",
      "9      9607\n",
      "10    13225\n",
      "11    16497\n",
      "12    20872\n",
      "Name: dates, dtype: int64\n"
     ]
    },
    {
     "data": {
      "text/plain": [
       "89842"
      ]
     },
     "execution_count": 24,
     "metadata": {},
     "output_type": "execute_result"
    }
   ],
   "source": [
    "# Plot 2018 dates\n",
    "df['dates'].groupby(df[\"dates\"].dt.month).count().plot(kind='bar')\n",
    "plt.show()\n",
    "\n",
    "monthly_listings = df['dates'].groupby(df[\"dates\"].dt.month).count()\n",
    "total_listings = sum(df['dates'].groupby(df[\"dates\"].dt.month).count())\n",
    "\n",
    "print(monthly_listings)\n",
    "total_listings\n",
    "#percentage_of_listings = "
   ]
  },
  {
   "cell_type": "code",
   "execution_count": 26,
   "metadata": {},
   "outputs": [
    {
     "data": {
      "text/html": [
       "<div>\n",
       "<style scoped>\n",
       "    .dataframe tbody tr th:only-of-type {\n",
       "        vertical-align: middle;\n",
       "    }\n",
       "\n",
       "    .dataframe tbody tr th {\n",
       "        vertical-align: top;\n",
       "    }\n",
       "\n",
       "    .dataframe thead th {\n",
       "        text-align: right;\n",
       "    }\n",
       "</style>\n",
       "<table border=\"1\" class=\"dataframe\">\n",
       "  <thead>\n",
       "    <tr style=\"text-align: right;\">\n",
       "      <th></th>\n",
       "      <th>0</th>\n",
       "      <th>1</th>\n",
       "      <th>2</th>\n",
       "      <th>3</th>\n",
       "      <th>4</th>\n",
       "      <th>5</th>\n",
       "      <th>6</th>\n",
       "      <th>7</th>\n",
       "      <th>8</th>\n",
       "      <th>9</th>\n",
       "      <th>10</th>\n",
       "      <th>11</th>\n",
       "      <th>12</th>\n",
       "      <th>13</th>\n",
       "      <th>14</th>\n",
       "      <th>15</th>\n",
       "      <th>dates</th>\n",
       "      <th>tokenized_titles</th>\n",
       "      <th>drug_prediction</th>\n",
       "    </tr>\n",
       "  </thead>\n",
       "  <tbody>\n",
       "    <tr>\n",
       "      <th>9430</th>\n",
       "      <td>'10528</td>\n",
       "      <td>1</td>\n",
       "      <td>590</td>\n",
       "      <td>superclr</td>\n",
       "      <td>#####</td>\n",
       "      <td>5.0</td>\n",
       "      <td>Vendor did a great job 5 across the board exce...</td>\n",
       "      <td>20181102064301</td>\n",
       "      <td>-1.0</td>\n",
       "      <td>416.000</td>\n",
       "      <td>-1.0</td>\n",
       "      <td>-1</td>\n",
       "      <td>-1</td>\n",
       "      <td>110</td>\n",
       "      <td>714882.72220</td>\n",
       "      <td>5 GRAMS GRADE AAA+ CARTEL TAN POWDER HEROIN</td>\n",
       "      <td>2018-11-02 06:43:01</td>\n",
       "      <td>[5, grams, grade, aaa+, cartel, tan, powder, h...</td>\n",
       "      <td>[heroin]</td>\n",
       "    </tr>\n",
       "    <tr>\n",
       "      <th>9431</th>\n",
       "      <td>'10529</td>\n",
       "      <td>1</td>\n",
       "      <td>590</td>\n",
       "      <td>superclr</td>\n",
       "      <td>#####</td>\n",
       "      <td>5.0</td>\n",
       "      <td>GREAT</td>\n",
       "      <td>20181110064301</td>\n",
       "      <td>-1.0</td>\n",
       "      <td>416.000</td>\n",
       "      <td>-1.0</td>\n",
       "      <td>-1</td>\n",
       "      <td>-1</td>\n",
       "      <td>110</td>\n",
       "      <td>714882.72220</td>\n",
       "      <td>5 GRAMS GRADE AAA+ CARTEL TAN POWDER HEROIN</td>\n",
       "      <td>2018-11-10 06:43:01</td>\n",
       "      <td>[5, grams, grade, aaa+, cartel, tan, powder, h...</td>\n",
       "      <td>[heroin]</td>\n",
       "    </tr>\n",
       "    <tr>\n",
       "      <th>9432</th>\n",
       "      <td>'10530</td>\n",
       "      <td>1</td>\n",
       "      <td>1013</td>\n",
       "      <td>REAL_MEGASTORE</td>\n",
       "      <td>#####</td>\n",
       "      <td>5.0</td>\n",
       "      <td>Enter your comments here</td>\n",
       "      <td>20181227064306</td>\n",
       "      <td>-1.0</td>\n",
       "      <td>3.120</td>\n",
       "      <td>-1.0</td>\n",
       "      <td>-1</td>\n",
       "      <td>-1</td>\n",
       "      <td>111</td>\n",
       "      <td>141915.284891</td>\n",
       "      <td>?CRAVETV.CA? PREMIUM</td>\n",
       "      <td>2018-12-27 06:43:06</td>\n",
       "      <td>[?, cravetv.ca, ?, premium]</td>\n",
       "      <td>[]</td>\n",
       "    </tr>\n",
       "    <tr>\n",
       "      <th>9433</th>\n",
       "      <td>'10531</td>\n",
       "      <td>1</td>\n",
       "      <td>1013</td>\n",
       "      <td>REAL_MEGASTORE</td>\n",
       "      <td>#####</td>\n",
       "      <td>5.0</td>\n",
       "      <td>Enter your comments here</td>\n",
       "      <td>20181227064306</td>\n",
       "      <td>-1.0</td>\n",
       "      <td>3.120</td>\n",
       "      <td>-1.0</td>\n",
       "      <td>-1</td>\n",
       "      <td>-1</td>\n",
       "      <td>111</td>\n",
       "      <td>141915.284891</td>\n",
       "      <td>?CRAVETV.CA? PREMIUM</td>\n",
       "      <td>2018-12-27 06:43:06</td>\n",
       "      <td>[?, cravetv.ca, ?, premium]</td>\n",
       "      <td>[]</td>\n",
       "    </tr>\n",
       "    <tr>\n",
       "      <th>9435</th>\n",
       "      <td>'10533</td>\n",
       "      <td>1</td>\n",
       "      <td>92</td>\n",
       "      <td>OnionKings</td>\n",
       "      <td>#####</td>\n",
       "      <td>5.0</td>\n",
       "      <td>Toppklass!! Snabb leverans. Allt perfekt!!!</td>\n",
       "      <td>20181221064311</td>\n",
       "      <td>-1.0</td>\n",
       "      <td>109.119</td>\n",
       "      <td>-1.0</td>\n",
       "      <td>-1</td>\n",
       "      <td>-1</td>\n",
       "      <td>112</td>\n",
       "      <td>812534.21917</td>\n",
       "      <td>Rivotril 2mg från apotek (Roche) [100st]</td>\n",
       "      <td>2018-12-21 06:43:11</td>\n",
       "      <td>[rivotril, 2, mg, från, apotek, (, roche, ), [...</td>\n",
       "      <td>[benzodiazepines]</td>\n",
       "    </tr>\n",
       "  </tbody>\n",
       "</table>\n",
       "</div>"
      ],
      "text/plain": [
       "           0  1     2               3      4    5  \\\n",
       "9430  '10528  1   590        superclr  #####  5.0   \n",
       "9431  '10529  1   590        superclr  #####  5.0   \n",
       "9432  '10530  1  1013  REAL_MEGASTORE  #####  5.0   \n",
       "9433  '10531  1  1013  REAL_MEGASTORE  #####  5.0   \n",
       "9435  '10533  1    92      OnionKings  #####  5.0   \n",
       "\n",
       "                                                      6               7    8  \\\n",
       "9430  Vendor did a great job 5 across the board exce...  20181102064301 -1.0   \n",
       "9431                                              GREAT  20181110064301 -1.0   \n",
       "9432                           Enter your comments here  20181227064306 -1.0   \n",
       "9433                           Enter your comments here  20181227064306 -1.0   \n",
       "9435        Toppklass!! Snabb leverans. Allt perfekt!!!  20181221064311 -1.0   \n",
       "\n",
       "            9   10  11  12   13             14  \\\n",
       "9430  416.000 -1.0  -1  -1  110   714882.72220   \n",
       "9431  416.000 -1.0  -1  -1  110   714882.72220   \n",
       "9432    3.120 -1.0  -1  -1  111  141915.284891   \n",
       "9433    3.120 -1.0  -1  -1  111  141915.284891   \n",
       "9435  109.119 -1.0  -1  -1  112   812534.21917   \n",
       "\n",
       "                                               15               dates  \\\n",
       "9430  5 GRAMS GRADE AAA+ CARTEL TAN POWDER HEROIN 2018-11-02 06:43:01   \n",
       "9431  5 GRAMS GRADE AAA+ CARTEL TAN POWDER HEROIN 2018-11-10 06:43:01   \n",
       "9432                         ?CRAVETV.CA? PREMIUM 2018-12-27 06:43:06   \n",
       "9433                         ?CRAVETV.CA? PREMIUM 2018-12-27 06:43:06   \n",
       "9435     Rivotril 2mg från apotek (Roche) [100st] 2018-12-21 06:43:11   \n",
       "\n",
       "                                       tokenized_titles    drug_prediction  \n",
       "9430  [5, grams, grade, aaa+, cartel, tan, powder, h...           [heroin]  \n",
       "9431  [5, grams, grade, aaa+, cartel, tan, powder, h...           [heroin]  \n",
       "9432                        [?, cravetv.ca, ?, premium]                 []  \n",
       "9433                        [?, cravetv.ca, ?, premium]                 []  \n",
       "9435  [rivotril, 2, mg, från, apotek, (, roche, ), [...  [benzodiazepines]  "
      ]
     },
     "execution_count": 26,
     "metadata": {},
     "output_type": "execute_result"
    }
   ],
   "source": [
    "df.shape\n",
    "df.head()"
   ]
  },
  {
   "cell_type": "code",
   "execution_count": 26,
   "metadata": {},
   "outputs": [],
   "source": [
    "# Get subset of columns that we care about\n",
    "drug_data = copy.deepcopy(df.iloc[:,[0,2,3,15,16,18]])\n",
    "drug_data.columns = ['transaction_id','vendor_id','vendor_name', 'product_description','date', 'drug_prediction']"
   ]
  },
  {
   "cell_type": "markdown",
   "metadata": {},
   "source": [
    "Pickle the dataframe (so that it can be used in another file)"
   ]
  },
  {
   "cell_type": "code",
   "execution_count": 27,
   "metadata": {},
   "outputs": [],
   "source": [
    "# product_descriptions.head()"
   ]
  },
  {
   "cell_type": "code",
   "execution_count": 28,
   "metadata": {},
   "outputs": [],
   "source": [
    "import pickle\n",
    "file = open('drug_data','wb')\n",
    "pickle.dump(drug_data, file)\n",
    "file.close()"
   ]
  }
 ],
 "metadata": {
  "kernelspec": {
   "display_name": "Python 3",
   "language": "python",
   "name": "python3"
  },
  "language_info": {
   "codemirror_mode": {
    "name": "ipython",
    "version": 3
   },
   "file_extension": ".py",
   "mimetype": "text/x-python",
   "name": "python",
   "nbconvert_exporter": "python",
   "pygments_lexer": "ipython3",
   "version": "3.6.5"
  }
 },
 "nbformat": 4,
 "nbformat_minor": 1
}
