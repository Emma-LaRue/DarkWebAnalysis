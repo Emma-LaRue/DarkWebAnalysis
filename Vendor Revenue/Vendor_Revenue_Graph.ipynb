{
 "cells": [
  {
   "cell_type": "code",
   "execution_count": 1,
   "metadata": {},
   "outputs": [],
   "source": [
    "## This code filters vendor revenue by 100k, 50k, and 25k for all listings in the Dream market\n",
    "## Then a pie chart was made with plotly"
   ]
  },
  {
   "cell_type": "code",
   "execution_count": 2,
   "metadata": {},
   "outputs": [],
   "source": [
    "#import necessary libraries\n",
    "import numpy as np\n",
    "import pandas as pd\n",
    "import matplotlib.pyplot as plt\n",
    "\n",
    "import plotly\n",
    "import plotly.plotly as py\n",
    "import plotly.graph_objs as go \n",
    "\n",
    "from datetime import datetime\n",
    "\n",
    "import pickle\n",
    "# plotly was used to make the pie chart\n",
    "#plotly.tools.set_credentials_file(username='', api_key='')"
   ]
  },
  {
   "cell_type": "code",
   "execution_count": 3,
   "metadata": {},
   "outputs": [],
   "source": [
    "#read data from pickle\n",
    "file = open('drug_df' , 'rb') #changed from drug_df\n",
    "filtered_data = pickle.load(file)"
   ]
  },
  {
   "cell_type": "code",
   "execution_count": 4,
   "metadata": {},
   "outputs": [
    {
     "data": {
      "text/plain": [
       "transaction_id         77279\n",
       "vendor_id              77279\n",
       "vendor_name            77279\n",
       "bitcoin                77279\n",
       "USD                    77279\n",
       "product_description    77279\n",
       "date                   77279\n",
       "drug_prediction        77279\n",
       "rating                 77279\n",
       "feedback               77279\n",
       "buyer_name             77279\n",
       "drug_cats              77279\n",
       "dtype: int64"
      ]
     },
     "execution_count": 4,
     "metadata": {},
     "output_type": "execute_result"
    }
   ],
   "source": [
    "#Order the listings by date\n",
    "filtered_data = filtered_data.sort_values(by=['date'])\n",
    "\n",
    "#See what dataframe looks like\n",
    "filtered_data.count()"
   ]
  },
  {
   "cell_type": "code",
   "execution_count": 5,
   "metadata": {},
   "outputs": [],
   "source": [
    "#removing not_drugs and uncategorizable_listings\n",
    "def isDrug(categoryList):\n",
    "    return('not_drugs' not in categoryList)\n",
    "row_is_drug = filtered_data['drug_prediction'].apply(isDrug)\n",
    "filtered_data = filtered_data[row_is_drug]\n",
    "\n",
    "def isDrug(categoryList):\n",
    "    return('uncategorizable_listing' not in categoryList)\n",
    "row_is_drug = filtered_data['drug_prediction'].apply(isDrug)\n",
    "filtered_data = filtered_data[row_is_drug]"
   ]
  },
  {
   "cell_type": "code",
   "execution_count": 6,
   "metadata": {},
   "outputs": [],
   "source": [
    "sales_by_vendor = filtered_data['USD'].groupby(filtered_data['vendor_name']).sum()"
   ]
  },
  {
   "cell_type": "code",
   "execution_count": 7,
   "metadata": {},
   "outputs": [
    {
     "data": {
      "text/plain": [
       "vendor_name\n",
       "0hp1               5157.36\n",
       "1stopquickshop    22081.28\n",
       "24-7SmokeShop     16382.80\n",
       "25-7              15490.00\n",
       "2See                157.04\n",
       "                    ...   \n",
       "zealotxanax         104.00\n",
       "zenego              763.36\n",
       "zenon               565.76\n",
       "zoobida             894.30\n",
       "zouaves           78366.89\n",
       "Name: USD, Length: 1842, dtype: float64"
      ]
     },
     "execution_count": 7,
     "metadata": {},
     "output_type": "execute_result"
    }
   ],
   "source": [
    "sales_by_vendor"
   ]
  },
  {
   "cell_type": "code",
   "execution_count": 8,
   "metadata": {},
   "outputs": [
    {
     "name": "stdout",
     "output_type": "stream",
     "text": [
      "Vendors before thresholding: 1842\n",
      "Vendors after thresholding to 100k: 18\n",
      "Everyone else: 1824\n",
      "Vendors before thresholding: 1842\n",
      "Vendors after thresholding to 50k: 55\n",
      "Everyone else: 1787\n",
      "Vendors before thresholding: 1842\n",
      "Vendors after thresholding to 25k: 156\n",
      "Everyone else: 1686\n"
     ]
    }
   ],
   "source": [
    "thresh = 100000\n",
    "hundred_k = sales_by_vendor[sales_by_vendor > thresh]\n",
    "everyone_else100k = sales_by_vendor[sales_by_vendor < thresh]\n",
    "print('Vendors before thresholding:', len(sales_by_vendor))\n",
    "print('Vendors after thresholding to 100k:', len(hundred_k))\n",
    "print('Everyone else:', len(everyone_else100k))\n",
    "\n",
    "thresh = 50000\n",
    "fifty_k = sales_by_vendor[sales_by_vendor > thresh]\n",
    "everyone_else50k = sales_by_vendor[sales_by_vendor < thresh]\n",
    "print('Vendors before thresholding:', len(sales_by_vendor))\n",
    "print('Vendors after thresholding to 50k:', len(fifty_k))\n",
    "print('Everyone else:', len(everyone_else50k))\n",
    "\n",
    "thresh = 25000\n",
    "twentyfive_k = sales_by_vendor[sales_by_vendor > thresh]\n",
    "everyone_else25k = sales_by_vendor[sales_by_vendor < thresh]\n",
    "print('Vendors before thresholding:', len(sales_by_vendor))\n",
    "print('Vendors after thresholding to 25k:', len(twentyfive_k))\n",
    "print('Everyone else:', len(everyone_else25k))"
   ]
  },
  {
   "cell_type": "code",
   "execution_count": 9,
   "metadata": {},
   "outputs": [],
   "source": [
    "# Function checks if item is in the set\n",
    "def isInSet(item, myset):\n",
    "    return(item in myset)\n",
    "hundredk_vendor_names = list(hundred_k.index)\n",
    "# For every row, check if the vendor is in 100k set\n",
    "is_hundredk_rev_row = filtered_data['vendor_name'].apply(isInSet, myset = hundred_k.index)\n",
    "# Get dataframe with just the 100k set\n",
    "hundredk_filtered_data = filtered_data[is_hundredk_rev_row]\n",
    "\n",
    "\n",
    "# Function checks if item is in the set\n",
    "def isInSet(item, myset):\n",
    "    return(item in myset)\n",
    "fiftyk_vendor_names = list(fifty_k.index)\n",
    "# For every row, check if the vendor is in 50k set\n",
    "is_fiftyk_rev_row = filtered_data['vendor_name'].apply(isInSet, myset = fifty_k.index)\n",
    "# Get dataframe with just the 50k set\n",
    "fiftyk_filtered_data = filtered_data[is_fiftyk_rev_row]\n",
    "\n",
    "\n",
    "# Function checks if item is in the set\n",
    "def isInSet(item, myset):\n",
    "    return(item in myset)\n",
    "twentyfivek_vendor_names = list(twentyfive_k.index)\n",
    "# For every row, check if the vendor is in 25k set\n",
    "is_twentyfivek_rev_row = filtered_data['vendor_name'].apply(isInSet, myset = twentyfive_k.index)\n",
    "# Get dataframe with just the 25k set\n",
    "twentyfivek_filtered_data = filtered_data[is_twentyfivek_rev_row]"
   ]
  },
  {
   "cell_type": "code",
   "execution_count": 10,
   "metadata": {},
   "outputs": [],
   "source": [
    "def isInSet(item, myset):\n",
    "    return(item in myset)\n",
    "ee100k_vn = list(everyone_else100k.index)\n",
    "# For every row, check if the vendor is in 100k set\n",
    "is_ee100k_row = filtered_data['vendor_name'].apply(isInSet, myset = everyone_else100k.index)\n",
    "# Get dataframe with just the 100k set\n",
    "ee100k_filtered = filtered_data[is_ee100k_row]\n",
    "\n",
    "\n",
    "def isInSet(item, myset):\n",
    "    return(item in myset)\n",
    "ee50k_vn = list(everyone_else50k.index)\n",
    "# For every row, check if the vendor is in 50k set\n",
    "is_ee50k_row = filtered_data['vendor_name'].apply(isInSet, myset = everyone_else50k.index)\n",
    "# Get dataframe with just the 50k set\n",
    "ee50k_filtered = filtered_data[is_ee50k_row]\n",
    "\n",
    "\n",
    "def isInSet(item, myset):\n",
    "    return(item in myset)\n",
    "ee25k_vn = list(everyone_else25k.index)\n",
    "# For every row, check if the vendor is in 25k set\n",
    "is_ee25k_row = filtered_data['vendor_name'].apply(isInSet, myset = everyone_else25k.index)\n",
    "# Get dataframe with just the 25k set\n",
    "ee25k_filtered = filtered_data[is_ee25k_row]"
   ]
  },
  {
   "cell_type": "code",
   "execution_count": 11,
   "metadata": {},
   "outputs": [
    {
     "name": "stdout",
     "output_type": "stream",
     "text": [
      "12900864.249999998\n",
      "10213542.16\n",
      "6665852.08\n",
      "5793477.05\n",
      "9341167.129999999\n"
     ]
    }
   ],
   "source": [
    "#everyone else revenue\n",
    "#replace number below with this\n",
    "print(ee100k_filtered['USD'].sum())\n",
    "print(ee50k_filtered['USD'].sum())\n",
    "print(ee25k_filtered['USD'].sum())\n",
    "\n",
    "print(fiftyk_filtered_data['USD'].sum())\n",
    "print(twentyfivek_filtered_data['USD'].sum())"
   ]
  },
  {
   "cell_type": "code",
   "execution_count": 12,
   "metadata": {},
   "outputs": [],
   "source": [
    "everyone_else100k = ee100k_filtered.USD.sum()\n",
    "# Pass the row elements as key value pairs to append() function \n",
    "ee100k = hundredk_filtered_data.append({'vendor_name' : 'everyone else' , 'USD' : 12900864.25 } , ignore_index=True)\n",
    "\n",
    "everyone_else50k = ee50k_filtered.USD.sum()\n",
    "# Pass the row elements as key value pairs to append() function \n",
    "ee50k = fiftyk_filtered_data.append({'vendor_name' : 'everyone else' , 'USD' : 10213542.16 } , ignore_index=True)\n",
    "\n",
    "everyone_else25k = ee25k_filtered.USD.sum()\n",
    "# Pass the row elements as key value pairs to append() function \n",
    "ee25k = twentyfivek_filtered_data.append({'vendor_name' : 'everyone else' , 'USD' : 6665852.08 } , ignore_index=True)\n",
    "\n",
    "\n",
    "# Pass the row elements as key value pairs to append() function \n",
    "ee50k = fiftyk_filtered_data.append({'vendor_name' : '50K range' , 'USD' : 5793477.05 } , ignore_index=True)\n",
    "\n",
    "# Pass the row elements as key value pairs to append() function \n",
    "ee25k = twentyfivek_filtered_data.append({'vendor_name' : '25K range' , 'USD' : 9341167.13 } , ignore_index=True)"
   ]
  },
  {
   "cell_type": "code",
   "execution_count": 14,
   "metadata": {},
   "outputs": [],
   "source": [
    "#then the pie chart is made in plotly\n",
    "#other settings were adjusted in plotly window, not here\n",
    "\n",
    "# trace0 = go.Pie(\n",
    "#     labels = list(ee100k.vendor_name),\n",
    "#     values = list(ee100k.USD),\n",
    "#     textinfo = 'label+value'\n",
    "# )\n",
    "\n",
    "# trace1 = go.Pie(\n",
    "#     labels = list(ee50k.vendor_name),\n",
    "#     values = list(ee50k.USD),\n",
    "#     textinfo = 'label+value'\n",
    "# )\n",
    "\n",
    "# trace2 = go.Pie(\n",
    "#     labels = list(ee25k.vendor_name),\n",
    "#     values = list(ee25k.USD),\n",
    "#     textinfo = 'label+value'\n",
    "# )\n",
    "\n",
    "# layout = go.Layout(\n",
    "#     title='USD Revenue Generated by Top 20 Vendors',\n",
    "#     extendpiecolors = True,\n",
    "#     autosize = False,\n",
    "#     width = 1200,\n",
    "#     height = 1200,\n",
    "#     margin=go.layout.Margin(\n",
    "#         l=150,\n",
    "#         r=100,\n",
    "#         b=100,\n",
    "#         t=100,\n",
    "#         pad=0\n",
    "#         )\n",
    "# )\n",
    "\n",
    "# data = [trace0, trace1, trace2]\n",
    "# fig = go.Figure(data=data, layout=layout)\n",
    "# py.iplot(fig, filename='Vendor Revenue Pie')"
   ]
  }
 ],
 "metadata": {
  "kernelspec": {
   "display_name": "Python 3",
   "language": "python",
   "name": "python3"
  },
  "language_info": {
   "codemirror_mode": {
    "name": "ipython",
    "version": 3
   },
   "file_extension": ".py",
   "mimetype": "text/x-python",
   "name": "python",
   "nbconvert_exporter": "python",
   "pygments_lexer": "ipython3",
   "version": "3.7.4"
  }
 },
 "nbformat": 4,
 "nbformat_minor": 2
}
