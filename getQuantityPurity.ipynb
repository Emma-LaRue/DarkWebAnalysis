{
 "cells": [
  {
   "cell_type": "markdown",
   "metadata": {},
   "source": [
    "The purpose of this script is to compare darkweb market prices to street market prices, and to use this to estimate whether a vendor is selling wholesale or retail.\n",
    "\n",
    "First, get the purity and quantity for each product review. Then standardize so that each listing is the cost per unit."
   ]
  },
  {
   "cell_type": "code",
   "execution_count": 1,
   "metadata": {},
   "outputs": [],
   "source": [
    "import numpy as np\n",
    "import pandas as pd\n",
    "import matplotlib.pyplot as plt\n",
    "from itertools import compress\n",
    "\n",
    "from datetime import datetime\n",
    "from dateutil.parser import parse\n",
    "\n",
    "import math\n",
    "import os\n",
    "import copy\n",
    "import pickle"
   ]
  },
  {
   "cell_type": "markdown",
   "metadata": {},
   "source": [
    "## Import data"
   ]
  },
  {
   "cell_type": "code",
   "execution_count": 2,
   "metadata": {},
   "outputs": [],
   "source": [
    "file = open('drug_df', 'rb')\n",
    "drug_df = pickle.load(file)"
   ]
  },
  {
   "cell_type": "markdown",
   "metadata": {},
   "source": [
    "# Purity / Quantity extraction"
   ]
  },
  {
   "cell_type": "code",
   "execution_count": 3,
   "metadata": {},
   "outputs": [],
   "source": [
    "import re"
   ]
  },
  {
   "cell_type": "code",
   "execution_count": 4,
   "metadata": {},
   "outputs": [],
   "source": [
    "# Metrics to check for \n",
    "metrics = ['µg','¬µg','kg','kilo','pound','ounce','ug','¬ug','oz','lb','mcg','mg','g']\n",
    "str_pattern = '' # initialize regex pattern\n",
    "for m in metrics: # iteratively build regex pattern\n",
    "    str_pattern += '[\\d/.]+\\s?' + m + '|'\n",
    "#     str_pattern += '\\d+\\.?/?\\d+\\s?' + m + '|'\n",
    "#     str_pattern += '\\d*[\\.?][\\d*][\\s?]' + m + '|' '\\d+[/?][\\d+][\\s?]' + m + '|'\n",
    "str_pattern = str_pattern[:-1] # trim last character\n",
    "new_pat = re.compile(str_pattern, re.IGNORECASE) #compile the pattern\n",
    "\n",
    "# Special characters to be removed\n",
    "special_char =['`','\\'','=','-','~','!','@','#','$','^','&','*','_','+','[',']','{','}',';','\\\\',':','|','<','<','>','?','//']\n",
    "\n",
    "# Function to remove special characters\n",
    "def remove_special_char(string):\n",
    "    for char in special_char:\n",
    "        string = string.replace(char,' ')\n",
    "    string = string.replace(',','.')\n",
    "    return(string)\n",
    "\n",
    "# Define function to apply the pattern\n",
    "def getMass(my_string):\n",
    "    s = remove_special_char(my_string)\n",
    "    match = new_pat.search(s)\n",
    "    if match is not None:\n",
    "        return(match.group().lower())\n",
    "    else:\n",
    "        return(match)\n",
    "    \n",
    "    \n",
    "# Now try to find the count of each product description\n",
    "# string = 'there are 30 TaBlets in the package'\n",
    "countMetrics = ['pills','tabs','tablets','trips','amps','x','st','pc']\n",
    "count_pattern = '' # initialize regex pattern\n",
    "for m in countMetrics: # iteratively build regex pattern\n",
    "    count_pattern += '\\d+\\s?' + m + '|'\n",
    "count_pattern = count_pattern + 'x\\s?\\d+|\\(\\d+\\)' \n",
    "count_pattern = re.compile(count_pattern, re.IGNORECASE)\n",
    "number_pattern = re.compile('\\d+',re.IGNORECASE) # pattern to extract the number from count\n",
    "# Define function to apply the pattern\n",
    "def getCount(my_string):\n",
    "    s = remove_special_char(my_string)\n",
    "    match = count_pattern.search(s)\n",
    "    if match is not None:\n",
    "        count = match.group().lower()\n",
    "        return(float(number_pattern.search(count).group()))"
   ]
  },
  {
   "cell_type": "markdown",
   "metadata": {},
   "source": [
    "Create `conversion` dictionary, containing conversion from every metric to grams"
   ]
  },
  {
   "cell_type": "code",
   "execution_count": 5,
   "metadata": {},
   "outputs": [],
   "source": [
    "metrics = ['µg','¬µg','kg','kilo','pound','ounce','ug','¬ug','oz','lb','mcg','mg','g']\n",
    "ug_metrics = ['µg','¬µg','ug','¬ug','mcg']\n",
    "ug_rate = 1/1000000\n",
    "mg_metrics = ['mg']\n",
    "mg_rate = 1/1000\n",
    "kg_metrics = ['kg','kilo']\n",
    "kg_rate = 1000\n",
    "oz_metrics = ['ounce','oz']\n",
    "oz_rate = 28.35\n",
    "lb_metrics = ['lb','pound']\n",
    "lb_rate = 453.592\n",
    "\n",
    "# Create conversion dictionary for each metric\n",
    "ug_conversion_dict = {ug_metric:ug_rate for ug_metric in ug_metrics}\n",
    "mg_conversion_dict = {mg_metric:mg_rate for mg_metric in mg_metrics}\n",
    "kg_conversion_dict = {kg_metric:kg_rate for kg_metric in kg_metrics}\n",
    "oz_conversion_dict = {oz_metric:oz_rate for oz_metric in oz_metrics}\n",
    "lb_conversion_dict = {lb_metric:lb_rate for lb_metric in lb_metrics}\n",
    "\n",
    "# Create 'master' conversion dictionary\n",
    "conversion_dict = dict()\n",
    "conversion_dict.update(ug_conversion_dict)\n",
    "conversion_dict.update(mg_conversion_dict)\n",
    "conversion_dict.update(kg_conversion_dict)\n",
    "conversion_dict.update(oz_conversion_dict)\n",
    "conversion_dict.update(lb_conversion_dict)\n",
    "conversion_dict.update({'g':1})"
   ]
  },
  {
   "cell_type": "code",
   "execution_count": 6,
   "metadata": {},
   "outputs": [],
   "source": [
    "# Custom function to convert string numbers to floats\n",
    "# Deals with fractions, decimals, and whole numbers\n",
    "def to_float(string):\n",
    "    match = re.search(re.compile('/'), string)\n",
    "    if match is not None:\n",
    "        frac_split = string.split('/')\n",
    "        dec = float(frac_split[0])/float(frac_split[1])\n",
    "        return(dec) \n",
    "    else:\n",
    "        return(float(string))\n",
    "\n",
    "# Function to normalize the mass of drugs\n",
    "metrics = ['µg','¬µg','kg','kilo','pound','ounce','ug','¬ug','oz','lb','mcg','mg','g']\n",
    "quant = '2.5mg'\n",
    "letter_pattern = re.compile('[^0-9./\\s]+')\n",
    "quant_pattern = re.compile('[.]?[0-9/]+[.]?[0-9]*')\n",
    "\n",
    "# Function to convert product's mass to mass in grams\n",
    "def normalize_mass(mass_string):\n",
    "    # Args: string respresenting a product's mass (string contains unit)\n",
    "#     Returns: float representing the product's mass in grams\n",
    "    if mass_string is not None: # Check that the string exists\n",
    "        if mass_string[0] != '/': # Valid mass measurements do not have '/' as first character\n",
    "            metric_string = letter_pattern.search(mass_string) # search for the metric in mass_string\n",
    "            if metric_string is not None: # check that mass_string contains a metric\n",
    "                metric_string = metric_string.group() # get the metric\n",
    "                rate = conversion_dict[metric_string] # get the rate to convert from given metric to grams\n",
    "                quant_string = quant_pattern.search(mass_string) # search for the number from the mass string\n",
    "                if quant_string is not None: # check that the number exists\n",
    "                    quant_string = quant_string.group() # get the number\n",
    "                    first_last = [quant_string[0], quant_string[-1]] # Get the first and last character\n",
    "                    # Ensure that '/' is not the first or last character\n",
    "                    if ('/' not in first_last) and (re.compile('\\d').search(quant_string) is not None):\n",
    "                        quant = to_float(quant_string) # convert quantity to float\n",
    "                        return(quant * rate) # convert quantity to mass in grams"
   ]
  },
  {
   "cell_type": "code",
   "execution_count": 7,
   "metadata": {},
   "outputs": [],
   "source": [
    "l = pd.DataFrame({'title':pd.unique(drug_df['product_description'])})\n",
    "l['unit_mass'] = l['title'].apply(getMass)\n",
    "l['unit_mass_grams'] = l['unit_mass'].apply(normalize_mass)\n",
    "l['count'] = l['title'].apply(getCount)\n",
    "l['total_mass'] = l['unit_mass_grams'] * l['count']\n",
    "for idx, row in l.iterrows():\n",
    "    if math.isnan(row['total_mass']) and not(math.isnan(row['unit_mass_grams'])):\n",
    "        l.loc[idx,'total_mass'] = row['unit_mass_grams']\n",
    "l.to_csv('l.csv')"
   ]
  },
  {
   "cell_type": "markdown",
   "metadata": {},
   "source": [
    "##  Extract price information"
   ]
  },
  {
   "cell_type": "code",
   "execution_count": 8,
   "metadata": {},
   "outputs": [
    {
     "name": "stderr",
     "output_type": "stream",
     "text": [
      "68378it [01:38, 691.23it/s] \n"
     ]
    }
   ],
   "source": [
    "from tqdm import tqdm\n",
    "\n",
    "drug_df['unit_mass'] = drug_df['product_description'].apply(getMass)\n",
    "drug_df['unit_mass_grams'] = drug_df['unit_mass'].apply(normalize_mass)\n",
    "drug_df['count'] = drug_df['product_description'].apply(getCount)\n",
    "drug_df['total_mass'] = drug_df['unit_mass_grams'] * drug_df['count']\n",
    "\n",
    "for idx, row in tqdm(drug_df.iterrows()):\n",
    "    if math.isnan(row['total_mass']) and not(math.isnan(row['unit_mass_grams'])):\n",
    "        drug_df.loc[idx,'total_mass'] = row['unit_mass_grams']\n",
    "        \n",
    "# Now calculate $ per gram for each listing\n",
    "drug_df['price_per_gram'] = drug_df['USD'] / drug_df['total_mass']"
   ]
  },
  {
   "cell_type": "code",
   "execution_count": 9,
   "metadata": {},
   "outputs": [],
   "source": [
    "import pickle\n",
    "file = open('drug_df_prices','wb')\n",
    "pickle.dump(drug_df, file)\n",
    "file.close()"
   ]
  }
 ],
 "metadata": {
  "kernelspec": {
   "display_name": "Python 3",
   "language": "python",
   "name": "python3"
  },
  "language_info": {
   "codemirror_mode": {
    "name": "ipython",
    "version": 3
   },
   "file_extension": ".py",
   "mimetype": "text/x-python",
   "name": "python",
   "nbconvert_exporter": "python",
   "pygments_lexer": "ipython3",
   "version": "3.6.5"
  }
 },
 "nbformat": 4,
 "nbformat_minor": 2
}
