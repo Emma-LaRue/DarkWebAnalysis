{
 "cells": [
  {
   "cell_type": "markdown",
   "metadata": {},
   "source": [
    "The purpose of this script is to compare darkweb market prices to street market prices, and to use this to estimate whether a vendor is selling wholesale or retail.\n",
    "\n",
    "First, get the purity and quantity for each product review. Then standardize so that each listing is the cost per unit."
   ]
  },
  {
   "cell_type": "code",
   "execution_count": 1,
   "metadata": {},
   "outputs": [],
   "source": [
    "import numpy as np\n",
    "import pandas as pd\n",
    "import matplotlib.pyplot as plt\n",
    "from itertools import compress\n",
    "\n",
    "from datetime import datetime\n",
    "from dateutil.parser import parse\n",
    "\n",
    "import math\n",
    "import os\n",
    "import copy\n",
    "import pickle"
   ]
  },
  {
   "cell_type": "markdown",
   "metadata": {},
   "source": [
    "## Import data"
   ]
  },
  {
   "cell_type": "code",
   "execution_count": 2,
   "metadata": {},
   "outputs": [],
   "source": [
    "file = open('drug_df', 'rb')\n",
    "drug_df = pickle.load(file)"
   ]
  },
  {
   "cell_type": "markdown",
   "metadata": {},
   "source": [
    "## Extract amount information\n",
    "First, extract quantity of each listing"
   ]
  },
  {
   "cell_type": "code",
   "execution_count": 3,
   "metadata": {},
   "outputs": [
    {
     "data": {
      "text/html": [
       "<div>\n",
       "<style scoped>\n",
       "    .dataframe tbody tr th:only-of-type {\n",
       "        vertical-align: middle;\n",
       "    }\n",
       "\n",
       "    .dataframe tbody tr th {\n",
       "        vertical-align: top;\n",
       "    }\n",
       "\n",
       "    .dataframe thead th {\n",
       "        text-align: right;\n",
       "    }\n",
       "</style>\n",
       "<table border=\"1\" class=\"dataframe\">\n",
       "  <thead>\n",
       "    <tr style=\"text-align: right;\">\n",
       "      <th></th>\n",
       "      <th>transaction_id</th>\n",
       "      <th>vendor_id</th>\n",
       "      <th>vendor_name</th>\n",
       "      <th>product_description</th>\n",
       "      <th>date</th>\n",
       "      <th>drug_prediction</th>\n",
       "    </tr>\n",
       "  </thead>\n",
       "  <tbody>\n",
       "    <tr>\n",
       "      <th>9430</th>\n",
       "      <td>'10528</td>\n",
       "      <td>590</td>\n",
       "      <td>superclr</td>\n",
       "      <td>5 GRAMS GRADE AAA+ CARTEL TAN POWDER HEROIN</td>\n",
       "      <td>2018-11-02 06:43:01</td>\n",
       "      <td>heroin</td>\n",
       "    </tr>\n",
       "    <tr>\n",
       "      <th>9431</th>\n",
       "      <td>'10529</td>\n",
       "      <td>590</td>\n",
       "      <td>superclr</td>\n",
       "      <td>5 GRAMS GRADE AAA+ CARTEL TAN POWDER HEROIN</td>\n",
       "      <td>2018-11-10 06:43:01</td>\n",
       "      <td>heroin</td>\n",
       "    </tr>\n",
       "    <tr>\n",
       "      <th>9435</th>\n",
       "      <td>'10533</td>\n",
       "      <td>92</td>\n",
       "      <td>OnionKings</td>\n",
       "      <td>Rivotril 2mg från apotek (Roche) [100st]</td>\n",
       "      <td>2018-12-21 06:43:11</td>\n",
       "      <td>benzodiazepines</td>\n",
       "    </tr>\n",
       "    <tr>\n",
       "      <th>9437</th>\n",
       "      <td>'10535</td>\n",
       "      <td>92</td>\n",
       "      <td>OnionKings</td>\n",
       "      <td>Rivotril 2mg från apotek (Roche) [100st]</td>\n",
       "      <td>2018-12-22 06:43:11</td>\n",
       "      <td>benzodiazepines</td>\n",
       "    </tr>\n",
       "    <tr>\n",
       "      <th>9439</th>\n",
       "      <td>'10537</td>\n",
       "      <td>92</td>\n",
       "      <td>OnionKings</td>\n",
       "      <td>Rivotril 2mg från apotek (Roche) [100st]</td>\n",
       "      <td>2018-12-01 06:43:11</td>\n",
       "      <td>benzodiazepines</td>\n",
       "    </tr>\n",
       "  </tbody>\n",
       "</table>\n",
       "</div>"
      ],
      "text/plain": [
       "     transaction_id  vendor_id vendor_name  \\\n",
       "9430         '10528        590    superclr   \n",
       "9431         '10529        590    superclr   \n",
       "9435         '10533         92  OnionKings   \n",
       "9437         '10535         92  OnionKings   \n",
       "9439         '10537         92  OnionKings   \n",
       "\n",
       "                              product_description                date  \\\n",
       "9430  5 GRAMS GRADE AAA+ CARTEL TAN POWDER HEROIN 2018-11-02 06:43:01   \n",
       "9431  5 GRAMS GRADE AAA+ CARTEL TAN POWDER HEROIN 2018-11-10 06:43:01   \n",
       "9435     Rivotril 2mg från apotek (Roche) [100st] 2018-12-21 06:43:11   \n",
       "9437     Rivotril 2mg från apotek (Roche) [100st] 2018-12-22 06:43:11   \n",
       "9439     Rivotril 2mg från apotek (Roche) [100st] 2018-12-01 06:43:11   \n",
       "\n",
       "      drug_prediction  \n",
       "9430           heroin  \n",
       "9431           heroin  \n",
       "9435  benzodiazepines  \n",
       "9437  benzodiazepines  \n",
       "9439  benzodiazepines  "
      ]
     },
     "execution_count": 3,
     "metadata": {},
     "output_type": "execute_result"
    }
   ],
   "source": [
    "drug_df.head()"
   ]
  },
  {
   "cell_type": "markdown",
   "metadata": {},
   "source": [
    "# Purity / Quantity extraction"
   ]
  },
  {
   "cell_type": "code",
   "execution_count": 4,
   "metadata": {},
   "outputs": [],
   "source": [
    "import re"
   ]
  },
  {
   "cell_type": "code",
   "execution_count": 5,
   "metadata": {},
   "outputs": [],
   "source": [
    "# def tokenize(string):\n",
    "#     return remove_special_char(string).split()"
   ]
  },
  {
   "cell_type": "code",
   "execution_count": 6,
   "metadata": {},
   "outputs": [],
   "source": [
    "import re\n",
    "\n",
    "# Special characters to be removed\n",
    "special_char =['`','\\'','=','-','~','!','@','#','$','^','&','*','(',')','_','+','[',']','{','}',';','\\\\',':','|','<','<','>','?','//']\n",
    "\n",
    "# Function to remove special characters\n",
    "def remove_special_char(string):\n",
    "    for char in special_char:\n",
    "        string = string.replace(char,' ')\n",
    "    return(string)\n",
    "\n",
    "# Tokenize the title (including measurements)\n",
    "def tokenize(string):\n",
    "    # First remove special characters and split words\n",
    "    old_tokens = remove_special_char(string.lower()).split()\n",
    "    new_tokens = [] # list to hold refined tokens\n",
    "    for token in old_tokens:\n",
    "        match = re.match(r\"([0-9,.]+)([a-z,%]+)\", token, re.I) # look for measurements\n",
    "        if match is not None: # if there is a match\n",
    "            temp = [match.group(1),match.group(2)] # get the groups\n",
    "            new_tokens += temp # add to the list of new tokens\n",
    "        else:\n",
    "            new_tokens.append(token) # otherwise keep the old token\n",
    "    return(new_tokens)\n",
    "\n",
    "# Get purity\n",
    "purity_metrics = ['%','percent']\n",
    "def getPurity(tokenized_title):\n",
    "    prev = '' # initialize previous token\n",
    "    purity = '' # initialize quantity\n",
    "    for token in tokenized_title:\n",
    "        if token in purity_metrics:\n",
    "            purity = prev+token # assume previous token is quantity\n",
    "        prev = token\n",
    "    return purity\n",
    "\n",
    "# Get quantity\n",
    "quantity_metrics = ['kg','g','g.','mg','mcg','ug','oz','lb', 'gram', 'gr','gr.', 'grams','pound','kilogram','ml']\n",
    "def getQuantity(tokenized_title):\n",
    "    prev = '' # initialize previous token\n",
    "    quantity = '' # initialize quantity\n",
    "    for token in tokenized_title:\n",
    "        if token in quantity_metrics:\n",
    "            quantity = prev+token # assume previous token is quantity\n",
    "        prev = token\n",
    "    return quantity"
   ]
  },
  {
   "cell_type": "code",
   "execution_count": 7,
   "metadata": {},
   "outputs": [],
   "source": [
    "drug_df['tokenized_titles'] = drug_df['product_description'].apply(tokenize)\n",
    "drug_df['quantity'] = drug_df['tokenized_titles'].apply(getQuantity)\n",
    "drug_df['purity'] = drug_df['tokenized_titles'].apply(getPurity)"
   ]
  },
  {
   "cell_type": "code",
   "execution_count": 8,
   "metadata": {},
   "outputs": [],
   "source": [
    "drug_df.to_csv('test_file.csv')"
   ]
  },
  {
   "cell_type": "code",
   "execution_count": 9,
   "metadata": {},
   "outputs": [],
   "source": [
    "def parse_titles(title):\n",
    "    tokens = parser(title.lower())\n",
    "    tokens = [token.orth_ for token in tokens if not token.orth_.isspace()]\n",
    "    return(tokens)\n",
    "\n",
    "import re\n",
    "\n",
    "metrics = ['kg ','g ','mg ','ug ','oz ','lb ', 'gram ', 'gr ', 'grams ','mcg ','tabs']\n",
    "\n",
    "def parse_titles2(title):\n",
    "    quantity = []\n",
    "    for metric in metrics:\n",
    "        match_index = title.find(metric)\n",
    "        if match_index != -1:\n",
    "            print(len(metric))\n",
    "            quantity.append(title[match_index-6:match_index+len(metric)])\n",
    "    return(quantity)\n",
    "\n",
    "\n",
    "def parse_titles3(title):\n",
    "    return title[title.find('%')-2:title.find('%')+1]"
   ]
  },
  {
   "cell_type": "code",
   "execution_count": 10,
   "metadata": {},
   "outputs": [],
   "source": [
    "# Metrics to check for \n",
    "metrics = ['µg','¬µg','kg','kilo','pound','ounce','ug','¬ug','oz','lb','mcg','mg','g']\n",
    "str_pattern = '' # initialize regex pattern\n",
    "for m in metrics: # iteratively build regex pattern\n",
    "    str_pattern += '[\\d/.]+\\s?' + m + '|'\n",
    "#     str_pattern += '\\d+\\.?/?\\d+\\s?' + m + '|'\n",
    "#     str_pattern += '\\d*[\\.?][\\d*][\\s?]' + m + '|' '\\d+[/?][\\d+][\\s?]' + m + '|'\n",
    "str_pattern = str_pattern[:-1] # trim last character\n",
    "new_pat = re.compile(str_pattern, re.IGNORECASE) #compile the pattern\n",
    "\n",
    "# Special characters to be removed\n",
    "special_char =['`','\\'','=','-','~','!','@','#','$','^','&','*','(',')','_','+','[',']','{','}',';','\\\\',':','|','<','<','>','?','//']\n",
    "\n",
    "# Function to remove special characters\n",
    "def remove_special_char(string):\n",
    "    for char in special_char:\n",
    "        string = string.replace(char,' ')\n",
    "    string = string.replace(',','.')\n",
    "    return(string)\n",
    "\n",
    "# Define function to apply the pattern\n",
    "def getMass(my_string):\n",
    "    s = remove_special_char(my_string)\n",
    "    match = new_pat.search(s)\n",
    "    if match is not None:\n",
    "        return(match.group().lower())\n",
    "    else:\n",
    "        return(match)\n",
    "    \n",
    "    \n",
    "# Now try to find the count of each product description\n",
    "# string = 'there are 30 TaBlets in the package'\n",
    "countMetrics = ['pills','tabs','tablets','x','st','pc']\n",
    "count_pattern = '' # initialize regex pattern\n",
    "for m in countMetrics: # iteratively build regex pattern\n",
    "    count_pattern += '\\d+\\s?' + m + '|'\n",
    "count_pattern = count_pattern + 'x\\s?\\d+' \n",
    "count_pattern = re.compile(count_pattern, re.IGNORECASE)\n",
    "number_pattern = re.compile('\\d+',re.IGNORECASE) # pattern to extract the number from count\n",
    "# Define function to apply the pattern\n",
    "def getCount(my_string):\n",
    "    s = remove_special_char(my_string)\n",
    "    match = count_pattern.search(s)\n",
    "    if match is not None:\n",
    "        count = match.group().lower()\n",
    "        return(float(number_pattern.search(count).group()))"
   ]
  },
  {
   "cell_type": "markdown",
   "metadata": {},
   "source": [
    "Create `conversion` dictionary, containing conversion from every metric to grams"
   ]
  },
  {
   "cell_type": "code",
   "execution_count": 11,
   "metadata": {},
   "outputs": [],
   "source": [
    "metrics = ['µg','¬µg','kg','kilo','pound','ounce','ug','¬ug','oz','lb','mcg','mg','g']\n",
    "ug_metrics = ['µg','¬µg','ug','¬ug','mcg']\n",
    "ug_rate = 1/1000000\n",
    "mg_metrics = ['mg']\n",
    "mg_rate = 1/1000\n",
    "kg_metrics = ['kg','kilo']\n",
    "kg_rate = 1000\n",
    "oz_metrics = ['ounce','oz']\n",
    "oz_rate = 28.35\n",
    "lb_metrics = ['lb','pound']\n",
    "lb_rate = 453.592\n",
    "\n",
    "# Create conversion dictionary for each metric\n",
    "ug_conversion_dict = {ug_metric:ug_rate for ug_metric in ug_metrics}\n",
    "mg_conversion_dict = {mg_metric:mg_rate for mg_metric in mg_metrics}\n",
    "kg_conversion_dict = {kg_metric:kg_rate for kg_metric in kg_metrics}\n",
    "oz_conversion_dict = {oz_metric:oz_rate for oz_metric in oz_metrics}\n",
    "lb_conversion_dict = {lb_metric:lb_rate for lb_metric in lb_metrics}\n",
    "\n",
    "# Create 'master' conversion dictionary\n",
    "conversion_dict = dict()\n",
    "conversion_dict.update(ug_conversion_dict)\n",
    "conversion_dict.update(mg_conversion_dict)\n",
    "conversion_dict.update(kg_conversion_dict)\n",
    "conversion_dict.update(oz_conversion_dict)\n",
    "conversion_dict.update(lb_conversion_dict)\n",
    "conversion_dict.update({'g':1})"
   ]
  },
  {
   "cell_type": "code",
   "execution_count": 12,
   "metadata": {},
   "outputs": [],
   "source": [
    "def to_float(string):\n",
    "    match = re.search(re.compile('/'), string)\n",
    "    if match is not None:\n",
    "        frac_split = string.split('/')\n",
    "        dec = float(frac_split[0])/float(frac_split[1])\n",
    "        return(dec) \n",
    "    else:\n",
    "        return(float(string))\n",
    "\n",
    "# Function to normalize the mass of drugs\n",
    "metrics = ['µg','¬µg','kg','kilo','pound','ounce','ug','¬ug','oz','lb','mcg','mg','g']\n",
    "quant = '2.5mg'\n",
    "letter_pattern = re.compile('[^0-9./\\s]+')\n",
    "quant_pattern = re.compile('[.]?[0-9/]+[.]?[0-9]*')\n",
    "\n",
    "def normalize_mass(mass_string):\n",
    "    if mass_string is not None:\n",
    "        if mass_string[0] == '/':\n",
    "            return(None)\n",
    "        else:\n",
    "            metric_string = letter_pattern.search(mass_string)\n",
    "            if metric_string is not None:\n",
    "                metric_string = metric_string.group()\n",
    "                rate = conversion_dict[metric_string]\n",
    "                quant_string = quant_pattern.search(mass_string)\n",
    "                if quant_string is not None:\n",
    "                    quant_string = quant_string.group()\n",
    "                    first_last = [quant_string[0], quant_string[-1]]\n",
    "                    if ('/' not in first_last) and (re.compile('\\d').search(quant_string) is not None):\n",
    "                        quant = to_float(quant_string)\n",
    "                        return(quant * rate)"
   ]
  },
  {
   "cell_type": "code",
   "execution_count": 13,
   "metadata": {},
   "outputs": [],
   "source": [
    "l = pd.DataFrame({'title':pd.unique(drug_df['product_description'])})\n",
    "# l['tokenized_titles'] = l['title'].apply(tokenize)\n",
    "# l['quantity1'] = l['tokenized_titles'].apply(getQuantity)\n",
    "l['unit_mass'] = l['title'].apply(getMass)\n",
    "l['unit_mass_grams'] = l['unit_mass'].apply(normalize_mass)\n",
    "l['count'] = l['title'].apply(getCount)\n",
    "l['total_mass'] = l['unit_mass_grams'] * l['count']\n",
    "for idx, row in l.iterrows():\n",
    "    if math.isnan(row['total_mass']) and not(math.isnan(row['unit_mass_grams'])):\n",
    "        l.loc[idx,'total_mass'] = row['unit_mass_grams']\n",
    "l.to_csv('l.csv')"
   ]
  }
 ],
 "metadata": {
  "kernelspec": {
   "display_name": "Python 3",
   "language": "python",
   "name": "python3"
  },
  "language_info": {
   "codemirror_mode": {
    "name": "ipython",
    "version": 3
   },
   "file_extension": ".py",
   "mimetype": "text/x-python",
   "name": "python",
   "nbconvert_exporter": "python",
   "pygments_lexer": "ipython3",
   "version": "3.6.5"
  }
 },
 "nbformat": 4,
 "nbformat_minor": 2
}
